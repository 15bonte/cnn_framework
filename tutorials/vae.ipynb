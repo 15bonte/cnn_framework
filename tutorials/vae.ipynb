{
 "cells": [
  {
   "cell_type": "markdown",
   "metadata": {},
   "source": [
    "# VAE"
   ]
  },
  {
   "cell_type": "code",
   "execution_count": 1,
   "metadata": {},
   "outputs": [],
   "source": [
    "import os\n",
    "\n",
    "from pythae.pipelines import TrainingPipeline\n",
    "from pythae.trainers import BaseTrainerConfig\n",
    "from pythae.trainers.training_callbacks import WandbCallback\n",
    "from pythae.models import AutoModel, BetaVAE, BetaVAEConfig\n",
    "\n",
    "from cnn_framework.dummy_vae_model.data_set import DummyVAEDataSet\n",
    "from cnn_framework.dummy_vae_model.model_params import DummyVAEModelParams\n",
    "\n",
    "from cnn_framework.dummy_vae_model.decoder import CustomDecoder\n",
    "from cnn_framework.dummy_vae_model.encoder import CustomEncoder\n",
    "\n",
    "from cnn_framework.utils.data_managers.default_data_manager import DefaultDataManager\n",
    "from cnn_framework.utils.data_loader_generators.data_loader_generator import DataLoaderGenerator\n",
    "from cnn_framework.utils.metrics import MeanSquaredErrorMetric\n",
    "from cnn_framework.utils.model_managers.model_manager import ModelManager\n",
    "from cnn_framework.utils.model_managers.vae_model_manager import VAEModelManager\n",
    "from cnn_framework.utils.create_dummy_data_set import generate_data_set"
   ]
  },
  {
   "cell_type": "code",
   "execution_count": 2,
   "metadata": {},
   "outputs": [
    {
     "name": "stdout",
     "output_type": "stream",
     "text": [
      "Model time id: 20230906-150738-local\n",
      "epochs 30 | batch 2 | lr 0.0001 | weight decay 0.05 | dropout 0.0 | latent dim 16 | beta 1 | gamma 0 | delta 0 | depth 5 | kld loss standard | encoder name timm-efficientnet-b0\n",
      "\n",
      "Model will be saved in C:\\Users\\thoma\\models/local/dummy_vae/20230906-150738-local\n",
      "Predictions will be saved in C:\\Users\\thoma\\predictions/local/dummy_vae/20230906-150738-local\n",
      "Tensorboard logs will be saved in C:\\Users\\thoma\\tensorboard/local/20230906-150738-local_dummy_vae\n"
     ]
    }
   ],
   "source": [
    "params = DummyVAEModelParams()\n",
    "params.update()\n",
    "\n",
    "# Create data set if needed\n",
    "if not os.path.exists(params.data_dir):\n",
    "    generate_data_set(params.data_dir)\n",
    "    print(f\"\\nData set created in {params.data_dir}\")\n",
    "\n",
    "print(f\"\\nModel will be saved in {params.models_folder}\")\n",
    "print(f\"Predictions will be saved in {params.output_dir}\")\n",
    "print(f\"Tensorboard logs will be saved in {params.tensorboard_folder_path}\")"
   ]
  },
  {
   "cell_type": "code",
   "execution_count": 3,
   "metadata": {},
   "outputs": [
    {
     "name": "stdout",
     "output_type": "stream",
     "text": [
      "### Data source ###\n",
      "train data is loaded from C:\\Users\\thoma\\data\\dummy - 80% elements\n",
      "val data is loaded from C:\\Users\\thoma\\data\\dummy - 10% elements\n",
      "test data is loaded from C:\\Users\\thoma\\data\\dummy - 10% elements\n",
      "###################\n",
      "train has 160 images.\n",
      "val has 20 images.\n",
      "test has 20 images.\n",
      "###################\n"
     ]
    }
   ],
   "source": [
    "loader_generator = DataLoaderGenerator(params, DummyVAEDataSet, DefaultDataManager)\n",
    "train_dl, val_dl, test_dl = loader_generator.generate_data_loader()"
   ]
  },
  {
   "cell_type": "code",
   "execution_count": 4,
   "metadata": {},
   "outputs": [
    {
     "name": "stdout",
     "output_type": "stream",
     "text": [
      "Number of parameters in encoder: 4171420\n",
      "Number of parameters in decoder: 2498675\n",
      "Current commit hash: 2712a6d57989431d89612f127d26c847210b161b\n"
     ]
    },
    {
     "name": "stderr",
     "output_type": "stream",
     "text": [
      "Failed to detect the name of this notebook, you can set it manually with the WANDB_NOTEBOOK_NAME environment variable to enable code saving.\n",
      "\u001b[34m\u001b[1mwandb\u001b[0m: Currently logged in as: \u001b[33mthomas-bonte\u001b[0m (\u001b[33mcbio-bis\u001b[0m). Use \u001b[1m`wandb login --relogin`\u001b[0m to force relogin\n"
     ]
    },
    {
     "data": {
      "text/html": [
       "wandb version 0.15.9 is available!  To upgrade, please run:\n",
       " $ pip install wandb --upgrade"
      ],
      "text/plain": [
       "<IPython.core.display.HTML object>"
      ]
     },
     "metadata": {},
     "output_type": "display_data"
    },
    {
     "data": {
      "text/html": [
       "Tracking run with wandb version 0.15.5"
      ],
      "text/plain": [
       "<IPython.core.display.HTML object>"
      ]
     },
     "metadata": {},
     "output_type": "display_data"
    },
    {
     "data": {
      "text/html": [
       "Run data is saved locally in <code>c:\\Users\\thoma\\cnn_framework\\tutorials\\wandb\\run-20230906_150746-i0u08cv9</code>"
      ],
      "text/plain": [
       "<IPython.core.display.HTML object>"
      ]
     },
     "metadata": {},
     "output_type": "display_data"
    },
    {
     "data": {
      "text/html": [
       "Syncing run <strong><a href='https://wandb.ai/cbio-bis/vae-dummy/runs/i0u08cv9' target=\"_blank\">20230906-150738-local</a></strong> to <a href='https://wandb.ai/cbio-bis/vae-dummy' target=\"_blank\">Weights & Biases</a> (<a href='https://wandb.me/run' target=\"_blank\">docs</a>)<br/>"
      ],
      "text/plain": [
       "<IPython.core.display.HTML object>"
      ]
     },
     "metadata": {},
     "output_type": "display_data"
    },
    {
     "data": {
      "text/html": [
       " View project at <a href='https://wandb.ai/cbio-bis/vae-dummy' target=\"_blank\">https://wandb.ai/cbio-bis/vae-dummy</a>"
      ],
      "text/plain": [
       "<IPython.core.display.HTML object>"
      ]
     },
     "metadata": {},
     "output_type": "display_data"
    },
    {
     "data": {
      "text/html": [
       " View run at <a href='https://wandb.ai/cbio-bis/vae-dummy/runs/i0u08cv9' target=\"_blank\">https://wandb.ai/cbio-bis/vae-dummy/runs/i0u08cv9</a>"
      ],
      "text/plain": [
       "<IPython.core.display.HTML object>"
      ]
     },
     "metadata": {},
     "output_type": "display_data"
    }
   ],
   "source": [
    "# Create folder to save model\n",
    "os.makedirs(params.models_folder, exist_ok=True)\n",
    "\n",
    "my_training_config = BaseTrainerConfig(\n",
    "    output_dir=params.models_folder,\n",
    "    num_epochs=params.num_epochs,\n",
    "    learning_rate=params.learning_rate,\n",
    "    per_device_train_batch_size=params.batch_size,\n",
    "    per_device_eval_batch_size=params.batch_size,\n",
    "    train_dataloader_num_workers=params.num_workers,\n",
    "    eval_dataloader_num_workers=params.num_workers,\n",
    "    steps_saving=None,\n",
    "    optimizer_cls=\"AdamW\",\n",
    "    optimizer_params={\n",
    "        \"weight_decay\": params.weight_decay,\n",
    "        \"betas\": (params.beta1, params.beta2),\n",
    "    },\n",
    "    scheduler_cls=\"ReduceLROnPlateau\",\n",
    "    scheduler_params={\"patience\": 5, \"factor\": 0.5},\n",
    ")\n",
    "\n",
    "# Set up the model configuration\n",
    "my_vae_config = BetaVAEConfig(\n",
    "    reconstruction_loss=params.reconstruction_loss,\n",
    "    input_dim=(\n",
    "        params.nb_modalities * params.nb_stacks_per_modality,\n",
    "        params.input_dimensions.height,\n",
    "        params.input_dimensions.width,\n",
    "    ),\n",
    "    latent_dim=params.latent_dim,\n",
    "    beta=params.beta,\n",
    "    uses_default_decoder=False,\n",
    "    uses_default_encoder=False,\n",
    ")\n",
    "\n",
    "# Build the model\n",
    "if params.model_pretrained_path:\n",
    "    vae_model = AutoModel.load_from_folder(params.model_pretrained_path)\n",
    "    # Update modifiable parameters\n",
    "    vae_model.model_config = my_vae_config\n",
    "    vae_model.beta = my_vae_config.beta\n",
    "else:\n",
    "    encoder = CustomEncoder(params, my_vae_config)\n",
    "    print(f\"Number of parameters in encoder: {sum(p.numel() for p in encoder.parameters())}\")\n",
    "    decoder = CustomDecoder(params, my_vae_config)\n",
    "    print(f\"Number of parameters in decoder: {sum(p.numel() for p in decoder.parameters())}\")\n",
    "    vae_model = BetaVAE(encoder=encoder, decoder=decoder, model_config=my_vae_config)\n",
    "\n",
    "# Build the Pipeline\n",
    "pipeline = TrainingPipeline(training_config=my_training_config, model=vae_model)\n",
    "\n",
    "# Compute mean_std for future normalization\n",
    "model_manager = ModelManager(vae_model, params, None)\n",
    "model_manager.compute_and_save_mean_std(train_dl, val_dl)\n",
    "\n",
    "train_dl.dataset.initialize_transforms()\n",
    "val_dl.dataset.initialize_transforms()\n",
    "\n",
    "# Create you callback\n",
    "callbacks = []  # the TrainingPipeline expects a list of callbacks\n",
    "wandb_cb = WandbCallback()  # Build the callback\n",
    "# SetUp the callback\n",
    "wandb_cb.setup(\n",
    "    training_config=my_training_config,  # training config\n",
    "    model_config=my_vae_config,  # model config\n",
    "    project_name=params.wandb_project,  # specify your wandb project\n",
    "    entity_name=params.wandb_entity,  # specify your wandb entity\n",
    "    run_name=params.format_now,  # name of the run\n",
    ")\n",
    "callbacks.append(wandb_cb)  # Add it to the callbacks list"
   ]
  },
  {
   "cell_type": "code",
   "execution_count": 5,
   "metadata": {},
   "outputs": [
    {
     "name": "stderr",
     "output_type": "stream",
     "text": [
      "Checking train dataset...\n",
      "Checking eval dataset...\n",
      "Using Base Trainer\n",
      "\n",
      "Model passed sanity check !\n",
      "Ready for training.\n",
      "\n",
      "Created C:\\Users\\thoma\\models/local/dummy_vae/20230906-150738-local\\BetaVAE_training_2023-09-06_15-08-07. \n",
      "Training config, checkpoints and final model will be saved here.\n",
      "\n",
      "Training params:\n",
      " - max_epochs: 30\n",
      " - per_device_train_batch_size: 2\n",
      " - per_device_eval_batch_size: 2\n",
      " - checkpoint saving every: None\n",
      "Optimizer: AdamW (\n",
      "Parameter Group 0\n",
      "    amsgrad: False\n",
      "    betas: (0.91, 0.995)\n",
      "    capturable: False\n",
      "    eps: 1e-08\n",
      "    foreach: None\n",
      "    lr: 0.0001\n",
      "    maximize: False\n",
      "    weight_decay: 0.05\n",
      ")\n",
      "Scheduler: <torch.optim.lr_scheduler.ReduceLROnPlateau object at 0x000001FD969C5FD0>\n",
      "\n",
      "Successfully launched training !\n",
      "\n"
     ]
    },
    {
     "data": {
      "application/json": {
       "ascii": false,
       "bar_format": null,
       "colour": null,
       "elapsed": 0.004004240036010742,
       "initial": 0,
       "n": 0,
       "ncols": null,
       "nrows": null,
       "postfix": null,
       "prefix": "Training of epoch 1/30",
       "rate": null,
       "total": 80,
       "unit": "batch",
       "unit_divisor": 1000,
       "unit_scale": false
      },
      "application/vnd.jupyter.widget-view+json": {
       "model_id": "23fc9aa690fd4e54aa209ce84122038e",
       "version_major": 2,
       "version_minor": 0
      },
      "text/plain": [
       "Training of epoch 1/30:   0%|          | 0/80 [00:00<?, ?batch/s]"
      ]
     },
     "metadata": {},
     "output_type": "display_data"
    },
    {
     "data": {
      "application/json": {
       "ascii": false,
       "bar_format": null,
       "colour": null,
       "elapsed": 0.003984212875366211,
       "initial": 0,
       "n": 0,
       "ncols": null,
       "nrows": null,
       "postfix": null,
       "prefix": "Eval of epoch 1/30",
       "rate": null,
       "total": 10,
       "unit": "batch",
       "unit_divisor": 1000,
       "unit_scale": false
      },
      "application/vnd.jupyter.widget-view+json": {
       "model_id": "6d9244f6e7f747df82ba03e926928c6a",
       "version_major": 2,
       "version_minor": 0
      },
      "text/plain": [
       "Eval of epoch 1/30:   0%|          | 0/10 [00:00<?, ?batch/s]"
      ]
     },
     "metadata": {},
     "output_type": "display_data"
    },
    {
     "name": "stderr",
     "output_type": "stream",
     "text": [
      "--------------------------------------------------------------------------\n",
      "Train loss: 43851.894\n",
      "Eval loss: 34876.0893\n",
      "--------------------------------------------------------------------------\n"
     ]
    },
    {
     "data": {
      "application/json": {
       "ascii": false,
       "bar_format": null,
       "colour": null,
       "elapsed": 0.005001068115234375,
       "initial": 0,
       "n": 0,
       "ncols": null,
       "nrows": null,
       "postfix": null,
       "prefix": "Training of epoch 2/30",
       "rate": null,
       "total": 80,
       "unit": "batch",
       "unit_divisor": 1000,
       "unit_scale": false
      },
      "application/vnd.jupyter.widget-view+json": {
       "model_id": "eb0f38d48f6b4cfc91b5db9e784bb69b",
       "version_major": 2,
       "version_minor": 0
      },
      "text/plain": [
       "Training of epoch 2/30:   0%|          | 0/80 [00:00<?, ?batch/s]"
      ]
     },
     "metadata": {},
     "output_type": "display_data"
    },
    {
     "data": {
      "application/json": {
       "ascii": false,
       "bar_format": null,
       "colour": null,
       "elapsed": 0.004000186920166016,
       "initial": 0,
       "n": 0,
       "ncols": null,
       "nrows": null,
       "postfix": null,
       "prefix": "Eval of epoch 2/30",
       "rate": null,
       "total": 10,
       "unit": "batch",
       "unit_divisor": 1000,
       "unit_scale": false
      },
      "application/vnd.jupyter.widget-view+json": {
       "model_id": "f32f4b73ad17470d9851a6e5acbe208b",
       "version_major": 2,
       "version_minor": 0
      },
      "text/plain": [
       "Eval of epoch 2/30:   0%|          | 0/10 [00:00<?, ?batch/s]"
      ]
     },
     "metadata": {},
     "output_type": "display_data"
    },
    {
     "name": "stderr",
     "output_type": "stream",
     "text": [
      "--------------------------------------------------------------------------\n",
      "Train loss: 29898.5062\n",
      "Eval loss: 30164.2379\n",
      "--------------------------------------------------------------------------\n"
     ]
    },
    {
     "data": {
      "application/json": {
       "ascii": false,
       "bar_format": null,
       "colour": null,
       "elapsed": 0.004999637603759766,
       "initial": 0,
       "n": 0,
       "ncols": null,
       "nrows": null,
       "postfix": null,
       "prefix": "Training of epoch 3/30",
       "rate": null,
       "total": 80,
       "unit": "batch",
       "unit_divisor": 1000,
       "unit_scale": false
      },
      "application/vnd.jupyter.widget-view+json": {
       "model_id": "69e1b436cfd04d92b8dbbf4b1fbe21ce",
       "version_major": 2,
       "version_minor": 0
      },
      "text/plain": [
       "Training of epoch 3/30:   0%|          | 0/80 [00:00<?, ?batch/s]"
      ]
     },
     "metadata": {},
     "output_type": "display_data"
    },
    {
     "data": {
      "application/json": {
       "ascii": false,
       "bar_format": null,
       "colour": null,
       "elapsed": 0.0039997100830078125,
       "initial": 0,
       "n": 0,
       "ncols": null,
       "nrows": null,
       "postfix": null,
       "prefix": "Eval of epoch 3/30",
       "rate": null,
       "total": 10,
       "unit": "batch",
       "unit_divisor": 1000,
       "unit_scale": false
      },
      "application/vnd.jupyter.widget-view+json": {
       "model_id": "5fe0fc8eb41e4fd58098f685fa7fc523",
       "version_major": 2,
       "version_minor": 0
      },
      "text/plain": [
       "Eval of epoch 3/30:   0%|          | 0/10 [00:00<?, ?batch/s]"
      ]
     },
     "metadata": {},
     "output_type": "display_data"
    },
    {
     "name": "stderr",
     "output_type": "stream",
     "text": [
      "--------------------------------------------------------------------------\n",
      "Train loss: 24233.1027\n",
      "Eval loss: 27986.9433\n",
      "--------------------------------------------------------------------------\n"
     ]
    },
    {
     "data": {
      "application/json": {
       "ascii": false,
       "bar_format": null,
       "colour": null,
       "elapsed": 0.004000425338745117,
       "initial": 0,
       "n": 0,
       "ncols": null,
       "nrows": null,
       "postfix": null,
       "prefix": "Training of epoch 4/30",
       "rate": null,
       "total": 80,
       "unit": "batch",
       "unit_divisor": 1000,
       "unit_scale": false
      },
      "application/vnd.jupyter.widget-view+json": {
       "model_id": "e1f42911e499431bae995dfd63fd780d",
       "version_major": 2,
       "version_minor": 0
      },
      "text/plain": [
       "Training of epoch 4/30:   0%|          | 0/80 [00:00<?, ?batch/s]"
      ]
     },
     "metadata": {},
     "output_type": "display_data"
    },
    {
     "data": {
      "application/json": {
       "ascii": false,
       "bar_format": null,
       "colour": null,
       "elapsed": 0.0049991607666015625,
       "initial": 0,
       "n": 0,
       "ncols": null,
       "nrows": null,
       "postfix": null,
       "prefix": "Eval of epoch 4/30",
       "rate": null,
       "total": 10,
       "unit": "batch",
       "unit_divisor": 1000,
       "unit_scale": false
      },
      "application/vnd.jupyter.widget-view+json": {
       "model_id": "153c5348d33c4ded809d27eb017c4140",
       "version_major": 2,
       "version_minor": 0
      },
      "text/plain": [
       "Eval of epoch 4/30:   0%|          | 0/10 [00:00<?, ?batch/s]"
      ]
     },
     "metadata": {},
     "output_type": "display_data"
    },
    {
     "name": "stderr",
     "output_type": "stream",
     "text": [
      "--------------------------------------------------------------------------\n",
      "Train loss: 22058.3165\n",
      "Eval loss: 26111.7946\n",
      "--------------------------------------------------------------------------\n"
     ]
    },
    {
     "data": {
      "application/json": {
       "ascii": false,
       "bar_format": null,
       "colour": null,
       "elapsed": 0.006999492645263672,
       "initial": 0,
       "n": 0,
       "ncols": null,
       "nrows": null,
       "postfix": null,
       "prefix": "Training of epoch 5/30",
       "rate": null,
       "total": 80,
       "unit": "batch",
       "unit_divisor": 1000,
       "unit_scale": false
      },
      "application/vnd.jupyter.widget-view+json": {
       "model_id": "5253b298cc1244dea24273e56198d20c",
       "version_major": 2,
       "version_minor": 0
      },
      "text/plain": [
       "Training of epoch 5/30:   0%|          | 0/80 [00:00<?, ?batch/s]"
      ]
     },
     "metadata": {},
     "output_type": "display_data"
    },
    {
     "data": {
      "application/json": {
       "ascii": false,
       "bar_format": null,
       "colour": null,
       "elapsed": 0.007004499435424805,
       "initial": 0,
       "n": 0,
       "ncols": null,
       "nrows": null,
       "postfix": null,
       "prefix": "Eval of epoch 5/30",
       "rate": null,
       "total": 10,
       "unit": "batch",
       "unit_divisor": 1000,
       "unit_scale": false
      },
      "application/vnd.jupyter.widget-view+json": {
       "model_id": "b0290dd1aef948958235e5fb94d4b401",
       "version_major": 2,
       "version_minor": 0
      },
      "text/plain": [
       "Eval of epoch 5/30:   0%|          | 0/10 [00:00<?, ?batch/s]"
      ]
     },
     "metadata": {},
     "output_type": "display_data"
    },
    {
     "name": "stderr",
     "output_type": "stream",
     "text": [
      "--------------------------------------------------------------------------\n",
      "Train loss: 21408.4612\n",
      "Eval loss: 27905.0412\n",
      "--------------------------------------------------------------------------\n"
     ]
    },
    {
     "data": {
      "application/json": {
       "ascii": false,
       "bar_format": null,
       "colour": null,
       "elapsed": 0.004999876022338867,
       "initial": 0,
       "n": 0,
       "ncols": null,
       "nrows": null,
       "postfix": null,
       "prefix": "Training of epoch 6/30",
       "rate": null,
       "total": 80,
       "unit": "batch",
       "unit_divisor": 1000,
       "unit_scale": false
      },
      "application/vnd.jupyter.widget-view+json": {
       "model_id": "43d56994943846b2927cb906e8d528a4",
       "version_major": 2,
       "version_minor": 0
      },
      "text/plain": [
       "Training of epoch 6/30:   0%|          | 0/80 [00:00<?, ?batch/s]"
      ]
     },
     "metadata": {},
     "output_type": "display_data"
    },
    {
     "data": {
      "application/json": {
       "ascii": false,
       "bar_format": null,
       "colour": null,
       "elapsed": 0.010043144226074219,
       "initial": 0,
       "n": 0,
       "ncols": null,
       "nrows": null,
       "postfix": null,
       "prefix": "Eval of epoch 6/30",
       "rate": null,
       "total": 10,
       "unit": "batch",
       "unit_divisor": 1000,
       "unit_scale": false
      },
      "application/vnd.jupyter.widget-view+json": {
       "model_id": "09f6023ee1264a1290a2a3e982e736e4",
       "version_major": 2,
       "version_minor": 0
      },
      "text/plain": [
       "Eval of epoch 6/30:   0%|          | 0/10 [00:00<?, ?batch/s]"
      ]
     },
     "metadata": {},
     "output_type": "display_data"
    },
    {
     "name": "stderr",
     "output_type": "stream",
     "text": [
      "--------------------------------------------------------------------------\n",
      "Train loss: 20053.5667\n",
      "Eval loss: 20901.3252\n",
      "--------------------------------------------------------------------------\n"
     ]
    },
    {
     "data": {
      "application/json": {
       "ascii": false,
       "bar_format": null,
       "colour": null,
       "elapsed": 0.002015352249145508,
       "initial": 0,
       "n": 0,
       "ncols": null,
       "nrows": null,
       "postfix": null,
       "prefix": "Training of epoch 7/30",
       "rate": null,
       "total": 80,
       "unit": "batch",
       "unit_divisor": 1000,
       "unit_scale": false
      },
      "application/vnd.jupyter.widget-view+json": {
       "model_id": "5b8b772d9cdc41e9b8fe4874d63d7b73",
       "version_major": 2,
       "version_minor": 0
      },
      "text/plain": [
       "Training of epoch 7/30:   0%|          | 0/80 [00:00<?, ?batch/s]"
      ]
     },
     "metadata": {},
     "output_type": "display_data"
    },
    {
     "data": {
      "application/json": {
       "ascii": false,
       "bar_format": null,
       "colour": null,
       "elapsed": 0.00802922248840332,
       "initial": 0,
       "n": 0,
       "ncols": null,
       "nrows": null,
       "postfix": null,
       "prefix": "Eval of epoch 7/30",
       "rate": null,
       "total": 10,
       "unit": "batch",
       "unit_divisor": 1000,
       "unit_scale": false
      },
      "application/vnd.jupyter.widget-view+json": {
       "model_id": "6ad2e26834c54e7a9246d852eda44153",
       "version_major": 2,
       "version_minor": 0
      },
      "text/plain": [
       "Eval of epoch 7/30:   0%|          | 0/10 [00:00<?, ?batch/s]"
      ]
     },
     "metadata": {},
     "output_type": "display_data"
    },
    {
     "name": "stderr",
     "output_type": "stream",
     "text": [
      "--------------------------------------------------------------------------\n",
      "Train loss: 19590.3828\n",
      "Eval loss: 18217.2015\n",
      "--------------------------------------------------------------------------\n"
     ]
    },
    {
     "data": {
      "application/json": {
       "ascii": false,
       "bar_format": null,
       "colour": null,
       "elapsed": 0.003748178482055664,
       "initial": 0,
       "n": 0,
       "ncols": null,
       "nrows": null,
       "postfix": null,
       "prefix": "Training of epoch 8/30",
       "rate": null,
       "total": 80,
       "unit": "batch",
       "unit_divisor": 1000,
       "unit_scale": false
      },
      "application/vnd.jupyter.widget-view+json": {
       "model_id": "5ad11ad106284ca7befea9bc5dc3ddb2",
       "version_major": 2,
       "version_minor": 0
      },
      "text/plain": [
       "Training of epoch 8/30:   0%|          | 0/80 [00:00<?, ?batch/s]"
      ]
     },
     "metadata": {},
     "output_type": "display_data"
    },
    {
     "data": {
      "application/json": {
       "ascii": false,
       "bar_format": null,
       "colour": null,
       "elapsed": 0.008019447326660156,
       "initial": 0,
       "n": 0,
       "ncols": null,
       "nrows": null,
       "postfix": null,
       "prefix": "Eval of epoch 8/30",
       "rate": null,
       "total": 10,
       "unit": "batch",
       "unit_divisor": 1000,
       "unit_scale": false
      },
      "application/vnd.jupyter.widget-view+json": {
       "model_id": "3c632f58f0094b34a87cc12213945692",
       "version_major": 2,
       "version_minor": 0
      },
      "text/plain": [
       "Eval of epoch 8/30:   0%|          | 0/10 [00:00<?, ?batch/s]"
      ]
     },
     "metadata": {},
     "output_type": "display_data"
    },
    {
     "name": "stderr",
     "output_type": "stream",
     "text": [
      "--------------------------------------------------------------------------\n",
      "Train loss: 20009.4227\n",
      "Eval loss: 18180.1203\n",
      "--------------------------------------------------------------------------\n"
     ]
    },
    {
     "data": {
      "application/json": {
       "ascii": false,
       "bar_format": null,
       "colour": null,
       "elapsed": 0.0050013065338134766,
       "initial": 0,
       "n": 0,
       "ncols": null,
       "nrows": null,
       "postfix": null,
       "prefix": "Training of epoch 9/30",
       "rate": null,
       "total": 80,
       "unit": "batch",
       "unit_divisor": 1000,
       "unit_scale": false
      },
      "application/vnd.jupyter.widget-view+json": {
       "model_id": "a712334f0c1f43b39eaa99cb5517bb7e",
       "version_major": 2,
       "version_minor": 0
      },
      "text/plain": [
       "Training of epoch 9/30:   0%|          | 0/80 [00:00<?, ?batch/s]"
      ]
     },
     "metadata": {},
     "output_type": "display_data"
    },
    {
     "data": {
      "application/json": {
       "ascii": false,
       "bar_format": null,
       "colour": null,
       "elapsed": 0.005003452301025391,
       "initial": 0,
       "n": 0,
       "ncols": null,
       "nrows": null,
       "postfix": null,
       "prefix": "Eval of epoch 9/30",
       "rate": null,
       "total": 10,
       "unit": "batch",
       "unit_divisor": 1000,
       "unit_scale": false
      },
      "application/vnd.jupyter.widget-view+json": {
       "model_id": "1cd96b40d25044d69c1fde2e2f3d42ec",
       "version_major": 2,
       "version_minor": 0
      },
      "text/plain": [
       "Eval of epoch 9/30:   0%|          | 0/10 [00:00<?, ?batch/s]"
      ]
     },
     "metadata": {},
     "output_type": "display_data"
    },
    {
     "name": "stderr",
     "output_type": "stream",
     "text": [
      "--------------------------------------------------------------------------\n",
      "Train loss: 19202.002\n",
      "Eval loss: 21233.3008\n",
      "--------------------------------------------------------------------------\n"
     ]
    },
    {
     "data": {
      "application/json": {
       "ascii": false,
       "bar_format": null,
       "colour": null,
       "elapsed": 0.0049991607666015625,
       "initial": 0,
       "n": 0,
       "ncols": null,
       "nrows": null,
       "postfix": null,
       "prefix": "Training of epoch 10/30",
       "rate": null,
       "total": 80,
       "unit": "batch",
       "unit_divisor": 1000,
       "unit_scale": false
      },
      "application/vnd.jupyter.widget-view+json": {
       "model_id": "b61bface0bd645a68ea14422c33dccee",
       "version_major": 2,
       "version_minor": 0
      },
      "text/plain": [
       "Training of epoch 10/30:   0%|          | 0/80 [00:00<?, ?batch/s]"
      ]
     },
     "metadata": {},
     "output_type": "display_data"
    },
    {
     "data": {
      "application/json": {
       "ascii": false,
       "bar_format": null,
       "colour": null,
       "elapsed": 0.004000186920166016,
       "initial": 0,
       "n": 0,
       "ncols": null,
       "nrows": null,
       "postfix": null,
       "prefix": "Eval of epoch 10/30",
       "rate": null,
       "total": 10,
       "unit": "batch",
       "unit_divisor": 1000,
       "unit_scale": false
      },
      "application/vnd.jupyter.widget-view+json": {
       "model_id": "cd388fb6f1274b3a8c89f75a935010f2",
       "version_major": 2,
       "version_minor": 0
      },
      "text/plain": [
       "Eval of epoch 10/30:   0%|          | 0/10 [00:00<?, ?batch/s]"
      ]
     },
     "metadata": {},
     "output_type": "display_data"
    },
    {
     "name": "stderr",
     "output_type": "stream",
     "text": [
      "--------------------------------------------------------------------------\n",
      "Train loss: 19298.406\n",
      "Eval loss: 21392.9859\n",
      "--------------------------------------------------------------------------\n"
     ]
    },
    {
     "data": {
      "application/json": {
       "ascii": false,
       "bar_format": null,
       "colour": null,
       "elapsed": 0.005000114440917969,
       "initial": 0,
       "n": 0,
       "ncols": null,
       "nrows": null,
       "postfix": null,
       "prefix": "Training of epoch 11/30",
       "rate": null,
       "total": 80,
       "unit": "batch",
       "unit_divisor": 1000,
       "unit_scale": false
      },
      "application/vnd.jupyter.widget-view+json": {
       "model_id": "fd20d15b126e40f4b00c0e8f1c54132b",
       "version_major": 2,
       "version_minor": 0
      },
      "text/plain": [
       "Training of epoch 11/30:   0%|          | 0/80 [00:00<?, ?batch/s]"
      ]
     },
     "metadata": {},
     "output_type": "display_data"
    },
    {
     "data": {
      "application/json": {
       "ascii": false,
       "bar_format": null,
       "colour": null,
       "elapsed": 0.003998279571533203,
       "initial": 0,
       "n": 0,
       "ncols": null,
       "nrows": null,
       "postfix": null,
       "prefix": "Eval of epoch 11/30",
       "rate": null,
       "total": 10,
       "unit": "batch",
       "unit_divisor": 1000,
       "unit_scale": false
      },
      "application/vnd.jupyter.widget-view+json": {
       "model_id": "eb06613bbe0943ec9ff73578174c3edc",
       "version_major": 2,
       "version_minor": 0
      },
      "text/plain": [
       "Eval of epoch 11/30:   0%|          | 0/10 [00:00<?, ?batch/s]"
      ]
     },
     "metadata": {},
     "output_type": "display_data"
    },
    {
     "name": "stderr",
     "output_type": "stream",
     "text": [
      "--------------------------------------------------------------------------\n",
      "Train loss: 18018.1033\n",
      "Eval loss: 19746.441\n",
      "--------------------------------------------------------------------------\n"
     ]
    },
    {
     "data": {
      "application/json": {
       "ascii": false,
       "bar_format": null,
       "colour": null,
       "elapsed": 0.005002737045288086,
       "initial": 0,
       "n": 0,
       "ncols": null,
       "nrows": null,
       "postfix": null,
       "prefix": "Training of epoch 12/30",
       "rate": null,
       "total": 80,
       "unit": "batch",
       "unit_divisor": 1000,
       "unit_scale": false
      },
      "application/vnd.jupyter.widget-view+json": {
       "model_id": "d5b07a1d0557431a8b3f7f1d9ab9c74d",
       "version_major": 2,
       "version_minor": 0
      },
      "text/plain": [
       "Training of epoch 12/30:   0%|          | 0/80 [00:00<?, ?batch/s]"
      ]
     },
     "metadata": {},
     "output_type": "display_data"
    },
    {
     "data": {
      "application/json": {
       "ascii": false,
       "bar_format": null,
       "colour": null,
       "elapsed": 0.003997802734375,
       "initial": 0,
       "n": 0,
       "ncols": null,
       "nrows": null,
       "postfix": null,
       "prefix": "Eval of epoch 12/30",
       "rate": null,
       "total": 10,
       "unit": "batch",
       "unit_divisor": 1000,
       "unit_scale": false
      },
      "application/vnd.jupyter.widget-view+json": {
       "model_id": "728229ccf16b4da486ab06bdb0882378",
       "version_major": 2,
       "version_minor": 0
      },
      "text/plain": [
       "Eval of epoch 12/30:   0%|          | 0/10 [00:00<?, ?batch/s]"
      ]
     },
     "metadata": {},
     "output_type": "display_data"
    },
    {
     "name": "stderr",
     "output_type": "stream",
     "text": [
      "--------------------------------------------------------------------------\n",
      "Train loss: 18676.1936\n",
      "Eval loss: 17856.6635\n",
      "--------------------------------------------------------------------------\n"
     ]
    },
    {
     "data": {
      "application/json": {
       "ascii": false,
       "bar_format": null,
       "colour": null,
       "elapsed": 0.004999637603759766,
       "initial": 0,
       "n": 0,
       "ncols": null,
       "nrows": null,
       "postfix": null,
       "prefix": "Training of epoch 13/30",
       "rate": null,
       "total": 80,
       "unit": "batch",
       "unit_divisor": 1000,
       "unit_scale": false
      },
      "application/vnd.jupyter.widget-view+json": {
       "model_id": "47793c2fe32e431fa3a98ab6c4638e04",
       "version_major": 2,
       "version_minor": 0
      },
      "text/plain": [
       "Training of epoch 13/30:   0%|          | 0/80 [00:00<?, ?batch/s]"
      ]
     },
     "metadata": {},
     "output_type": "display_data"
    },
    {
     "data": {
      "application/json": {
       "ascii": false,
       "bar_format": null,
       "colour": null,
       "elapsed": 0.005002021789550781,
       "initial": 0,
       "n": 0,
       "ncols": null,
       "nrows": null,
       "postfix": null,
       "prefix": "Eval of epoch 13/30",
       "rate": null,
       "total": 10,
       "unit": "batch",
       "unit_divisor": 1000,
       "unit_scale": false
      },
      "application/vnd.jupyter.widget-view+json": {
       "model_id": "cc63a2f27553417189a4b37826719cd8",
       "version_major": 2,
       "version_minor": 0
      },
      "text/plain": [
       "Eval of epoch 13/30:   0%|          | 0/10 [00:00<?, ?batch/s]"
      ]
     },
     "metadata": {},
     "output_type": "display_data"
    },
    {
     "name": "stderr",
     "output_type": "stream",
     "text": [
      "--------------------------------------------------------------------------\n",
      "Train loss: 18377.2564\n",
      "Eval loss: 16639.1517\n",
      "--------------------------------------------------------------------------\n"
     ]
    },
    {
     "data": {
      "application/json": {
       "ascii": false,
       "bar_format": null,
       "colour": null,
       "elapsed": 0.004997968673706055,
       "initial": 0,
       "n": 0,
       "ncols": null,
       "nrows": null,
       "postfix": null,
       "prefix": "Training of epoch 14/30",
       "rate": null,
       "total": 80,
       "unit": "batch",
       "unit_divisor": 1000,
       "unit_scale": false
      },
      "application/vnd.jupyter.widget-view+json": {
       "model_id": "76363e48d26240048b0376f45918ad62",
       "version_major": 2,
       "version_minor": 0
      },
      "text/plain": [
       "Training of epoch 14/30:   0%|          | 0/80 [00:00<?, ?batch/s]"
      ]
     },
     "metadata": {},
     "output_type": "display_data"
    },
    {
     "data": {
      "application/json": {
       "ascii": false,
       "bar_format": null,
       "colour": null,
       "elapsed": 0.0040395259857177734,
       "initial": 0,
       "n": 0,
       "ncols": null,
       "nrows": null,
       "postfix": null,
       "prefix": "Eval of epoch 14/30",
       "rate": null,
       "total": 10,
       "unit": "batch",
       "unit_divisor": 1000,
       "unit_scale": false
      },
      "application/vnd.jupyter.widget-view+json": {
       "model_id": "f94e68ee2fa04abb8eeafd7d978d13bb",
       "version_major": 2,
       "version_minor": 0
      },
      "text/plain": [
       "Eval of epoch 14/30:   0%|          | 0/10 [00:00<?, ?batch/s]"
      ]
     },
     "metadata": {},
     "output_type": "display_data"
    },
    {
     "name": "stderr",
     "output_type": "stream",
     "text": [
      "--------------------------------------------------------------------------\n",
      "Train loss: 17566.3345\n",
      "Eval loss: 18686.1236\n",
      "--------------------------------------------------------------------------\n"
     ]
    },
    {
     "data": {
      "application/json": {
       "ascii": false,
       "bar_format": null,
       "colour": null,
       "elapsed": 0.004999637603759766,
       "initial": 0,
       "n": 0,
       "ncols": null,
       "nrows": null,
       "postfix": null,
       "prefix": "Training of epoch 15/30",
       "rate": null,
       "total": 80,
       "unit": "batch",
       "unit_divisor": 1000,
       "unit_scale": false
      },
      "application/vnd.jupyter.widget-view+json": {
       "model_id": "ee58c9ab0ee04025b1d46f6885641556",
       "version_major": 2,
       "version_minor": 0
      },
      "text/plain": [
       "Training of epoch 15/30:   0%|          | 0/80 [00:00<?, ?batch/s]"
      ]
     },
     "metadata": {},
     "output_type": "display_data"
    },
    {
     "data": {
      "application/json": {
       "ascii": false,
       "bar_format": null,
       "colour": null,
       "elapsed": 0.005000591278076172,
       "initial": 0,
       "n": 0,
       "ncols": null,
       "nrows": null,
       "postfix": null,
       "prefix": "Eval of epoch 15/30",
       "rate": null,
       "total": 10,
       "unit": "batch",
       "unit_divisor": 1000,
       "unit_scale": false
      },
      "application/vnd.jupyter.widget-view+json": {
       "model_id": "29d21d3e31e44c8591218e36680011e4",
       "version_major": 2,
       "version_minor": 0
      },
      "text/plain": [
       "Eval of epoch 15/30:   0%|          | 0/10 [00:00<?, ?batch/s]"
      ]
     },
     "metadata": {},
     "output_type": "display_data"
    },
    {
     "name": "stderr",
     "output_type": "stream",
     "text": [
      "--------------------------------------------------------------------------\n",
      "Train loss: 18057.2845\n",
      "Eval loss: 15426.6492\n",
      "--------------------------------------------------------------------------\n"
     ]
    },
    {
     "data": {
      "application/json": {
       "ascii": false,
       "bar_format": null,
       "colour": null,
       "elapsed": 0.004999637603759766,
       "initial": 0,
       "n": 0,
       "ncols": null,
       "nrows": null,
       "postfix": null,
       "prefix": "Training of epoch 16/30",
       "rate": null,
       "total": 80,
       "unit": "batch",
       "unit_divisor": 1000,
       "unit_scale": false
      },
      "application/vnd.jupyter.widget-view+json": {
       "model_id": "be362c17bcb14100b07a4e2ba2f30f64",
       "version_major": 2,
       "version_minor": 0
      },
      "text/plain": [
       "Training of epoch 16/30:   0%|          | 0/80 [00:00<?, ?batch/s]"
      ]
     },
     "metadata": {},
     "output_type": "display_data"
    },
    {
     "data": {
      "application/json": {
       "ascii": false,
       "bar_format": null,
       "colour": null,
       "elapsed": 0.003999948501586914,
       "initial": 0,
       "n": 0,
       "ncols": null,
       "nrows": null,
       "postfix": null,
       "prefix": "Eval of epoch 16/30",
       "rate": null,
       "total": 10,
       "unit": "batch",
       "unit_divisor": 1000,
       "unit_scale": false
      },
      "application/vnd.jupyter.widget-view+json": {
       "model_id": "fb7a6ecf797848618c2595c808337330",
       "version_major": 2,
       "version_minor": 0
      },
      "text/plain": [
       "Eval of epoch 16/30:   0%|          | 0/10 [00:00<?, ?batch/s]"
      ]
     },
     "metadata": {},
     "output_type": "display_data"
    },
    {
     "name": "stderr",
     "output_type": "stream",
     "text": [
      "--------------------------------------------------------------------------\n",
      "Train loss: 16975.1375\n",
      "Eval loss: 17067.8235\n",
      "--------------------------------------------------------------------------\n"
     ]
    },
    {
     "data": {
      "application/json": {
       "ascii": false,
       "bar_format": null,
       "colour": null,
       "elapsed": 0.0039997100830078125,
       "initial": 0,
       "n": 0,
       "ncols": null,
       "nrows": null,
       "postfix": null,
       "prefix": "Training of epoch 17/30",
       "rate": null,
       "total": 80,
       "unit": "batch",
       "unit_divisor": 1000,
       "unit_scale": false
      },
      "application/vnd.jupyter.widget-view+json": {
       "model_id": "076f82d1ff204d45959c0ee42ee69051",
       "version_major": 2,
       "version_minor": 0
      },
      "text/plain": [
       "Training of epoch 17/30:   0%|          | 0/80 [00:00<?, ?batch/s]"
      ]
     },
     "metadata": {},
     "output_type": "display_data"
    },
    {
     "data": {
      "application/json": {
       "ascii": false,
       "bar_format": null,
       "colour": null,
       "elapsed": 0.004663944244384766,
       "initial": 0,
       "n": 0,
       "ncols": null,
       "nrows": null,
       "postfix": null,
       "prefix": "Eval of epoch 17/30",
       "rate": null,
       "total": 10,
       "unit": "batch",
       "unit_divisor": 1000,
       "unit_scale": false
      },
      "application/vnd.jupyter.widget-view+json": {
       "model_id": "0e956e0f4b7f4b958aac61dc28349bea",
       "version_major": 2,
       "version_minor": 0
      },
      "text/plain": [
       "Eval of epoch 17/30:   0%|          | 0/10 [00:00<?, ?batch/s]"
      ]
     },
     "metadata": {},
     "output_type": "display_data"
    },
    {
     "name": "stderr",
     "output_type": "stream",
     "text": [
      "--------------------------------------------------------------------------\n",
      "Train loss: 17424.7047\n",
      "Eval loss: 16591.8592\n",
      "--------------------------------------------------------------------------\n"
     ]
    },
    {
     "data": {
      "application/json": {
       "ascii": false,
       "bar_format": null,
       "colour": null,
       "elapsed": 0.004000663757324219,
       "initial": 0,
       "n": 0,
       "ncols": null,
       "nrows": null,
       "postfix": null,
       "prefix": "Training of epoch 18/30",
       "rate": null,
       "total": 80,
       "unit": "batch",
       "unit_divisor": 1000,
       "unit_scale": false
      },
      "application/vnd.jupyter.widget-view+json": {
       "model_id": "2caab7b749a247cf9b6fa95ff5d03396",
       "version_major": 2,
       "version_minor": 0
      },
      "text/plain": [
       "Training of epoch 18/30:   0%|          | 0/80 [00:00<?, ?batch/s]"
      ]
     },
     "metadata": {},
     "output_type": "display_data"
    },
    {
     "data": {
      "application/json": {
       "ascii": false,
       "bar_format": null,
       "colour": null,
       "elapsed": 0.003571748733520508,
       "initial": 0,
       "n": 0,
       "ncols": null,
       "nrows": null,
       "postfix": null,
       "prefix": "Eval of epoch 18/30",
       "rate": null,
       "total": 10,
       "unit": "batch",
       "unit_divisor": 1000,
       "unit_scale": false
      },
      "application/vnd.jupyter.widget-view+json": {
       "model_id": "72eacf209abc49e48f6713831b9f5037",
       "version_major": 2,
       "version_minor": 0
      },
      "text/plain": [
       "Eval of epoch 18/30:   0%|          | 0/10 [00:00<?, ?batch/s]"
      ]
     },
     "metadata": {},
     "output_type": "display_data"
    },
    {
     "name": "stderr",
     "output_type": "stream",
     "text": [
      "--------------------------------------------------------------------------\n",
      "Train loss: 17478.2358\n",
      "Eval loss: 17722.8124\n",
      "--------------------------------------------------------------------------\n"
     ]
    },
    {
     "data": {
      "application/json": {
       "ascii": false,
       "bar_format": null,
       "colour": null,
       "elapsed": 0.004002571105957031,
       "initial": 0,
       "n": 0,
       "ncols": null,
       "nrows": null,
       "postfix": null,
       "prefix": "Training of epoch 19/30",
       "rate": null,
       "total": 80,
       "unit": "batch",
       "unit_divisor": 1000,
       "unit_scale": false
      },
      "application/vnd.jupyter.widget-view+json": {
       "model_id": "7ffcf1b8ac1a4e5cb88cd7d825d88118",
       "version_major": 2,
       "version_minor": 0
      },
      "text/plain": [
       "Training of epoch 19/30:   0%|          | 0/80 [00:00<?, ?batch/s]"
      ]
     },
     "metadata": {},
     "output_type": "display_data"
    },
    {
     "data": {
      "application/json": {
       "ascii": false,
       "bar_format": null,
       "colour": null,
       "elapsed": 0.004998922348022461,
       "initial": 0,
       "n": 0,
       "ncols": null,
       "nrows": null,
       "postfix": null,
       "prefix": "Eval of epoch 19/30",
       "rate": null,
       "total": 10,
       "unit": "batch",
       "unit_divisor": 1000,
       "unit_scale": false
      },
      "application/vnd.jupyter.widget-view+json": {
       "model_id": "ddc893640d434f6ba4efd544863e4d79",
       "version_major": 2,
       "version_minor": 0
      },
      "text/plain": [
       "Eval of epoch 19/30:   0%|          | 0/10 [00:00<?, ?batch/s]"
      ]
     },
     "metadata": {},
     "output_type": "display_data"
    },
    {
     "name": "stderr",
     "output_type": "stream",
     "text": [
      "--------------------------------------------------------------------------\n",
      "Train loss: 16838.8762\n",
      "Eval loss: 18488.6963\n",
      "--------------------------------------------------------------------------\n"
     ]
    },
    {
     "data": {
      "application/json": {
       "ascii": false,
       "bar_format": null,
       "colour": null,
       "elapsed": 0.006998777389526367,
       "initial": 0,
       "n": 0,
       "ncols": null,
       "nrows": null,
       "postfix": null,
       "prefix": "Training of epoch 20/30",
       "rate": null,
       "total": 80,
       "unit": "batch",
       "unit_divisor": 1000,
       "unit_scale": false
      },
      "application/vnd.jupyter.widget-view+json": {
       "model_id": "7379c920d1b64137a296ce964838035a",
       "version_major": 2,
       "version_minor": 0
      },
      "text/plain": [
       "Training of epoch 20/30:   0%|          | 0/80 [00:00<?, ?batch/s]"
      ]
     },
     "metadata": {},
     "output_type": "display_data"
    },
    {
     "data": {
      "application/json": {
       "ascii": false,
       "bar_format": null,
       "colour": null,
       "elapsed": 0.004738569259643555,
       "initial": 0,
       "n": 0,
       "ncols": null,
       "nrows": null,
       "postfix": null,
       "prefix": "Eval of epoch 20/30",
       "rate": null,
       "total": 10,
       "unit": "batch",
       "unit_divisor": 1000,
       "unit_scale": false
      },
      "application/vnd.jupyter.widget-view+json": {
       "model_id": "907ffe8b57ef435bbff4516d3aeb4c5c",
       "version_major": 2,
       "version_minor": 0
      },
      "text/plain": [
       "Eval of epoch 20/30:   0%|          | 0/10 [00:00<?, ?batch/s]"
      ]
     },
     "metadata": {},
     "output_type": "display_data"
    },
    {
     "name": "stderr",
     "output_type": "stream",
     "text": [
      "--------------------------------------------------------------------------\n",
      "Train loss: 16994.8846\n",
      "Eval loss: 16684.0598\n",
      "--------------------------------------------------------------------------\n"
     ]
    },
    {
     "data": {
      "application/json": {
       "ascii": false,
       "bar_format": null,
       "colour": null,
       "elapsed": 0.005004167556762695,
       "initial": 0,
       "n": 0,
       "ncols": null,
       "nrows": null,
       "postfix": null,
       "prefix": "Training of epoch 21/30",
       "rate": null,
       "total": 80,
       "unit": "batch",
       "unit_divisor": 1000,
       "unit_scale": false
      },
      "application/vnd.jupyter.widget-view+json": {
       "model_id": "e8742cca884d4ba2998d16c838715d3d",
       "version_major": 2,
       "version_minor": 0
      },
      "text/plain": [
       "Training of epoch 21/30:   0%|          | 0/80 [00:00<?, ?batch/s]"
      ]
     },
     "metadata": {},
     "output_type": "display_data"
    },
    {
     "data": {
      "application/json": {
       "ascii": false,
       "bar_format": null,
       "colour": null,
       "elapsed": 0.004999637603759766,
       "initial": 0,
       "n": 0,
       "ncols": null,
       "nrows": null,
       "postfix": null,
       "prefix": "Eval of epoch 21/30",
       "rate": null,
       "total": 10,
       "unit": "batch",
       "unit_divisor": 1000,
       "unit_scale": false
      },
      "application/vnd.jupyter.widget-view+json": {
       "model_id": "788ae3315f044f09bfec52ce776a1720",
       "version_major": 2,
       "version_minor": 0
      },
      "text/plain": [
       "Eval of epoch 21/30:   0%|          | 0/10 [00:00<?, ?batch/s]"
      ]
     },
     "metadata": {},
     "output_type": "display_data"
    },
    {
     "name": "stderr",
     "output_type": "stream",
     "text": [
      "--------------------------------------------------------------------------\n",
      "Train loss: 16795.1741\n",
      "Eval loss: 21189.077\n",
      "--------------------------------------------------------------------------\n"
     ]
    },
    {
     "data": {
      "application/json": {
       "ascii": false,
       "bar_format": null,
       "colour": null,
       "elapsed": 0.005001068115234375,
       "initial": 0,
       "n": 0,
       "ncols": null,
       "nrows": null,
       "postfix": null,
       "prefix": "Training of epoch 22/30",
       "rate": null,
       "total": 80,
       "unit": "batch",
       "unit_divisor": 1000,
       "unit_scale": false
      },
      "application/vnd.jupyter.widget-view+json": {
       "model_id": "23543a1fd58f482588c2364b274ade33",
       "version_major": 2,
       "version_minor": 0
      },
      "text/plain": [
       "Training of epoch 22/30:   0%|          | 0/80 [00:00<?, ?batch/s]"
      ]
     },
     "metadata": {},
     "output_type": "display_data"
    },
    {
     "data": {
      "application/json": {
       "ascii": false,
       "bar_format": null,
       "colour": null,
       "elapsed": 0.006999492645263672,
       "initial": 0,
       "n": 0,
       "ncols": null,
       "nrows": null,
       "postfix": null,
       "prefix": "Eval of epoch 22/30",
       "rate": null,
       "total": 10,
       "unit": "batch",
       "unit_divisor": 1000,
       "unit_scale": false
      },
      "application/vnd.jupyter.widget-view+json": {
       "model_id": "71d556cc4a064acb9605c337793083de",
       "version_major": 2,
       "version_minor": 0
      },
      "text/plain": [
       "Eval of epoch 22/30:   0%|          | 0/10 [00:00<?, ?batch/s]"
      ]
     },
     "metadata": {},
     "output_type": "display_data"
    },
    {
     "name": "stderr",
     "output_type": "stream",
     "text": [
      "--------------------------------------------------------------------------\n",
      "Train loss: 15388.2472\n",
      "Eval loss: 19305.2334\n",
      "--------------------------------------------------------------------------\n"
     ]
    },
    {
     "data": {
      "application/json": {
       "ascii": false,
       "bar_format": null,
       "colour": null,
       "elapsed": 0.003999471664428711,
       "initial": 0,
       "n": 0,
       "ncols": null,
       "nrows": null,
       "postfix": null,
       "prefix": "Training of epoch 23/30",
       "rate": null,
       "total": 80,
       "unit": "batch",
       "unit_divisor": 1000,
       "unit_scale": false
      },
      "application/vnd.jupyter.widget-view+json": {
       "model_id": "29439895cfca400691ba7612e50e0fc6",
       "version_major": 2,
       "version_minor": 0
      },
      "text/plain": [
       "Training of epoch 23/30:   0%|          | 0/80 [00:00<?, ?batch/s]"
      ]
     },
     "metadata": {},
     "output_type": "display_data"
    },
    {
     "data": {
      "application/json": {
       "ascii": false,
       "bar_format": null,
       "colour": null,
       "elapsed": 0.004996061325073242,
       "initial": 0,
       "n": 0,
       "ncols": null,
       "nrows": null,
       "postfix": null,
       "prefix": "Eval of epoch 23/30",
       "rate": null,
       "total": 10,
       "unit": "batch",
       "unit_divisor": 1000,
       "unit_scale": false
      },
      "application/vnd.jupyter.widget-view+json": {
       "model_id": "4b19d1368e0c4e9bbed9022d60bf3b54",
       "version_major": 2,
       "version_minor": 0
      },
      "text/plain": [
       "Eval of epoch 23/30:   0%|          | 0/10 [00:00<?, ?batch/s]"
      ]
     },
     "metadata": {},
     "output_type": "display_data"
    },
    {
     "name": "stderr",
     "output_type": "stream",
     "text": [
      "--------------------------------------------------------------------------\n",
      "Train loss: 14789.569\n",
      "Eval loss: 16738.494\n",
      "--------------------------------------------------------------------------\n"
     ]
    },
    {
     "data": {
      "application/json": {
       "ascii": false,
       "bar_format": null,
       "colour": null,
       "elapsed": 0.004000186920166016,
       "initial": 0,
       "n": 0,
       "ncols": null,
       "nrows": null,
       "postfix": null,
       "prefix": "Training of epoch 24/30",
       "rate": null,
       "total": 80,
       "unit": "batch",
       "unit_divisor": 1000,
       "unit_scale": false
      },
      "application/vnd.jupyter.widget-view+json": {
       "model_id": "d93c3b3c0fe84676be213cff28ff94a3",
       "version_major": 2,
       "version_minor": 0
      },
      "text/plain": [
       "Training of epoch 24/30:   0%|          | 0/80 [00:00<?, ?batch/s]"
      ]
     },
     "metadata": {},
     "output_type": "display_data"
    },
    {
     "data": {
      "application/json": {
       "ascii": false,
       "bar_format": null,
       "colour": null,
       "elapsed": 0.0049839019775390625,
       "initial": 0,
       "n": 0,
       "ncols": null,
       "nrows": null,
       "postfix": null,
       "prefix": "Eval of epoch 24/30",
       "rate": null,
       "total": 10,
       "unit": "batch",
       "unit_divisor": 1000,
       "unit_scale": false
      },
      "application/vnd.jupyter.widget-view+json": {
       "model_id": "cef935126509428cac20b5794d141ea3",
       "version_major": 2,
       "version_minor": 0
      },
      "text/plain": [
       "Eval of epoch 24/30:   0%|          | 0/10 [00:00<?, ?batch/s]"
      ]
     },
     "metadata": {},
     "output_type": "display_data"
    },
    {
     "name": "stderr",
     "output_type": "stream",
     "text": [
      "--------------------------------------------------------------------------\n",
      "Train loss: 14848.5906\n",
      "Eval loss: 15031.0903\n",
      "--------------------------------------------------------------------------\n"
     ]
    },
    {
     "data": {
      "application/json": {
       "ascii": false,
       "bar_format": null,
       "colour": null,
       "elapsed": 0.00599980354309082,
       "initial": 0,
       "n": 0,
       "ncols": null,
       "nrows": null,
       "postfix": null,
       "prefix": "Training of epoch 25/30",
       "rate": null,
       "total": 80,
       "unit": "batch",
       "unit_divisor": 1000,
       "unit_scale": false
      },
      "application/vnd.jupyter.widget-view+json": {
       "model_id": "289544fbf7d8425a982c8638794c2923",
       "version_major": 2,
       "version_minor": 0
      },
      "text/plain": [
       "Training of epoch 25/30:   0%|          | 0/80 [00:00<?, ?batch/s]"
      ]
     },
     "metadata": {},
     "output_type": "display_data"
    },
    {
     "data": {
      "application/json": {
       "ascii": false,
       "bar_format": null,
       "colour": null,
       "elapsed": 0.005999088287353516,
       "initial": 0,
       "n": 0,
       "ncols": null,
       "nrows": null,
       "postfix": null,
       "prefix": "Eval of epoch 25/30",
       "rate": null,
       "total": 10,
       "unit": "batch",
       "unit_divisor": 1000,
       "unit_scale": false
      },
      "application/vnd.jupyter.widget-view+json": {
       "model_id": "c5fb1ac8c67f4a9fa3a042057fd95706",
       "version_major": 2,
       "version_minor": 0
      },
      "text/plain": [
       "Eval of epoch 25/30:   0%|          | 0/10 [00:00<?, ?batch/s]"
      ]
     },
     "metadata": {},
     "output_type": "display_data"
    },
    {
     "name": "stderr",
     "output_type": "stream",
     "text": [
      "--------------------------------------------------------------------------\n",
      "Train loss: 15118.6086\n",
      "Eval loss: 13385.0042\n",
      "--------------------------------------------------------------------------\n"
     ]
    },
    {
     "data": {
      "application/json": {
       "ascii": false,
       "bar_format": null,
       "colour": null,
       "elapsed": 0.0040018558502197266,
       "initial": 0,
       "n": 0,
       "ncols": null,
       "nrows": null,
       "postfix": null,
       "prefix": "Training of epoch 26/30",
       "rate": null,
       "total": 80,
       "unit": "batch",
       "unit_divisor": 1000,
       "unit_scale": false
      },
      "application/vnd.jupyter.widget-view+json": {
       "model_id": "dfd58335260b4e60b6e054ef0e71389e",
       "version_major": 2,
       "version_minor": 0
      },
      "text/plain": [
       "Training of epoch 26/30:   0%|          | 0/80 [00:00<?, ?batch/s]"
      ]
     },
     "metadata": {},
     "output_type": "display_data"
    },
    {
     "data": {
      "application/json": {
       "ascii": false,
       "bar_format": null,
       "colour": null,
       "elapsed": 0.0039997100830078125,
       "initial": 0,
       "n": 0,
       "ncols": null,
       "nrows": null,
       "postfix": null,
       "prefix": "Eval of epoch 26/30",
       "rate": null,
       "total": 10,
       "unit": "batch",
       "unit_divisor": 1000,
       "unit_scale": false
      },
      "application/vnd.jupyter.widget-view+json": {
       "model_id": "aa259dbb207446eba0f69bb4f0cf938b",
       "version_major": 2,
       "version_minor": 0
      },
      "text/plain": [
       "Eval of epoch 26/30:   0%|          | 0/10 [00:00<?, ?batch/s]"
      ]
     },
     "metadata": {},
     "output_type": "display_data"
    },
    {
     "name": "stderr",
     "output_type": "stream",
     "text": [
      "--------------------------------------------------------------------------\n",
      "Train loss: 15134.0283\n",
      "Eval loss: 15820.8859\n",
      "--------------------------------------------------------------------------\n"
     ]
    },
    {
     "data": {
      "application/json": {
       "ascii": false,
       "bar_format": null,
       "colour": null,
       "elapsed": 0.004004240036010742,
       "initial": 0,
       "n": 0,
       "ncols": null,
       "nrows": null,
       "postfix": null,
       "prefix": "Training of epoch 27/30",
       "rate": null,
       "total": 80,
       "unit": "batch",
       "unit_divisor": 1000,
       "unit_scale": false
      },
      "application/vnd.jupyter.widget-view+json": {
       "model_id": "0953b5459d3f4c3b9be1c2e06e5d84c9",
       "version_major": 2,
       "version_minor": 0
      },
      "text/plain": [
       "Training of epoch 27/30:   0%|          | 0/80 [00:00<?, ?batch/s]"
      ]
     },
     "metadata": {},
     "output_type": "display_data"
    },
    {
     "data": {
      "application/json": {
       "ascii": false,
       "bar_format": null,
       "colour": null,
       "elapsed": 0.00400090217590332,
       "initial": 0,
       "n": 0,
       "ncols": null,
       "nrows": null,
       "postfix": null,
       "prefix": "Eval of epoch 27/30",
       "rate": null,
       "total": 10,
       "unit": "batch",
       "unit_divisor": 1000,
       "unit_scale": false
      },
      "application/vnd.jupyter.widget-view+json": {
       "model_id": "7341e8b2c30e449f93c775a94abb6fd7",
       "version_major": 2,
       "version_minor": 0
      },
      "text/plain": [
       "Eval of epoch 27/30:   0%|          | 0/10 [00:00<?, ?batch/s]"
      ]
     },
     "metadata": {},
     "output_type": "display_data"
    },
    {
     "name": "stderr",
     "output_type": "stream",
     "text": [
      "--------------------------------------------------------------------------\n",
      "Train loss: 14390.3378\n",
      "Eval loss: 18728.2646\n",
      "--------------------------------------------------------------------------\n"
     ]
    },
    {
     "data": {
      "application/json": {
       "ascii": false,
       "bar_format": null,
       "colour": null,
       "elapsed": 0.005001544952392578,
       "initial": 0,
       "n": 0,
       "ncols": null,
       "nrows": null,
       "postfix": null,
       "prefix": "Training of epoch 28/30",
       "rate": null,
       "total": 80,
       "unit": "batch",
       "unit_divisor": 1000,
       "unit_scale": false
      },
      "application/vnd.jupyter.widget-view+json": {
       "model_id": "52ba09b3450f44d5bff9836042d6397d",
       "version_major": 2,
       "version_minor": 0
      },
      "text/plain": [
       "Training of epoch 28/30:   0%|          | 0/80 [00:00<?, ?batch/s]"
      ]
     },
     "metadata": {},
     "output_type": "display_data"
    },
    {
     "data": {
      "application/json": {
       "ascii": false,
       "bar_format": null,
       "colour": null,
       "elapsed": 0.0039865970611572266,
       "initial": 0,
       "n": 0,
       "ncols": null,
       "nrows": null,
       "postfix": null,
       "prefix": "Eval of epoch 28/30",
       "rate": null,
       "total": 10,
       "unit": "batch",
       "unit_divisor": 1000,
       "unit_scale": false
      },
      "application/vnd.jupyter.widget-view+json": {
       "model_id": "380b7e2723ce46c3910deaef6a045c8b",
       "version_major": 2,
       "version_minor": 0
      },
      "text/plain": [
       "Eval of epoch 28/30:   0%|          | 0/10 [00:00<?, ?batch/s]"
      ]
     },
     "metadata": {},
     "output_type": "display_data"
    },
    {
     "name": "stderr",
     "output_type": "stream",
     "text": [
      "--------------------------------------------------------------------------\n",
      "Train loss: 14082.9744\n",
      "Eval loss: 14102.0037\n",
      "--------------------------------------------------------------------------\n"
     ]
    },
    {
     "data": {
      "application/json": {
       "ascii": false,
       "bar_format": null,
       "colour": null,
       "elapsed": 0.004004478454589844,
       "initial": 0,
       "n": 0,
       "ncols": null,
       "nrows": null,
       "postfix": null,
       "prefix": "Training of epoch 29/30",
       "rate": null,
       "total": 80,
       "unit": "batch",
       "unit_divisor": 1000,
       "unit_scale": false
      },
      "application/vnd.jupyter.widget-view+json": {
       "model_id": "23de259cf98e43fdabd365abca02e4c3",
       "version_major": 2,
       "version_minor": 0
      },
      "text/plain": [
       "Training of epoch 29/30:   0%|          | 0/80 [00:00<?, ?batch/s]"
      ]
     },
     "metadata": {},
     "output_type": "display_data"
    },
    {
     "data": {
      "application/json": {
       "ascii": false,
       "bar_format": null,
       "colour": null,
       "elapsed": 0.004998922348022461,
       "initial": 0,
       "n": 0,
       "ncols": null,
       "nrows": null,
       "postfix": null,
       "prefix": "Eval of epoch 29/30",
       "rate": null,
       "total": 10,
       "unit": "batch",
       "unit_divisor": 1000,
       "unit_scale": false
      },
      "application/vnd.jupyter.widget-view+json": {
       "model_id": "461c414fe0da42229616c056d66f77f6",
       "version_major": 2,
       "version_minor": 0
      },
      "text/plain": [
       "Eval of epoch 29/30:   0%|          | 0/10 [00:00<?, ?batch/s]"
      ]
     },
     "metadata": {},
     "output_type": "display_data"
    },
    {
     "name": "stderr",
     "output_type": "stream",
     "text": [
      "--------------------------------------------------------------------------\n",
      "Train loss: 13848.3299\n",
      "Eval loss: 13561.5926\n",
      "--------------------------------------------------------------------------\n"
     ]
    },
    {
     "data": {
      "application/json": {
       "ascii": false,
       "bar_format": null,
       "colour": null,
       "elapsed": 0.005998373031616211,
       "initial": 0,
       "n": 0,
       "ncols": null,
       "nrows": null,
       "postfix": null,
       "prefix": "Training of epoch 30/30",
       "rate": null,
       "total": 80,
       "unit": "batch",
       "unit_divisor": 1000,
       "unit_scale": false
      },
      "application/vnd.jupyter.widget-view+json": {
       "model_id": "fd5cfaa0f1de49b1ab235e4c6efa5233",
       "version_major": 2,
       "version_minor": 0
      },
      "text/plain": [
       "Training of epoch 30/30:   0%|          | 0/80 [00:00<?, ?batch/s]"
      ]
     },
     "metadata": {},
     "output_type": "display_data"
    },
    {
     "data": {
      "application/json": {
       "ascii": false,
       "bar_format": null,
       "colour": null,
       "elapsed": 0.003999471664428711,
       "initial": 0,
       "n": 0,
       "ncols": null,
       "nrows": null,
       "postfix": null,
       "prefix": "Eval of epoch 30/30",
       "rate": null,
       "total": 10,
       "unit": "batch",
       "unit_divisor": 1000,
       "unit_scale": false
      },
      "application/vnd.jupyter.widget-view+json": {
       "model_id": "04af422bf16a4d32b82e06ee7b4cf9f8",
       "version_major": 2,
       "version_minor": 0
      },
      "text/plain": [
       "Eval of epoch 30/30:   0%|          | 0/10 [00:00<?, ?batch/s]"
      ]
     },
     "metadata": {},
     "output_type": "display_data"
    },
    {
     "name": "stderr",
     "output_type": "stream",
     "text": [
      "--------------------------------------------------------------------------\n",
      "Train loss: 13519.0559\n",
      "Eval loss: 15351.1986\n",
      "--------------------------------------------------------------------------\n",
      "Training ended!\n",
      "Saved final model in C:\\Users\\thoma\\models/local/dummy_vae/20230906-150738-local\\BetaVAE_training_2023-09-06_15-08-07\\final_model\n"
     ]
    },
    {
     "data": {
      "text/html": [
       "Waiting for W&B process to finish... <strong style=\"color:green\">(success).</strong>"
      ],
      "text/plain": [
       "<IPython.core.display.HTML object>"
      ]
     },
     "metadata": {},
     "output_type": "display_data"
    },
    {
     "data": {
      "application/vnd.jupyter.widget-view+json": {
       "model_id": "760b86f9e13f4544b2a8b7e5fb5976c4",
       "version_major": 2,
       "version_minor": 0
      },
      "text/plain": [
       "VBox(children=(Label(value='0.001 MB of 0.001 MB uploaded (0.000 MB deduped)\\r'), FloatProgress(value=1.0, max…"
      ]
     },
     "metadata": {},
     "output_type": "display_data"
    },
    {
     "data": {
      "text/html": [
       "<style>\n",
       "    table.wandb td:nth-child(1) { padding: 0 10px; text-align: left ; width: auto;} td:nth-child(2) {text-align: left ; width: 100%}\n",
       "    .wandb-row { display: flex; flex-direction: row; flex-wrap: wrap; justify-content: flex-start; width: 100% }\n",
       "    .wandb-col { display: flex; flex-direction: column; flex-basis: 100%; flex: 1; padding: 10px; }\n",
       "    </style>\n",
       "<div class=\"wandb-row\"><div class=\"wandb-col\"><h3>Run history:</h3><br/><table class=\"wandb\"><tr><td>eval/epoch_loss</td><td>█▆▆▅▆▃▃▃▄▄▃▂▂▃▂▂▂▂▃▂▄▃▂▂▁▂▃▁▁▂</td></tr><tr><td>train/epoch_loss</td><td>█▅▃▃▃▃▂▂▂▂▂▂▂▂▂▂▂▂▂▂▂▁▁▁▁▁▁▁▁▁</td></tr><tr><td>train/global_step</td><td>▁▁▁▂▂▂▂▃▃▃▃▄▄▄▄▅▅▅▅▆▆▆▆▇▇▇▇███</td></tr></table><br/></div><div class=\"wandb-col\"><h3>Run summary:</h3><br/><table class=\"wandb\"><tr><td>eval/epoch_loss</td><td>15351.19863</td></tr><tr><td>train/epoch_loss</td><td>13519.0559</td></tr><tr><td>train/global_step</td><td>30</td></tr></table><br/></div></div>"
      ],
      "text/plain": [
       "<IPython.core.display.HTML object>"
      ]
     },
     "metadata": {},
     "output_type": "display_data"
    },
    {
     "data": {
      "text/html": [
       " View run <strong style=\"color:#cdcd00\">20230906-150738-local</strong> at: <a href='https://wandb.ai/cbio-bis/vae-dummy/runs/i0u08cv9' target=\"_blank\">https://wandb.ai/cbio-bis/vae-dummy/runs/i0u08cv9</a><br/>Synced 6 W&B file(s), 0 media file(s), 0 artifact file(s) and 0 other file(s)"
      ],
      "text/plain": [
       "<IPython.core.display.HTML object>"
      ]
     },
     "metadata": {},
     "output_type": "display_data"
    },
    {
     "data": {
      "text/html": [
       "Find logs at: <code>.\\wandb\\run-20230906_150746-i0u08cv9\\logs</code>"
      ],
      "text/plain": [
       "<IPython.core.display.HTML object>"
      ]
     },
     "metadata": {},
     "output_type": "display_data"
    }
   ],
   "source": [
    "# Launch the Pipeline\n",
    "pipeline(\n",
    "    train_data=train_dl.dataset,  # must be torch.Tensor, np.array or torch datasets\n",
    "    eval_data=val_dl.dataset,  # must be torch.Tensor, np.array or torch datasets\n",
    "    callbacks=callbacks,\n",
    ")"
   ]
  },
  {
   "cell_type": "code",
   "execution_count": 6,
   "metadata": {},
   "outputs": [
    {
     "name": "stdout",
     "output_type": "stream",
     "text": [
      "Current commit hash: 2712a6d57989431d89612f127d26c847210b161b\n",
      "Model evaluation in progress: 100.0% | Batch #9\n",
      "Average MeanSquaredError: -0.4\n"
     ]
    }
   ],
   "source": [
    "# Test and save images\n",
    "manager = VAEModelManager(vae_model, params, MeanSquaredErrorMetric)\n",
    "manager.predict(test_dl)"
   ]
  }
 ],
 "metadata": {
  "kernelspec": {
   "display_name": "pytorch-env2",
   "language": "python",
   "name": "python3"
  },
  "language_info": {
   "codemirror_mode": {
    "name": "ipython",
    "version": 3
   },
   "file_extension": ".py",
   "mimetype": "text/x-python",
   "name": "python",
   "nbconvert_exporter": "python",
   "pygments_lexer": "ipython3",
   "version": "3.9.13"
  },
  "orig_nbformat": 4
 },
 "nbformat": 4,
 "nbformat_minor": 2
}
