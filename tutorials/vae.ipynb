{
 "cells": [
  {
   "cell_type": "markdown",
   "metadata": {},
   "source": [
    "# VAE"
   ]
  },
  {
   "cell_type": "code",
   "execution_count": 1,
   "metadata": {},
   "outputs": [],
   "source": [
    "import os\n",
    "\n",
    "from pythae.pipelines import TrainingPipeline\n",
    "from pythae.trainers import BaseTrainerConfig\n",
    "from pythae.trainers.training_callbacks import WandbCallback\n",
    "from pythae.models import AutoModel, BetaVAE, BetaVAEConfig\n",
    "\n",
    "from cnn_framework.dummy_vae_model.data_set import DummyVAEDataSet\n",
    "from cnn_framework.dummy_vae_model.model_params import DummyVAEModelParams\n",
    "\n",
    "from cnn_framework.dummy_vae_model.decoder import CustomDecoder\n",
    "from cnn_framework.dummy_vae_model.encoder import CustomEncoder\n",
    "\n",
    "from cnn_framework.utils.DataManagers import DefaultDataManager\n",
    "from cnn_framework.utils.data_loader_generators.DataLoaderGenerator import DataLoaderGenerator\n",
    "from cnn_framework.utils.metrics import MeanSquaredErrorMetric\n",
    "from cnn_framework.utils.model_managers.ModelManager import ModelManager\n",
    "from cnn_framework.utils.model_managers.VAEModelManager import VAEModelManager\n",
    "from cnn_framework.utils.create_dummy_data_set import generate_data_set"
   ]
  },
  {
   "cell_type": "code",
   "execution_count": 2,
   "metadata": {},
   "outputs": [
    {
     "name": "stdout",
     "output_type": "stream",
     "text": [
      "Model time id: 20230904-100937-local\n",
      "epochs 30 | batch 2 | lr 0.0001 | weight decay 0.05 | dropout 0.0 | latent dim 16 | beta 1 | gamma 0 | delta 0 | depth 5 | kld loss standard | encoder name timm-efficientnet-b0\n",
      "\n",
      "Model will be saved in C:\\Users\\thoma\\models\\local/dummy_vae/20230904-100937-local\n",
      "Predictions will be saved in C:\\Users\\thoma\\predictions\\local/dummy_vae/20230904-100937-local\n",
      "Tensorboard logs will be saved in C:\\Users\\thoma\\tensorboard\\local/20230904-100937-local_dummy_vae\n"
     ]
    }
   ],
   "source": [
    "params = DummyVAEModelParams()\n",
    "params.update()\n",
    "\n",
    "# Create data set if needed\n",
    "if not os.path.exists(params.data_dir):\n",
    "    generate_data_set(params.data_dir)\n",
    "    print(f\"\\nData set created in {params.data_dir}\")\n",
    "\n",
    "print(f\"\\nModel will be saved in {params.models_folder}\")\n",
    "print(f\"Predictions will be saved in {params.output_dir}\")\n",
    "print(f\"Tensorboard logs will be saved in {params.tensorboard_folder_path}\")"
   ]
  },
  {
   "cell_type": "code",
   "execution_count": 3,
   "metadata": {},
   "outputs": [
    {
     "name": "stdout",
     "output_type": "stream",
     "text": [
      "### Data source ###\n",
      "train data is loaded from C:\\Users\\thoma\\data\\dummy - 80% elements\n",
      "val data is loaded from C:\\Users\\thoma\\data\\dummy - 10% elements\n",
      "test data is loaded from C:\\Users\\thoma\\data\\dummy - 10% elements\n",
      "###################\n",
      "train has 160 images.\n",
      "val has 20 images.\n",
      "test has 20 images.\n",
      "###################\n"
     ]
    }
   ],
   "source": [
    "loader_generator = DataLoaderGenerator(params, DummyVAEDataSet, DefaultDataManager)\n",
    "train_dl, val_dl, test_dl = loader_generator.generate_data_loader()"
   ]
  },
  {
   "cell_type": "code",
   "execution_count": 4,
   "metadata": {},
   "outputs": [
    {
     "name": "stdout",
     "output_type": "stream",
     "text": [
      "Number of parameters in encoder: 4171420\n",
      "Number of parameters in decoder: 2498675\n",
      "Current commit hash: 8fb09e49bd9849a488b1c0871e163fc6c713b2f7\n"
     ]
    },
    {
     "name": "stderr",
     "output_type": "stream",
     "text": [
      "Failed to detect the name of this notebook, you can set it manually with the WANDB_NOTEBOOK_NAME environment variable to enable code saving.\n",
      "\u001b[34m\u001b[1mwandb\u001b[0m: Currently logged in as: \u001b[33mthomas-bonte\u001b[0m (\u001b[33mcbio-bis\u001b[0m). Use \u001b[1m`wandb login --relogin`\u001b[0m to force relogin\n"
     ]
    },
    {
     "data": {
      "text/html": [
       "wandb version 0.15.9 is available!  To upgrade, please run:\n",
       " $ pip install wandb --upgrade"
      ],
      "text/plain": [
       "<IPython.core.display.HTML object>"
      ]
     },
     "metadata": {},
     "output_type": "display_data"
    },
    {
     "data": {
      "text/html": [
       "Tracking run with wandb version 0.15.5"
      ],
      "text/plain": [
       "<IPython.core.display.HTML object>"
      ]
     },
     "metadata": {},
     "output_type": "display_data"
    },
    {
     "data": {
      "text/html": [
       "Run data is saved locally in <code>c:\\Users\\thoma\\cnn_framework\\tutorials\\wandb\\run-20230904_100945-b6jnpdgp</code>"
      ],
      "text/plain": [
       "<IPython.core.display.HTML object>"
      ]
     },
     "metadata": {},
     "output_type": "display_data"
    },
    {
     "data": {
      "text/html": [
       "Syncing run <strong><a href='https://wandb.ai/cbio-bis/vae-dummy/runs/b6jnpdgp' target=\"_blank\">20230904-100937-local</a></strong> to <a href='https://wandb.ai/cbio-bis/vae-dummy' target=\"_blank\">Weights & Biases</a> (<a href='https://wandb.me/run' target=\"_blank\">docs</a>)<br/>"
      ],
      "text/plain": [
       "<IPython.core.display.HTML object>"
      ]
     },
     "metadata": {},
     "output_type": "display_data"
    },
    {
     "data": {
      "text/html": [
       " View project at <a href='https://wandb.ai/cbio-bis/vae-dummy' target=\"_blank\">https://wandb.ai/cbio-bis/vae-dummy</a>"
      ],
      "text/plain": [
       "<IPython.core.display.HTML object>"
      ]
     },
     "metadata": {},
     "output_type": "display_data"
    },
    {
     "data": {
      "text/html": [
       " View run at <a href='https://wandb.ai/cbio-bis/vae-dummy/runs/b6jnpdgp' target=\"_blank\">https://wandb.ai/cbio-bis/vae-dummy/runs/b6jnpdgp</a>"
      ],
      "text/plain": [
       "<IPython.core.display.HTML object>"
      ]
     },
     "metadata": {},
     "output_type": "display_data"
    }
   ],
   "source": [
    "# Create folder to save model\n",
    "os.makedirs(params.models_folder, exist_ok=True)\n",
    "\n",
    "my_training_config = BaseTrainerConfig(\n",
    "    output_dir=params.models_folder,\n",
    "    num_epochs=params.num_epochs,\n",
    "    learning_rate=params.learning_rate,\n",
    "    per_device_train_batch_size=params.batch_size,\n",
    "    per_device_eval_batch_size=params.batch_size,\n",
    "    train_dataloader_num_workers=params.num_workers,\n",
    "    eval_dataloader_num_workers=params.num_workers,\n",
    "    steps_saving=None,\n",
    "    optimizer_cls=\"AdamW\",\n",
    "    optimizer_params={\n",
    "        \"weight_decay\": params.weight_decay,\n",
    "        \"betas\": (params.beta1, params.beta2),\n",
    "    },\n",
    "    scheduler_cls=\"ReduceLROnPlateau\",\n",
    "    scheduler_params={\"patience\": 5, \"factor\": 0.5},\n",
    ")\n",
    "\n",
    "# Set up the model configuration\n",
    "my_vae_config = BetaVAEConfig(\n",
    "    reconstruction_loss=params.reconstruction_loss,\n",
    "    input_dim=(\n",
    "        params.nb_modalities * params.nb_stacks_per_modality,\n",
    "        params.input_dimensions.height,\n",
    "        params.input_dimensions.width,\n",
    "    ),\n",
    "    latent_dim=params.latent_dim,\n",
    "    beta=params.beta,\n",
    "    uses_default_decoder=False,\n",
    "    uses_default_encoder=False,\n",
    ")\n",
    "\n",
    "# Build the model\n",
    "if params.model_pretrained_path:\n",
    "    vae_model = AutoModel.load_from_folder(params.model_pretrained_path)\n",
    "    # Update modifiable parameters\n",
    "    vae_model.model_config = my_vae_config\n",
    "    vae_model.beta = my_vae_config.beta\n",
    "else:\n",
    "    encoder = CustomEncoder(params, my_vae_config)\n",
    "    print(f\"Number of parameters in encoder: {sum(p.numel() for p in encoder.parameters())}\")\n",
    "    decoder = CustomDecoder(params, my_vae_config)\n",
    "    print(f\"Number of parameters in decoder: {sum(p.numel() for p in decoder.parameters())}\")\n",
    "    vae_model = BetaVAE(encoder=encoder, decoder=decoder, model_config=my_vae_config)\n",
    "\n",
    "# Build the Pipeline\n",
    "pipeline = TrainingPipeline(training_config=my_training_config, model=vae_model)\n",
    "\n",
    "# Compute mean_std for future normalization\n",
    "model_manager = ModelManager(vae_model, params, None)\n",
    "model_manager.compute_and_save_mean_std(train_dl, val_dl)\n",
    "\n",
    "train_dl.dataset.initialize_transforms()\n",
    "val_dl.dataset.initialize_transforms()\n",
    "\n",
    "# Create you callback\n",
    "callbacks = []  # the TrainingPipeline expects a list of callbacks\n",
    "wandb_cb = WandbCallback()  # Build the callback\n",
    "# SetUp the callback\n",
    "wandb_cb.setup(\n",
    "    training_config=my_training_config,  # training config\n",
    "    model_config=my_vae_config,  # model config\n",
    "    project_name=params.wandb_project,  # specify your wandb project\n",
    "    entity_name=params.wandb_entity,  # specify your wandb entity\n",
    "    run_name=params.format_now,  # name of the run\n",
    ")\n",
    "callbacks.append(wandb_cb)  # Add it to the callbacks list"
   ]
  },
  {
   "cell_type": "code",
   "execution_count": 5,
   "metadata": {},
   "outputs": [
    {
     "name": "stderr",
     "output_type": "stream",
     "text": [
      "Checking train dataset...\n",
      "Checking eval dataset...\n",
      "Using Base Trainer\n",
      "\n",
      "Model passed sanity check !\n",
      "Ready for training.\n",
      "\n",
      "Created C:\\Users\\thoma\\models\\local/dummy_vae/20230904-100937-local\\BetaVAE_training_2023-09-04_10-10-03. \n",
      "Training config, checkpoints and final model will be saved here.\n",
      "\n",
      "Training params:\n",
      " - max_epochs: 30\n",
      " - per_device_train_batch_size: 2\n",
      " - per_device_eval_batch_size: 2\n",
      " - checkpoint saving every: None\n",
      "Optimizer: AdamW (\n",
      "Parameter Group 0\n",
      "    amsgrad: False\n",
      "    betas: (0.91, 0.995)\n",
      "    capturable: False\n",
      "    eps: 1e-08\n",
      "    foreach: None\n",
      "    lr: 0.0001\n",
      "    maximize: False\n",
      "    weight_decay: 0.05\n",
      ")\n",
      "Scheduler: <torch.optim.lr_scheduler.ReduceLROnPlateau object at 0x0000021594EC6DC0>\n",
      "\n",
      "Successfully launched training !\n",
      "\n"
     ]
    },
    {
     "data": {
      "application/json": {
       "ascii": false,
       "bar_format": null,
       "colour": null,
       "elapsed": 0.003999233245849609,
       "initial": 0,
       "n": 0,
       "ncols": null,
       "nrows": null,
       "postfix": null,
       "prefix": "Training of epoch 1/30",
       "rate": null,
       "total": 80,
       "unit": "batch",
       "unit_divisor": 1000,
       "unit_scale": false
      },
      "application/vnd.jupyter.widget-view+json": {
       "model_id": "9df7d8ac02a1420fb5ec28b207536d64",
       "version_major": 2,
       "version_minor": 0
      },
      "text/plain": [
       "Training of epoch 1/30:   0%|          | 0/80 [00:00<?, ?batch/s]"
      ]
     },
     "metadata": {},
     "output_type": "display_data"
    },
    {
     "data": {
      "application/json": {
       "ascii": false,
       "bar_format": null,
       "colour": null,
       "elapsed": 0.0040056705474853516,
       "initial": 0,
       "n": 0,
       "ncols": null,
       "nrows": null,
       "postfix": null,
       "prefix": "Eval of epoch 1/30",
       "rate": null,
       "total": 10,
       "unit": "batch",
       "unit_divisor": 1000,
       "unit_scale": false
      },
      "application/vnd.jupyter.widget-view+json": {
       "model_id": "cf97c45c060f45d5b22499efbf2b0b7f",
       "version_major": 2,
       "version_minor": 0
      },
      "text/plain": [
       "Eval of epoch 1/30:   0%|          | 0/10 [00:00<?, ?batch/s]"
      ]
     },
     "metadata": {},
     "output_type": "display_data"
    },
    {
     "name": "stderr",
     "output_type": "stream",
     "text": [
      "--------------------------------------------------------------------------\n",
      "Train loss: 43090.0396\n",
      "Eval loss: 31301.6984\n",
      "--------------------------------------------------------------------------\n"
     ]
    },
    {
     "data": {
      "application/json": {
       "ascii": false,
       "bar_format": null,
       "colour": null,
       "elapsed": 0.004006147384643555,
       "initial": 0,
       "n": 0,
       "ncols": null,
       "nrows": null,
       "postfix": null,
       "prefix": "Training of epoch 2/30",
       "rate": null,
       "total": 80,
       "unit": "batch",
       "unit_divisor": 1000,
       "unit_scale": false
      },
      "application/vnd.jupyter.widget-view+json": {
       "model_id": "d298a9e6750649d7a407e910e23846ca",
       "version_major": 2,
       "version_minor": 0
      },
      "text/plain": [
       "Training of epoch 2/30:   0%|          | 0/80 [00:00<?, ?batch/s]"
      ]
     },
     "metadata": {},
     "output_type": "display_data"
    },
    {
     "data": {
      "application/json": {
       "ascii": false,
       "bar_format": null,
       "colour": null,
       "elapsed": 0.0036890506744384766,
       "initial": 0,
       "n": 0,
       "ncols": null,
       "nrows": null,
       "postfix": null,
       "prefix": "Eval of epoch 2/30",
       "rate": null,
       "total": 10,
       "unit": "batch",
       "unit_divisor": 1000,
       "unit_scale": false
      },
      "application/vnd.jupyter.widget-view+json": {
       "model_id": "2f3cd825fc4e45e49cfce7403dc8e08f",
       "version_major": 2,
       "version_minor": 0
      },
      "text/plain": [
       "Eval of epoch 2/30:   0%|          | 0/10 [00:00<?, ?batch/s]"
      ]
     },
     "metadata": {},
     "output_type": "display_data"
    },
    {
     "name": "stderr",
     "output_type": "stream",
     "text": [
      "--------------------------------------------------------------------------\n",
      "Train loss: 28036.8\n",
      "Eval loss: 26878.8192\n",
      "--------------------------------------------------------------------------\n"
     ]
    },
    {
     "data": {
      "application/json": {
       "ascii": false,
       "bar_format": null,
       "colour": null,
       "elapsed": 0.00500178337097168,
       "initial": 0,
       "n": 0,
       "ncols": null,
       "nrows": null,
       "postfix": null,
       "prefix": "Training of epoch 3/30",
       "rate": null,
       "total": 80,
       "unit": "batch",
       "unit_divisor": 1000,
       "unit_scale": false
      },
      "application/vnd.jupyter.widget-view+json": {
       "model_id": "6d61ec8e2309427ca30105c0f87c3e36",
       "version_major": 2,
       "version_minor": 0
      },
      "text/plain": [
       "Training of epoch 3/30:   0%|          | 0/80 [00:00<?, ?batch/s]"
      ]
     },
     "metadata": {},
     "output_type": "display_data"
    },
    {
     "data": {
      "application/json": {
       "ascii": false,
       "bar_format": null,
       "colour": null,
       "elapsed": 0.004004716873168945,
       "initial": 0,
       "n": 0,
       "ncols": null,
       "nrows": null,
       "postfix": null,
       "prefix": "Eval of epoch 3/30",
       "rate": null,
       "total": 10,
       "unit": "batch",
       "unit_divisor": 1000,
       "unit_scale": false
      },
      "application/vnd.jupyter.widget-view+json": {
       "model_id": "cfc91eb9dda6495ca646fd3dd347d7f6",
       "version_major": 2,
       "version_minor": 0
      },
      "text/plain": [
       "Eval of epoch 3/30:   0%|          | 0/10 [00:00<?, ?batch/s]"
      ]
     },
     "metadata": {},
     "output_type": "display_data"
    },
    {
     "name": "stderr",
     "output_type": "stream",
     "text": [
      "--------------------------------------------------------------------------\n",
      "Train loss: 23659.0557\n",
      "Eval loss: 25019.7531\n",
      "--------------------------------------------------------------------------\n"
     ]
    },
    {
     "data": {
      "application/json": {
       "ascii": false,
       "bar_format": null,
       "colour": null,
       "elapsed": 0.0040035247802734375,
       "initial": 0,
       "n": 0,
       "ncols": null,
       "nrows": null,
       "postfix": null,
       "prefix": "Training of epoch 4/30",
       "rate": null,
       "total": 80,
       "unit": "batch",
       "unit_divisor": 1000,
       "unit_scale": false
      },
      "application/vnd.jupyter.widget-view+json": {
       "model_id": "0ad0c8d6537748208765cd33eecbf84a",
       "version_major": 2,
       "version_minor": 0
      },
      "text/plain": [
       "Training of epoch 4/30:   0%|          | 0/80 [00:00<?, ?batch/s]"
      ]
     },
     "metadata": {},
     "output_type": "display_data"
    },
    {
     "data": {
      "application/json": {
       "ascii": false,
       "bar_format": null,
       "colour": null,
       "elapsed": 0.00500035285949707,
       "initial": 0,
       "n": 0,
       "ncols": null,
       "nrows": null,
       "postfix": null,
       "prefix": "Eval of epoch 4/30",
       "rate": null,
       "total": 10,
       "unit": "batch",
       "unit_divisor": 1000,
       "unit_scale": false
      },
      "application/vnd.jupyter.widget-view+json": {
       "model_id": "04194a02d86442c6a484042211c671b9",
       "version_major": 2,
       "version_minor": 0
      },
      "text/plain": [
       "Eval of epoch 4/30:   0%|          | 0/10 [00:00<?, ?batch/s]"
      ]
     },
     "metadata": {},
     "output_type": "display_data"
    },
    {
     "name": "stderr",
     "output_type": "stream",
     "text": [
      "--------------------------------------------------------------------------\n",
      "Train loss: 21549.7169\n",
      "Eval loss: 23317.5913\n",
      "--------------------------------------------------------------------------\n"
     ]
    },
    {
     "data": {
      "application/json": {
       "ascii": false,
       "bar_format": null,
       "colour": null,
       "elapsed": 0.005003690719604492,
       "initial": 0,
       "n": 0,
       "ncols": null,
       "nrows": null,
       "postfix": null,
       "prefix": "Training of epoch 5/30",
       "rate": null,
       "total": 80,
       "unit": "batch",
       "unit_divisor": 1000,
       "unit_scale": false
      },
      "application/vnd.jupyter.widget-view+json": {
       "model_id": "9ac1772cbc2d4c2fa566ef045bf2ca79",
       "version_major": 2,
       "version_minor": 0
      },
      "text/plain": [
       "Training of epoch 5/30:   0%|          | 0/80 [00:00<?, ?batch/s]"
      ]
     },
     "metadata": {},
     "output_type": "display_data"
    },
    {
     "data": {
      "application/json": {
       "ascii": false,
       "bar_format": null,
       "colour": null,
       "elapsed": 0.003996849060058594,
       "initial": 0,
       "n": 0,
       "ncols": null,
       "nrows": null,
       "postfix": null,
       "prefix": "Eval of epoch 5/30",
       "rate": null,
       "total": 10,
       "unit": "batch",
       "unit_divisor": 1000,
       "unit_scale": false
      },
      "application/vnd.jupyter.widget-view+json": {
       "model_id": "5dcc26d24bca4a50b43e55c090762da4",
       "version_major": 2,
       "version_minor": 0
      },
      "text/plain": [
       "Eval of epoch 5/30:   0%|          | 0/10 [00:00<?, ?batch/s]"
      ]
     },
     "metadata": {},
     "output_type": "display_data"
    },
    {
     "name": "stderr",
     "output_type": "stream",
     "text": [
      "--------------------------------------------------------------------------\n",
      "Train loss: 20917.1374\n",
      "Eval loss: 26409.5423\n",
      "--------------------------------------------------------------------------\n"
     ]
    },
    {
     "data": {
      "application/json": {
       "ascii": false,
       "bar_format": null,
       "colour": null,
       "elapsed": 0.004004716873168945,
       "initial": 0,
       "n": 0,
       "ncols": null,
       "nrows": null,
       "postfix": null,
       "prefix": "Training of epoch 6/30",
       "rate": null,
       "total": 80,
       "unit": "batch",
       "unit_divisor": 1000,
       "unit_scale": false
      },
      "application/vnd.jupyter.widget-view+json": {
       "model_id": "88207b7a83c74b7e9bb914ebb47e81a1",
       "version_major": 2,
       "version_minor": 0
      },
      "text/plain": [
       "Training of epoch 6/30:   0%|          | 0/80 [00:00<?, ?batch/s]"
      ]
     },
     "metadata": {},
     "output_type": "display_data"
    },
    {
     "data": {
      "application/json": {
       "ascii": false,
       "bar_format": null,
       "colour": null,
       "elapsed": 0.00500035285949707,
       "initial": 0,
       "n": 0,
       "ncols": null,
       "nrows": null,
       "postfix": null,
       "prefix": "Eval of epoch 6/30",
       "rate": null,
       "total": 10,
       "unit": "batch",
       "unit_divisor": 1000,
       "unit_scale": false
      },
      "application/vnd.jupyter.widget-view+json": {
       "model_id": "6bc2569b288045b880222baf282609db",
       "version_major": 2,
       "version_minor": 0
      },
      "text/plain": [
       "Eval of epoch 6/30:   0%|          | 0/10 [00:00<?, ?batch/s]"
      ]
     },
     "metadata": {},
     "output_type": "display_data"
    },
    {
     "name": "stderr",
     "output_type": "stream",
     "text": [
      "--------------------------------------------------------------------------\n",
      "Train loss: 20211.0782\n",
      "Eval loss: 21502.8673\n",
      "--------------------------------------------------------------------------\n"
     ]
    },
    {
     "data": {
      "application/json": {
       "ascii": false,
       "bar_format": null,
       "colour": null,
       "elapsed": 0.004999876022338867,
       "initial": 0,
       "n": 0,
       "ncols": null,
       "nrows": null,
       "postfix": null,
       "prefix": "Training of epoch 7/30",
       "rate": null,
       "total": 80,
       "unit": "batch",
       "unit_divisor": 1000,
       "unit_scale": false
      },
      "application/vnd.jupyter.widget-view+json": {
       "model_id": "1ba266b665c541f0bd145865e233f39e",
       "version_major": 2,
       "version_minor": 0
      },
      "text/plain": [
       "Training of epoch 7/30:   0%|          | 0/80 [00:00<?, ?batch/s]"
      ]
     },
     "metadata": {},
     "output_type": "display_data"
    },
    {
     "data": {
      "application/json": {
       "ascii": false,
       "bar_format": null,
       "colour": null,
       "elapsed": 0.004998683929443359,
       "initial": 0,
       "n": 0,
       "ncols": null,
       "nrows": null,
       "postfix": null,
       "prefix": "Eval of epoch 7/30",
       "rate": null,
       "total": 10,
       "unit": "batch",
       "unit_divisor": 1000,
       "unit_scale": false
      },
      "application/vnd.jupyter.widget-view+json": {
       "model_id": "b26c96a12d82455b8f213c55734cc5e7",
       "version_major": 2,
       "version_minor": 0
      },
      "text/plain": [
       "Eval of epoch 7/30:   0%|          | 0/10 [00:00<?, ?batch/s]"
      ]
     },
     "metadata": {},
     "output_type": "display_data"
    },
    {
     "name": "stderr",
     "output_type": "stream",
     "text": [
      "--------------------------------------------------------------------------\n",
      "Train loss: 19231.288\n",
      "Eval loss: 21725.39\n",
      "--------------------------------------------------------------------------\n"
     ]
    },
    {
     "data": {
      "application/json": {
       "ascii": false,
       "bar_format": null,
       "colour": null,
       "elapsed": 0.0039997100830078125,
       "initial": 0,
       "n": 0,
       "ncols": null,
       "nrows": null,
       "postfix": null,
       "prefix": "Training of epoch 8/30",
       "rate": null,
       "total": 80,
       "unit": "batch",
       "unit_divisor": 1000,
       "unit_scale": false
      },
      "application/vnd.jupyter.widget-view+json": {
       "model_id": "58b6ec7d3d1743958fb38596695e8122",
       "version_major": 2,
       "version_minor": 0
      },
      "text/plain": [
       "Training of epoch 8/30:   0%|          | 0/80 [00:00<?, ?batch/s]"
      ]
     },
     "metadata": {},
     "output_type": "display_data"
    },
    {
     "data": {
      "application/json": {
       "ascii": false,
       "bar_format": null,
       "colour": null,
       "elapsed": 0.004061460494995117,
       "initial": 0,
       "n": 0,
       "ncols": null,
       "nrows": null,
       "postfix": null,
       "prefix": "Eval of epoch 8/30",
       "rate": null,
       "total": 10,
       "unit": "batch",
       "unit_divisor": 1000,
       "unit_scale": false
      },
      "application/vnd.jupyter.widget-view+json": {
       "model_id": "007e82452dae4d2c80a63b46edf4f772",
       "version_major": 2,
       "version_minor": 0
      },
      "text/plain": [
       "Eval of epoch 8/30:   0%|          | 0/10 [00:00<?, ?batch/s]"
      ]
     },
     "metadata": {},
     "output_type": "display_data"
    },
    {
     "name": "stderr",
     "output_type": "stream",
     "text": [
      "--------------------------------------------------------------------------\n",
      "Train loss: 19903.3463\n",
      "Eval loss: 17542.0944\n",
      "--------------------------------------------------------------------------\n"
     ]
    },
    {
     "data": {
      "application/json": {
       "ascii": false,
       "bar_format": null,
       "colour": null,
       "elapsed": 0.004004478454589844,
       "initial": 0,
       "n": 0,
       "ncols": null,
       "nrows": null,
       "postfix": null,
       "prefix": "Training of epoch 9/30",
       "rate": null,
       "total": 80,
       "unit": "batch",
       "unit_divisor": 1000,
       "unit_scale": false
      },
      "application/vnd.jupyter.widget-view+json": {
       "model_id": "2fc00c1271954af9987dda5dc8184aaa",
       "version_major": 2,
       "version_minor": 0
      },
      "text/plain": [
       "Training of epoch 9/30:   0%|          | 0/80 [00:00<?, ?batch/s]"
      ]
     },
     "metadata": {},
     "output_type": "display_data"
    },
    {
     "data": {
      "application/json": {
       "ascii": false,
       "bar_format": null,
       "colour": null,
       "elapsed": 0.00500035285949707,
       "initial": 0,
       "n": 0,
       "ncols": null,
       "nrows": null,
       "postfix": null,
       "prefix": "Eval of epoch 9/30",
       "rate": null,
       "total": 10,
       "unit": "batch",
       "unit_divisor": 1000,
       "unit_scale": false
      },
      "application/vnd.jupyter.widget-view+json": {
       "model_id": "ceac0add9b664ce391165bb629563b8b",
       "version_major": 2,
       "version_minor": 0
      },
      "text/plain": [
       "Eval of epoch 9/30:   0%|          | 0/10 [00:00<?, ?batch/s]"
      ]
     },
     "metadata": {},
     "output_type": "display_data"
    },
    {
     "name": "stderr",
     "output_type": "stream",
     "text": [
      "--------------------------------------------------------------------------\n",
      "Train loss: 19228.109\n",
      "Eval loss: 20087.4067\n",
      "--------------------------------------------------------------------------\n"
     ]
    },
    {
     "data": {
      "application/json": {
       "ascii": false,
       "bar_format": null,
       "colour": null,
       "elapsed": 0.004002571105957031,
       "initial": 0,
       "n": 0,
       "ncols": null,
       "nrows": null,
       "postfix": null,
       "prefix": "Training of epoch 10/30",
       "rate": null,
       "total": 80,
       "unit": "batch",
       "unit_divisor": 1000,
       "unit_scale": false
      },
      "application/vnd.jupyter.widget-view+json": {
       "model_id": "c346cd9fc5fd4cbea5ace1493c40dd5c",
       "version_major": 2,
       "version_minor": 0
      },
      "text/plain": [
       "Training of epoch 10/30:   0%|          | 0/80 [00:00<?, ?batch/s]"
      ]
     },
     "metadata": {},
     "output_type": "display_data"
    },
    {
     "data": {
      "application/json": {
       "ascii": false,
       "bar_format": null,
       "colour": null,
       "elapsed": 0.004075288772583008,
       "initial": 0,
       "n": 0,
       "ncols": null,
       "nrows": null,
       "postfix": null,
       "prefix": "Eval of epoch 10/30",
       "rate": null,
       "total": 10,
       "unit": "batch",
       "unit_divisor": 1000,
       "unit_scale": false
      },
      "application/vnd.jupyter.widget-view+json": {
       "model_id": "100809a25b7e4c8fbf554dddca6c00d7",
       "version_major": 2,
       "version_minor": 0
      },
      "text/plain": [
       "Eval of epoch 10/30:   0%|          | 0/10 [00:00<?, ?batch/s]"
      ]
     },
     "metadata": {},
     "output_type": "display_data"
    },
    {
     "name": "stderr",
     "output_type": "stream",
     "text": [
      "--------------------------------------------------------------------------\n",
      "Train loss: 19164.2766\n",
      "Eval loss: 22474.9748\n",
      "--------------------------------------------------------------------------\n"
     ]
    },
    {
     "data": {
      "application/json": {
       "ascii": false,
       "bar_format": null,
       "colour": null,
       "elapsed": 0.004001617431640625,
       "initial": 0,
       "n": 0,
       "ncols": null,
       "nrows": null,
       "postfix": null,
       "prefix": "Training of epoch 11/30",
       "rate": null,
       "total": 80,
       "unit": "batch",
       "unit_divisor": 1000,
       "unit_scale": false
      },
      "application/vnd.jupyter.widget-view+json": {
       "model_id": "6995757ed21a4f569b7adc33a2447c42",
       "version_major": 2,
       "version_minor": 0
      },
      "text/plain": [
       "Training of epoch 11/30:   0%|          | 0/80 [00:00<?, ?batch/s]"
      ]
     },
     "metadata": {},
     "output_type": "display_data"
    },
    {
     "data": {
      "application/json": {
       "ascii": false,
       "bar_format": null,
       "colour": null,
       "elapsed": 0.003998756408691406,
       "initial": 0,
       "n": 0,
       "ncols": null,
       "nrows": null,
       "postfix": null,
       "prefix": "Eval of epoch 11/30",
       "rate": null,
       "total": 10,
       "unit": "batch",
       "unit_divisor": 1000,
       "unit_scale": false
      },
      "application/vnd.jupyter.widget-view+json": {
       "model_id": "04f3f1c5bd6a45c5ab0e296844f0f165",
       "version_major": 2,
       "version_minor": 0
      },
      "text/plain": [
       "Eval of epoch 11/30:   0%|          | 0/10 [00:00<?, ?batch/s]"
      ]
     },
     "metadata": {},
     "output_type": "display_data"
    },
    {
     "name": "stderr",
     "output_type": "stream",
     "text": [
      "--------------------------------------------------------------------------\n",
      "Train loss: 17772.1948\n",
      "Eval loss: 19940.4534\n",
      "--------------------------------------------------------------------------\n"
     ]
    },
    {
     "data": {
      "application/json": {
       "ascii": false,
       "bar_format": null,
       "colour": null,
       "elapsed": 0.004002094268798828,
       "initial": 0,
       "n": 0,
       "ncols": null,
       "nrows": null,
       "postfix": null,
       "prefix": "Training of epoch 12/30",
       "rate": null,
       "total": 80,
       "unit": "batch",
       "unit_divisor": 1000,
       "unit_scale": false
      },
      "application/vnd.jupyter.widget-view+json": {
       "model_id": "209693f0cfe44ebbaf8c7b4a54c6f2f6",
       "version_major": 2,
       "version_minor": 0
      },
      "text/plain": [
       "Training of epoch 12/30:   0%|          | 0/80 [00:00<?, ?batch/s]"
      ]
     },
     "metadata": {},
     "output_type": "display_data"
    },
    {
     "data": {
      "application/json": {
       "ascii": false,
       "bar_format": null,
       "colour": null,
       "elapsed": 0.0050008296966552734,
       "initial": 0,
       "n": 0,
       "ncols": null,
       "nrows": null,
       "postfix": null,
       "prefix": "Eval of epoch 12/30",
       "rate": null,
       "total": 10,
       "unit": "batch",
       "unit_divisor": 1000,
       "unit_scale": false
      },
      "application/vnd.jupyter.widget-view+json": {
       "model_id": "b25af26934a6433ab4b9fcb6721d2d58",
       "version_major": 2,
       "version_minor": 0
      },
      "text/plain": [
       "Eval of epoch 12/30:   0%|          | 0/10 [00:00<?, ?batch/s]"
      ]
     },
     "metadata": {},
     "output_type": "display_data"
    },
    {
     "name": "stderr",
     "output_type": "stream",
     "text": [
      "--------------------------------------------------------------------------\n",
      "Train loss: 18238.4297\n",
      "Eval loss: 18037.2854\n",
      "--------------------------------------------------------------------------\n"
     ]
    },
    {
     "data": {
      "application/json": {
       "ascii": false,
       "bar_format": null,
       "colour": null,
       "elapsed": 0.005002021789550781,
       "initial": 0,
       "n": 0,
       "ncols": null,
       "nrows": null,
       "postfix": null,
       "prefix": "Training of epoch 13/30",
       "rate": null,
       "total": 80,
       "unit": "batch",
       "unit_divisor": 1000,
       "unit_scale": false
      },
      "application/vnd.jupyter.widget-view+json": {
       "model_id": "478f7fb3407242c980601d415cb27a17",
       "version_major": 2,
       "version_minor": 0
      },
      "text/plain": [
       "Training of epoch 13/30:   0%|          | 0/80 [00:00<?, ?batch/s]"
      ]
     },
     "metadata": {},
     "output_type": "display_data"
    },
    {
     "data": {
      "application/json": {
       "ascii": false,
       "bar_format": null,
       "colour": null,
       "elapsed": 0.004068851470947266,
       "initial": 0,
       "n": 0,
       "ncols": null,
       "nrows": null,
       "postfix": null,
       "prefix": "Eval of epoch 13/30",
       "rate": null,
       "total": 10,
       "unit": "batch",
       "unit_divisor": 1000,
       "unit_scale": false
      },
      "application/vnd.jupyter.widget-view+json": {
       "model_id": "770594c651104ef99243a525d5df7d47",
       "version_major": 2,
       "version_minor": 0
      },
      "text/plain": [
       "Eval of epoch 13/30:   0%|          | 0/10 [00:00<?, ?batch/s]"
      ]
     },
     "metadata": {},
     "output_type": "display_data"
    },
    {
     "name": "stderr",
     "output_type": "stream",
     "text": [
      "--------------------------------------------------------------------------\n",
      "Train loss: 18297.3205\n",
      "Eval loss: 18590.3175\n",
      "--------------------------------------------------------------------------\n"
     ]
    },
    {
     "data": {
      "application/json": {
       "ascii": false,
       "bar_format": null,
       "colour": null,
       "elapsed": 0.003998756408691406,
       "initial": 0,
       "n": 0,
       "ncols": null,
       "nrows": null,
       "postfix": null,
       "prefix": "Training of epoch 14/30",
       "rate": null,
       "total": 80,
       "unit": "batch",
       "unit_divisor": 1000,
       "unit_scale": false
      },
      "application/vnd.jupyter.widget-view+json": {
       "model_id": "b701ba2c01e84c41a60a36f23a24f170",
       "version_major": 2,
       "version_minor": 0
      },
      "text/plain": [
       "Training of epoch 14/30:   0%|          | 0/80 [00:00<?, ?batch/s]"
      ]
     },
     "metadata": {},
     "output_type": "display_data"
    },
    {
     "data": {
      "application/json": {
       "ascii": false,
       "bar_format": null,
       "colour": null,
       "elapsed": 0.004976034164428711,
       "initial": 0,
       "n": 0,
       "ncols": null,
       "nrows": null,
       "postfix": null,
       "prefix": "Eval of epoch 14/30",
       "rate": null,
       "total": 10,
       "unit": "batch",
       "unit_divisor": 1000,
       "unit_scale": false
      },
      "application/vnd.jupyter.widget-view+json": {
       "model_id": "1dccd47a6bfa4dd584f6c408fdbbd9ff",
       "version_major": 2,
       "version_minor": 0
      },
      "text/plain": [
       "Eval of epoch 14/30:   0%|          | 0/10 [00:00<?, ?batch/s]"
      ]
     },
     "metadata": {},
     "output_type": "display_data"
    },
    {
     "name": "stderr",
     "output_type": "stream",
     "text": [
      "--------------------------------------------------------------------------\n",
      "Train loss: 17282.1459\n",
      "Eval loss: 21736.5156\n",
      "--------------------------------------------------------------------------\n"
     ]
    },
    {
     "data": {
      "application/json": {
       "ascii": false,
       "bar_format": null,
       "colour": null,
       "elapsed": 0.0040018558502197266,
       "initial": 0,
       "n": 0,
       "ncols": null,
       "nrows": null,
       "postfix": null,
       "prefix": "Training of epoch 15/30",
       "rate": null,
       "total": 80,
       "unit": "batch",
       "unit_divisor": 1000,
       "unit_scale": false
      },
      "application/vnd.jupyter.widget-view+json": {
       "model_id": "069e83efaa404ad793de14b7b4ef9cb6",
       "version_major": 2,
       "version_minor": 0
      },
      "text/plain": [
       "Training of epoch 15/30:   0%|          | 0/80 [00:00<?, ?batch/s]"
      ]
     },
     "metadata": {},
     "output_type": "display_data"
    },
    {
     "data": {
      "application/json": {
       "ascii": false,
       "bar_format": null,
       "colour": null,
       "elapsed": 0.003997087478637695,
       "initial": 0,
       "n": 0,
       "ncols": null,
       "nrows": null,
       "postfix": null,
       "prefix": "Eval of epoch 15/30",
       "rate": null,
       "total": 10,
       "unit": "batch",
       "unit_divisor": 1000,
       "unit_scale": false
      },
      "application/vnd.jupyter.widget-view+json": {
       "model_id": "13decc9d4bf14d53a7df9fc368612517",
       "version_major": 2,
       "version_minor": 0
      },
      "text/plain": [
       "Eval of epoch 15/30:   0%|          | 0/10 [00:00<?, ?batch/s]"
      ]
     },
     "metadata": {},
     "output_type": "display_data"
    },
    {
     "name": "stderr",
     "output_type": "stream",
     "text": [
      "--------------------------------------------------------------------------\n",
      "Train loss: 17160.7326\n",
      "Eval loss: 18315.9652\n",
      "--------------------------------------------------------------------------\n"
     ]
    },
    {
     "data": {
      "application/json": {
       "ascii": false,
       "bar_format": null,
       "colour": null,
       "elapsed": 0.003998994827270508,
       "initial": 0,
       "n": 0,
       "ncols": null,
       "nrows": null,
       "postfix": null,
       "prefix": "Training of epoch 16/30",
       "rate": null,
       "total": 80,
       "unit": "batch",
       "unit_divisor": 1000,
       "unit_scale": false
      },
      "application/vnd.jupyter.widget-view+json": {
       "model_id": "17c47b796d7740ef9aa67db16fb13a74",
       "version_major": 2,
       "version_minor": 0
      },
      "text/plain": [
       "Training of epoch 16/30:   0%|          | 0/80 [00:00<?, ?batch/s]"
      ]
     },
     "metadata": {},
     "output_type": "display_data"
    },
    {
     "data": {
      "application/json": {
       "ascii": false,
       "bar_format": null,
       "colour": null,
       "elapsed": 0.00400090217590332,
       "initial": 0,
       "n": 0,
       "ncols": null,
       "nrows": null,
       "postfix": null,
       "prefix": "Eval of epoch 16/30",
       "rate": null,
       "total": 10,
       "unit": "batch",
       "unit_divisor": 1000,
       "unit_scale": false
      },
      "application/vnd.jupyter.widget-view+json": {
       "model_id": "435126df023d41efaac4687a56a54937",
       "version_major": 2,
       "version_minor": 0
      },
      "text/plain": [
       "Eval of epoch 16/30:   0%|          | 0/10 [00:00<?, ?batch/s]"
      ]
     },
     "metadata": {},
     "output_type": "display_data"
    },
    {
     "name": "stderr",
     "output_type": "stream",
     "text": [
      "--------------------------------------------------------------------------\n",
      "Train loss: 15987.0908\n",
      "Eval loss: 18634.8125\n",
      "--------------------------------------------------------------------------\n"
     ]
    },
    {
     "data": {
      "application/json": {
       "ascii": false,
       "bar_format": null,
       "colour": null,
       "elapsed": 0.004002094268798828,
       "initial": 0,
       "n": 0,
       "ncols": null,
       "nrows": null,
       "postfix": null,
       "prefix": "Training of epoch 17/30",
       "rate": null,
       "total": 80,
       "unit": "batch",
       "unit_divisor": 1000,
       "unit_scale": false
      },
      "application/vnd.jupyter.widget-view+json": {
       "model_id": "4ea4a35452b345e3bf8971e5d32b7f11",
       "version_major": 2,
       "version_minor": 0
      },
      "text/plain": [
       "Training of epoch 17/30:   0%|          | 0/80 [00:00<?, ?batch/s]"
      ]
     },
     "metadata": {},
     "output_type": "display_data"
    },
    {
     "data": {
      "application/json": {
       "ascii": false,
       "bar_format": null,
       "colour": null,
       "elapsed": 0.004004001617431641,
       "initial": 0,
       "n": 0,
       "ncols": null,
       "nrows": null,
       "postfix": null,
       "prefix": "Eval of epoch 17/30",
       "rate": null,
       "total": 10,
       "unit": "batch",
       "unit_divisor": 1000,
       "unit_scale": false
      },
      "application/vnd.jupyter.widget-view+json": {
       "model_id": "4b8571047ba04129a76b9384b06b9855",
       "version_major": 2,
       "version_minor": 0
      },
      "text/plain": [
       "Eval of epoch 17/30:   0%|          | 0/10 [00:00<?, ?batch/s]"
      ]
     },
     "metadata": {},
     "output_type": "display_data"
    },
    {
     "name": "stderr",
     "output_type": "stream",
     "text": [
      "--------------------------------------------------------------------------\n",
      "Train loss: 16283.5457\n",
      "Eval loss: 18835.3607\n",
      "--------------------------------------------------------------------------\n"
     ]
    },
    {
     "data": {
      "application/json": {
       "ascii": false,
       "bar_format": null,
       "colour": null,
       "elapsed": 0.004004716873168945,
       "initial": 0,
       "n": 0,
       "ncols": null,
       "nrows": null,
       "postfix": null,
       "prefix": "Training of epoch 18/30",
       "rate": null,
       "total": 80,
       "unit": "batch",
       "unit_divisor": 1000,
       "unit_scale": false
      },
      "application/vnd.jupyter.widget-view+json": {
       "model_id": "c9217100303048c6987ec3695910a3d4",
       "version_major": 2,
       "version_minor": 0
      },
      "text/plain": [
       "Training of epoch 18/30:   0%|          | 0/80 [00:00<?, ?batch/s]"
      ]
     },
     "metadata": {},
     "output_type": "display_data"
    },
    {
     "data": {
      "application/json": {
       "ascii": false,
       "bar_format": null,
       "colour": null,
       "elapsed": 0.005105257034301758,
       "initial": 0,
       "n": 0,
       "ncols": null,
       "nrows": null,
       "postfix": null,
       "prefix": "Eval of epoch 18/30",
       "rate": null,
       "total": 10,
       "unit": "batch",
       "unit_divisor": 1000,
       "unit_scale": false
      },
      "application/vnd.jupyter.widget-view+json": {
       "model_id": "91136b364342434486e99c5bc6836d90",
       "version_major": 2,
       "version_minor": 0
      },
      "text/plain": [
       "Eval of epoch 18/30:   0%|          | 0/10 [00:00<?, ?batch/s]"
      ]
     },
     "metadata": {},
     "output_type": "display_data"
    },
    {
     "name": "stderr",
     "output_type": "stream",
     "text": [
      "--------------------------------------------------------------------------\n",
      "Train loss: 15715.113\n",
      "Eval loss: 19050.3412\n",
      "--------------------------------------------------------------------------\n"
     ]
    },
    {
     "data": {
      "application/json": {
       "ascii": false,
       "bar_format": null,
       "colour": null,
       "elapsed": 0.007000446319580078,
       "initial": 0,
       "n": 0,
       "ncols": null,
       "nrows": null,
       "postfix": null,
       "prefix": "Training of epoch 19/30",
       "rate": null,
       "total": 80,
       "unit": "batch",
       "unit_divisor": 1000,
       "unit_scale": false
      },
      "application/vnd.jupyter.widget-view+json": {
       "model_id": "884e5641578b4b4d9ddd05c701298c84",
       "version_major": 2,
       "version_minor": 0
      },
      "text/plain": [
       "Training of epoch 19/30:   0%|          | 0/80 [00:00<?, ?batch/s]"
      ]
     },
     "metadata": {},
     "output_type": "display_data"
    },
    {
     "data": {
      "application/json": {
       "ascii": false,
       "bar_format": null,
       "colour": null,
       "elapsed": 0.004000663757324219,
       "initial": 0,
       "n": 0,
       "ncols": null,
       "nrows": null,
       "postfix": null,
       "prefix": "Eval of epoch 19/30",
       "rate": null,
       "total": 10,
       "unit": "batch",
       "unit_divisor": 1000,
       "unit_scale": false
      },
      "application/vnd.jupyter.widget-view+json": {
       "model_id": "8c806fff732745ef85fdf3145c598053",
       "version_major": 2,
       "version_minor": 0
      },
      "text/plain": [
       "Eval of epoch 19/30:   0%|          | 0/10 [00:00<?, ?batch/s]"
      ]
     },
     "metadata": {},
     "output_type": "display_data"
    },
    {
     "name": "stderr",
     "output_type": "stream",
     "text": [
      "--------------------------------------------------------------------------\n",
      "Train loss: 15802.772\n",
      "Eval loss: 20990.2872\n",
      "--------------------------------------------------------------------------\n"
     ]
    },
    {
     "data": {
      "application/json": {
       "ascii": false,
       "bar_format": null,
       "colour": null,
       "elapsed": 0.004003286361694336,
       "initial": 0,
       "n": 0,
       "ncols": null,
       "nrows": null,
       "postfix": null,
       "prefix": "Training of epoch 20/30",
       "rate": null,
       "total": 80,
       "unit": "batch",
       "unit_divisor": 1000,
       "unit_scale": false
      },
      "application/vnd.jupyter.widget-view+json": {
       "model_id": "edbb2f7af4ce43d8bf68ca2a036bc978",
       "version_major": 2,
       "version_minor": 0
      },
      "text/plain": [
       "Training of epoch 20/30:   0%|          | 0/80 [00:00<?, ?batch/s]"
      ]
     },
     "metadata": {},
     "output_type": "display_data"
    },
    {
     "data": {
      "application/json": {
       "ascii": false,
       "bar_format": null,
       "colour": null,
       "elapsed": 0.005121946334838867,
       "initial": 0,
       "n": 0,
       "ncols": null,
       "nrows": null,
       "postfix": null,
       "prefix": "Eval of epoch 20/30",
       "rate": null,
       "total": 10,
       "unit": "batch",
       "unit_divisor": 1000,
       "unit_scale": false
      },
      "application/vnd.jupyter.widget-view+json": {
       "model_id": "0fa742a906074ade87914ba1fe3b61b0",
       "version_major": 2,
       "version_minor": 0
      },
      "text/plain": [
       "Eval of epoch 20/30:   0%|          | 0/10 [00:00<?, ?batch/s]"
      ]
     },
     "metadata": {},
     "output_type": "display_data"
    },
    {
     "name": "stderr",
     "output_type": "stream",
     "text": [
      "--------------------------------------------------------------------------\n",
      "Train loss: 15894.9379\n",
      "Eval loss: 15640.5741\n",
      "--------------------------------------------------------------------------\n"
     ]
    },
    {
     "data": {
      "application/json": {
       "ascii": false,
       "bar_format": null,
       "colour": null,
       "elapsed": 0.004000186920166016,
       "initial": 0,
       "n": 0,
       "ncols": null,
       "nrows": null,
       "postfix": null,
       "prefix": "Training of epoch 21/30",
       "rate": null,
       "total": 80,
       "unit": "batch",
       "unit_divisor": 1000,
       "unit_scale": false
      },
      "application/vnd.jupyter.widget-view+json": {
       "model_id": "5ef0a1cd161449e481fdafe1bbfe99ee",
       "version_major": 2,
       "version_minor": 0
      },
      "text/plain": [
       "Training of epoch 21/30:   0%|          | 0/80 [00:00<?, ?batch/s]"
      ]
     },
     "metadata": {},
     "output_type": "display_data"
    },
    {
     "data": {
      "application/json": {
       "ascii": false,
       "bar_format": null,
       "colour": null,
       "elapsed": 0.004004001617431641,
       "initial": 0,
       "n": 0,
       "ncols": null,
       "nrows": null,
       "postfix": null,
       "prefix": "Eval of epoch 21/30",
       "rate": null,
       "total": 10,
       "unit": "batch",
       "unit_divisor": 1000,
       "unit_scale": false
      },
      "application/vnd.jupyter.widget-view+json": {
       "model_id": "1bdf575acefc48d6ba91e053c532b0ba",
       "version_major": 2,
       "version_minor": 0
      },
      "text/plain": [
       "Eval of epoch 21/30:   0%|          | 0/10 [00:00<?, ?batch/s]"
      ]
     },
     "metadata": {},
     "output_type": "display_data"
    },
    {
     "name": "stderr",
     "output_type": "stream",
     "text": [
      "--------------------------------------------------------------------------\n",
      "Train loss: 15558.3229\n",
      "Eval loss: 20271.3838\n",
      "--------------------------------------------------------------------------\n"
     ]
    },
    {
     "data": {
      "application/json": {
       "ascii": false,
       "bar_format": null,
       "colour": null,
       "elapsed": 0.004004001617431641,
       "initial": 0,
       "n": 0,
       "ncols": null,
       "nrows": null,
       "postfix": null,
       "prefix": "Training of epoch 22/30",
       "rate": null,
       "total": 80,
       "unit": "batch",
       "unit_divisor": 1000,
       "unit_scale": false
      },
      "application/vnd.jupyter.widget-view+json": {
       "model_id": "7addfde1308e4dd0b809ae24c5b1bd59",
       "version_major": 2,
       "version_minor": 0
      },
      "text/plain": [
       "Training of epoch 22/30:   0%|          | 0/80 [00:00<?, ?batch/s]"
      ]
     },
     "metadata": {},
     "output_type": "display_data"
    },
    {
     "data": {
      "application/json": {
       "ascii": false,
       "bar_format": null,
       "colour": null,
       "elapsed": 0.0040018558502197266,
       "initial": 0,
       "n": 0,
       "ncols": null,
       "nrows": null,
       "postfix": null,
       "prefix": "Eval of epoch 22/30",
       "rate": null,
       "total": 10,
       "unit": "batch",
       "unit_divisor": 1000,
       "unit_scale": false
      },
      "application/vnd.jupyter.widget-view+json": {
       "model_id": "dc65252565e741648bafb65793934e90",
       "version_major": 2,
       "version_minor": 0
      },
      "text/plain": [
       "Eval of epoch 22/30:   0%|          | 0/10 [00:00<?, ?batch/s]"
      ]
     },
     "metadata": {},
     "output_type": "display_data"
    },
    {
     "name": "stderr",
     "output_type": "stream",
     "text": [
      "--------------------------------------------------------------------------\n",
      "Train loss: 14811.0014\n",
      "Eval loss: 21450.1669\n",
      "--------------------------------------------------------------------------\n"
     ]
    },
    {
     "data": {
      "application/json": {
       "ascii": false,
       "bar_format": null,
       "colour": null,
       "elapsed": 0.00400543212890625,
       "initial": 0,
       "n": 0,
       "ncols": null,
       "nrows": null,
       "postfix": null,
       "prefix": "Training of epoch 23/30",
       "rate": null,
       "total": 80,
       "unit": "batch",
       "unit_divisor": 1000,
       "unit_scale": false
      },
      "application/vnd.jupyter.widget-view+json": {
       "model_id": "72948c8d69be4e739ff63ab3eff61c16",
       "version_major": 2,
       "version_minor": 0
      },
      "text/plain": [
       "Training of epoch 23/30:   0%|          | 0/80 [00:00<?, ?batch/s]"
      ]
     },
     "metadata": {},
     "output_type": "display_data"
    },
    {
     "data": {
      "application/json": {
       "ascii": false,
       "bar_format": null,
       "colour": null,
       "elapsed": 0.005001068115234375,
       "initial": 0,
       "n": 0,
       "ncols": null,
       "nrows": null,
       "postfix": null,
       "prefix": "Eval of epoch 23/30",
       "rate": null,
       "total": 10,
       "unit": "batch",
       "unit_divisor": 1000,
       "unit_scale": false
      },
      "application/vnd.jupyter.widget-view+json": {
       "model_id": "e3ae176370ee4cc5b997a13657c19c7c",
       "version_major": 2,
       "version_minor": 0
      },
      "text/plain": [
       "Eval of epoch 23/30:   0%|          | 0/10 [00:00<?, ?batch/s]"
      ]
     },
     "metadata": {},
     "output_type": "display_data"
    },
    {
     "name": "stderr",
     "output_type": "stream",
     "text": [
      "--------------------------------------------------------------------------\n",
      "Train loss: 15198.0227\n",
      "Eval loss: 19266.8711\n",
      "--------------------------------------------------------------------------\n"
     ]
    },
    {
     "data": {
      "application/json": {
       "ascii": false,
       "bar_format": null,
       "colour": null,
       "elapsed": 0.0040018558502197266,
       "initial": 0,
       "n": 0,
       "ncols": null,
       "nrows": null,
       "postfix": null,
       "prefix": "Training of epoch 24/30",
       "rate": null,
       "total": 80,
       "unit": "batch",
       "unit_divisor": 1000,
       "unit_scale": false
      },
      "application/vnd.jupyter.widget-view+json": {
       "model_id": "c27cfb6c912c484fbbe3b70bdbd35ce1",
       "version_major": 2,
       "version_minor": 0
      },
      "text/plain": [
       "Training of epoch 24/30:   0%|          | 0/80 [00:00<?, ?batch/s]"
      ]
     },
     "metadata": {},
     "output_type": "display_data"
    },
    {
     "data": {
      "application/json": {
       "ascii": false,
       "bar_format": null,
       "colour": null,
       "elapsed": 0.003999948501586914,
       "initial": 0,
       "n": 0,
       "ncols": null,
       "nrows": null,
       "postfix": null,
       "prefix": "Eval of epoch 24/30",
       "rate": null,
       "total": 10,
       "unit": "batch",
       "unit_divisor": 1000,
       "unit_scale": false
      },
      "application/vnd.jupyter.widget-view+json": {
       "model_id": "07b5a9414bd84f7e975ad6f8b3b5f3d4",
       "version_major": 2,
       "version_minor": 0
      },
      "text/plain": [
       "Eval of epoch 24/30:   0%|          | 0/10 [00:00<?, ?batch/s]"
      ]
     },
     "metadata": {},
     "output_type": "display_data"
    },
    {
     "name": "stderr",
     "output_type": "stream",
     "text": [
      "--------------------------------------------------------------------------\n",
      "Train loss: 15035.3942\n",
      "Eval loss: 19176.2961\n",
      "--------------------------------------------------------------------------\n"
     ]
    },
    {
     "data": {
      "application/json": {
       "ascii": false,
       "bar_format": null,
       "colour": null,
       "elapsed": 0.00500035285949707,
       "initial": 0,
       "n": 0,
       "ncols": null,
       "nrows": null,
       "postfix": null,
       "prefix": "Training of epoch 25/30",
       "rate": null,
       "total": 80,
       "unit": "batch",
       "unit_divisor": 1000,
       "unit_scale": false
      },
      "application/vnd.jupyter.widget-view+json": {
       "model_id": "6faca92448614d65983cc2af6d1bb7fe",
       "version_major": 2,
       "version_minor": 0
      },
      "text/plain": [
       "Training of epoch 25/30:   0%|          | 0/80 [00:00<?, ?batch/s]"
      ]
     },
     "metadata": {},
     "output_type": "display_data"
    },
    {
     "data": {
      "application/json": {
       "ascii": false,
       "bar_format": null,
       "colour": null,
       "elapsed": 0.003996610641479492,
       "initial": 0,
       "n": 0,
       "ncols": null,
       "nrows": null,
       "postfix": null,
       "prefix": "Eval of epoch 25/30",
       "rate": null,
       "total": 10,
       "unit": "batch",
       "unit_divisor": 1000,
       "unit_scale": false
      },
      "application/vnd.jupyter.widget-view+json": {
       "model_id": "42d4555ac6514ba6b73a2186cae44d6d",
       "version_major": 2,
       "version_minor": 0
      },
      "text/plain": [
       "Eval of epoch 25/30:   0%|          | 0/10 [00:00<?, ?batch/s]"
      ]
     },
     "metadata": {},
     "output_type": "display_data"
    },
    {
     "name": "stderr",
     "output_type": "stream",
     "text": [
      "--------------------------------------------------------------------------\n",
      "Train loss: 15571.9409\n",
      "Eval loss: 17199.9105\n",
      "--------------------------------------------------------------------------\n"
     ]
    },
    {
     "data": {
      "application/json": {
       "ascii": false,
       "bar_format": null,
       "colour": null,
       "elapsed": 0.006005287170410156,
       "initial": 0,
       "n": 0,
       "ncols": null,
       "nrows": null,
       "postfix": null,
       "prefix": "Training of epoch 26/30",
       "rate": null,
       "total": 80,
       "unit": "batch",
       "unit_divisor": 1000,
       "unit_scale": false
      },
      "application/vnd.jupyter.widget-view+json": {
       "model_id": "a1ec1ab17e0045fe934e620477fe8167",
       "version_major": 2,
       "version_minor": 0
      },
      "text/plain": [
       "Training of epoch 26/30:   0%|          | 0/80 [00:00<?, ?batch/s]"
      ]
     },
     "metadata": {},
     "output_type": "display_data"
    },
    {
     "data": {
      "application/json": {
       "ascii": false,
       "bar_format": null,
       "colour": null,
       "elapsed": 0.004000186920166016,
       "initial": 0,
       "n": 0,
       "ncols": null,
       "nrows": null,
       "postfix": null,
       "prefix": "Eval of epoch 26/30",
       "rate": null,
       "total": 10,
       "unit": "batch",
       "unit_divisor": 1000,
       "unit_scale": false
      },
      "application/vnd.jupyter.widget-view+json": {
       "model_id": "fb1fda826c4d428bb9a0c8762d5fdd26",
       "version_major": 2,
       "version_minor": 0
      },
      "text/plain": [
       "Eval of epoch 26/30:   0%|          | 0/10 [00:00<?, ?batch/s]"
      ]
     },
     "metadata": {},
     "output_type": "display_data"
    },
    {
     "name": "stderr",
     "output_type": "stream",
     "text": [
      "--------------------------------------------------------------------------\n",
      "Train loss: 15752.4307\n",
      "Eval loss: 20594.4962\n",
      "--------------------------------------------------------------------------\n"
     ]
    },
    {
     "data": {
      "application/json": {
       "ascii": false,
       "bar_format": null,
       "colour": null,
       "elapsed": 0.003999471664428711,
       "initial": 0,
       "n": 0,
       "ncols": null,
       "nrows": null,
       "postfix": null,
       "prefix": "Training of epoch 27/30",
       "rate": null,
       "total": 80,
       "unit": "batch",
       "unit_divisor": 1000,
       "unit_scale": false
      },
      "application/vnd.jupyter.widget-view+json": {
       "model_id": "3e7823822be646d0a39087f0373bcc0b",
       "version_major": 2,
       "version_minor": 0
      },
      "text/plain": [
       "Training of epoch 27/30:   0%|          | 0/80 [00:00<?, ?batch/s]"
      ]
     },
     "metadata": {},
     "output_type": "display_data"
    },
    {
     "data": {
      "application/json": {
       "ascii": false,
       "bar_format": null,
       "colour": null,
       "elapsed": 0.003000020980834961,
       "initial": 0,
       "n": 0,
       "ncols": null,
       "nrows": null,
       "postfix": null,
       "prefix": "Eval of epoch 27/30",
       "rate": null,
       "total": 10,
       "unit": "batch",
       "unit_divisor": 1000,
       "unit_scale": false
      },
      "application/vnd.jupyter.widget-view+json": {
       "model_id": "5b0ec9b43c5a402d9166d1b02d51ec27",
       "version_major": 2,
       "version_minor": 0
      },
      "text/plain": [
       "Eval of epoch 27/30:   0%|          | 0/10 [00:00<?, ?batch/s]"
      ]
     },
     "metadata": {},
     "output_type": "display_data"
    },
    {
     "name": "stderr",
     "output_type": "stream",
     "text": [
      "--------------------------------------------------------------------------\n",
      "Train loss: 14063.135\n",
      "Eval loss: 18131.2066\n",
      "--------------------------------------------------------------------------\n"
     ]
    },
    {
     "data": {
      "application/json": {
       "ascii": false,
       "bar_format": null,
       "colour": null,
       "elapsed": 0.0039997100830078125,
       "initial": 0,
       "n": 0,
       "ncols": null,
       "nrows": null,
       "postfix": null,
       "prefix": "Training of epoch 28/30",
       "rate": null,
       "total": 80,
       "unit": "batch",
       "unit_divisor": 1000,
       "unit_scale": false
      },
      "application/vnd.jupyter.widget-view+json": {
       "model_id": "2fdb66528402469783a76841894b614e",
       "version_major": 2,
       "version_minor": 0
      },
      "text/plain": [
       "Training of epoch 28/30:   0%|          | 0/80 [00:00<?, ?batch/s]"
      ]
     },
     "metadata": {},
     "output_type": "display_data"
    },
    {
     "data": {
      "application/json": {
       "ascii": false,
       "bar_format": null,
       "colour": null,
       "elapsed": 0.005005598068237305,
       "initial": 0,
       "n": 0,
       "ncols": null,
       "nrows": null,
       "postfix": null,
       "prefix": "Eval of epoch 28/30",
       "rate": null,
       "total": 10,
       "unit": "batch",
       "unit_divisor": 1000,
       "unit_scale": false
      },
      "application/vnd.jupyter.widget-view+json": {
       "model_id": "2b27e76ee835487fb1cdb9bfdb333730",
       "version_major": 2,
       "version_minor": 0
      },
      "text/plain": [
       "Eval of epoch 28/30:   0%|          | 0/10 [00:00<?, ?batch/s]"
      ]
     },
     "metadata": {},
     "output_type": "display_data"
    },
    {
     "name": "stderr",
     "output_type": "stream",
     "text": [
      "--------------------------------------------------------------------------\n",
      "Train loss: 14019.0384\n",
      "Eval loss: 16033.4021\n",
      "--------------------------------------------------------------------------\n"
     ]
    },
    {
     "data": {
      "application/json": {
       "ascii": false,
       "bar_format": null,
       "colour": null,
       "elapsed": 0.00436854362487793,
       "initial": 0,
       "n": 0,
       "ncols": null,
       "nrows": null,
       "postfix": null,
       "prefix": "Training of epoch 29/30",
       "rate": null,
       "total": 80,
       "unit": "batch",
       "unit_divisor": 1000,
       "unit_scale": false
      },
      "application/vnd.jupyter.widget-view+json": {
       "model_id": "bced08f148c84934bc4ecba251f05fc8",
       "version_major": 2,
       "version_minor": 0
      },
      "text/plain": [
       "Training of epoch 29/30:   0%|          | 0/80 [00:00<?, ?batch/s]"
      ]
     },
     "metadata": {},
     "output_type": "display_data"
    },
    {
     "data": {
      "application/json": {
       "ascii": false,
       "bar_format": null,
       "colour": null,
       "elapsed": 0.005999326705932617,
       "initial": 0,
       "n": 0,
       "ncols": null,
       "nrows": null,
       "postfix": null,
       "prefix": "Eval of epoch 29/30",
       "rate": null,
       "total": 10,
       "unit": "batch",
       "unit_divisor": 1000,
       "unit_scale": false
      },
      "application/vnd.jupyter.widget-view+json": {
       "model_id": "7a271cd5df4c4f9b8262f69f0109e1d0",
       "version_major": 2,
       "version_minor": 0
      },
      "text/plain": [
       "Eval of epoch 29/30:   0%|          | 0/10 [00:00<?, ?batch/s]"
      ]
     },
     "metadata": {},
     "output_type": "display_data"
    },
    {
     "name": "stderr",
     "output_type": "stream",
     "text": [
      "--------------------------------------------------------------------------\n",
      "Train loss: 13947.9459\n",
      "Eval loss: 16927.5234\n",
      "--------------------------------------------------------------------------\n"
     ]
    },
    {
     "data": {
      "application/json": {
       "ascii": false,
       "bar_format": null,
       "colour": null,
       "elapsed": 0.003998517990112305,
       "initial": 0,
       "n": 0,
       "ncols": null,
       "nrows": null,
       "postfix": null,
       "prefix": "Training of epoch 30/30",
       "rate": null,
       "total": 80,
       "unit": "batch",
       "unit_divisor": 1000,
       "unit_scale": false
      },
      "application/vnd.jupyter.widget-view+json": {
       "model_id": "2820109ef5634934b5dfe74d0f251646",
       "version_major": 2,
       "version_minor": 0
      },
      "text/plain": [
       "Training of epoch 30/30:   0%|          | 0/80 [00:00<?, ?batch/s]"
      ]
     },
     "metadata": {},
     "output_type": "display_data"
    },
    {
     "data": {
      "application/json": {
       "ascii": false,
       "bar_format": null,
       "colour": null,
       "elapsed": 0.003999948501586914,
       "initial": 0,
       "n": 0,
       "ncols": null,
       "nrows": null,
       "postfix": null,
       "prefix": "Eval of epoch 30/30",
       "rate": null,
       "total": 10,
       "unit": "batch",
       "unit_divisor": 1000,
       "unit_scale": false
      },
      "application/vnd.jupyter.widget-view+json": {
       "model_id": "0886d882e1f34c6b8c1115dd48cdca0e",
       "version_major": 2,
       "version_minor": 0
      },
      "text/plain": [
       "Eval of epoch 30/30:   0%|          | 0/10 [00:00<?, ?batch/s]"
      ]
     },
     "metadata": {},
     "output_type": "display_data"
    },
    {
     "name": "stderr",
     "output_type": "stream",
     "text": [
      "--------------------------------------------------------------------------\n",
      "Train loss: 13603.5094\n",
      "Eval loss: 17983.807\n",
      "--------------------------------------------------------------------------\n",
      "Training ended!\n",
      "Saved final model in C:\\Users\\thoma\\models\\local/dummy_vae/20230904-100937-local\\BetaVAE_training_2023-09-04_10-10-03\\final_model\n"
     ]
    },
    {
     "data": {
      "text/html": [
       "Waiting for W&B process to finish... <strong style=\"color:green\">(success).</strong>"
      ],
      "text/plain": [
       "<IPython.core.display.HTML object>"
      ]
     },
     "metadata": {},
     "output_type": "display_data"
    },
    {
     "data": {
      "application/vnd.jupyter.widget-view+json": {
       "model_id": "c51aadf4f1524679a8fa5d3accf9a13e",
       "version_major": 2,
       "version_minor": 0
      },
      "text/plain": [
       "VBox(children=(Label(value='0.001 MB of 0.022 MB uploaded (0.000 MB deduped)\\r'), FloatProgress(value=0.058060…"
      ]
     },
     "metadata": {},
     "output_type": "display_data"
    },
    {
     "data": {
      "text/html": [
       "<style>\n",
       "    table.wandb td:nth-child(1) { padding: 0 10px; text-align: left ; width: auto;} td:nth-child(2) {text-align: left ; width: 100%}\n",
       "    .wandb-row { display: flex; flex-direction: row; flex-wrap: wrap; justify-content: flex-start; width: 100% }\n",
       "    .wandb-col { display: flex; flex-direction: column; flex-basis: 100%; flex: 1; padding: 10px; }\n",
       "    </style>\n",
       "<div class=\"wandb-row\"><div class=\"wandb-col\"><h3>Run history:</h3><br/><table class=\"wandb\"><tr><td>eval/epoch_loss</td><td>█▆▅▄▆▄▄▂▃▄▃▂▂▄▂▂▂▃▃▁▃▄▃▃▂▃▂▁▂▂</td></tr><tr><td>train/epoch_loss</td><td>█▄▃▃▃▃▂▂▂▂▂▂▂▂▂▂▂▂▂▂▁▁▁▁▁▂▁▁▁▁</td></tr><tr><td>train/global_step</td><td>▁▁▁▂▂▂▂▃▃▃▃▄▄▄▄▅▅▅▅▆▆▆▆▇▇▇▇███</td></tr></table><br/></div><div class=\"wandb-col\"><h3>Run summary:</h3><br/><table class=\"wandb\"><tr><td>eval/epoch_loss</td><td>17983.80696</td></tr><tr><td>train/epoch_loss</td><td>13603.50936</td></tr><tr><td>train/global_step</td><td>30</td></tr></table><br/></div></div>"
      ],
      "text/plain": [
       "<IPython.core.display.HTML object>"
      ]
     },
     "metadata": {},
     "output_type": "display_data"
    },
    {
     "data": {
      "text/html": [
       " View run <strong style=\"color:#cdcd00\">20230904-100937-local</strong> at: <a href='https://wandb.ai/cbio-bis/vae-dummy/runs/b6jnpdgp' target=\"_blank\">https://wandb.ai/cbio-bis/vae-dummy/runs/b6jnpdgp</a><br/>Synced 6 W&B file(s), 0 media file(s), 0 artifact file(s) and 0 other file(s)"
      ],
      "text/plain": [
       "<IPython.core.display.HTML object>"
      ]
     },
     "metadata": {},
     "output_type": "display_data"
    },
    {
     "data": {
      "text/html": [
       "Find logs at: <code>.\\wandb\\run-20230904_100945-b6jnpdgp\\logs</code>"
      ],
      "text/plain": [
       "<IPython.core.display.HTML object>"
      ]
     },
     "metadata": {},
     "output_type": "display_data"
    }
   ],
   "source": [
    "# Launch the Pipeline\n",
    "pipeline(\n",
    "    train_data=train_dl.dataset,  # must be torch.Tensor, np.array or torch datasets\n",
    "    eval_data=val_dl.dataset,  # must be torch.Tensor, np.array or torch datasets\n",
    "    callbacks=callbacks,\n",
    ")"
   ]
  },
  {
   "cell_type": "code",
   "execution_count": 6,
   "metadata": {},
   "outputs": [
    {
     "name": "stdout",
     "output_type": "stream",
     "text": [
      "Current commit hash: 8fb09e49bd9849a488b1c0871e163fc6c713b2f7\n",
      "Model evaluation in progress: 100.0% | Batch #9\n",
      "Average MeanSquaredError: -0.4\n"
     ]
    }
   ],
   "source": [
    "# Test and save images\n",
    "manager = VAEModelManager(vae_model, params, MeanSquaredErrorMetric)\n",
    "manager.predict(test_dl)"
   ]
  }
 ],
 "metadata": {
  "kernelspec": {
   "display_name": "pytorch-env2",
   "language": "python",
   "name": "python3"
  },
  "language_info": {
   "codemirror_mode": {
    "name": "ipython",
    "version": 3
   },
   "file_extension": ".py",
   "mimetype": "text/x-python",
   "name": "python",
   "nbconvert_exporter": "python",
   "pygments_lexer": "ipython3",
   "version": "3.9.13"
  },
  "orig_nbformat": 4
 },
 "nbformat": 4,
 "nbformat_minor": 2
}
