{
 "cells": [
  {
   "cell_type": "code",
   "execution_count": 1,
   "metadata": {},
   "outputs": [],
   "source": [
    "import os\n",
    "\n",
    "from pythae.pipelines import TrainingPipeline\n",
    "from pythae.trainers import BaseTrainerConfig\n",
    "from pythae.trainers.training_callbacks import WandbCallback\n",
    "from pythae.models import AutoModel, FucciVAEConfig, FucciVAE\n",
    "\n",
    "from cnn_framework.dummy_vae_model.data_set import DummyVAEDataSet\n",
    "from cnn_framework.dummy_vae_model.model_params import DummyVAEModelParams\n",
    "\n",
    "from cnn_framework.dummy_vae_model.decoder import CustomDecoder\n",
    "from cnn_framework.dummy_vae_model.encoder import CustomEncoder\n",
    "\n",
    "from cnn_framework.utils.DataManagers import DefaultDataManager\n",
    "from cnn_framework.utils.data_loader_generators.DataLoaderGenerator import DataLoaderGenerator\n",
    "from cnn_framework.utils.metrics import MeanSquaredErrorMetric\n",
    "from cnn_framework.utils.model_managers.ModelManager import ModelManager\n",
    "from cnn_framework.utils.model_managers.VAEModelManager import VAEModelManager"
   ]
  },
  {
   "cell_type": "code",
   "execution_count": 2,
   "metadata": {},
   "outputs": [
    {
     "name": "stdout",
     "output_type": "stream",
     "text": [
      "Model time id: 20230831-144540-local\n",
      "epochs 10 | batch 2 | lr 0.0001 | weight decay 0.05 | dropout 0.0 | latent dim 16 | beta 1 | gamma 0 | delta 0 | depth 5 | kld loss standard | encoder name timm-efficientnet-b0\n"
     ]
    }
   ],
   "source": [
    "params = DummyVAEModelParams()\n",
    "params.update()\n",
    "params.data_dir = r\"C:\\Users\\thoma\\data\\Other\\square_circle_uniform\""
   ]
  },
  {
   "cell_type": "code",
   "execution_count": 3,
   "metadata": {},
   "outputs": [
    {
     "name": "stdout",
     "output_type": "stream",
     "text": [
      "### Data source ###\n",
      "train data is loaded from C:\\Users\\thoma\\data\\Other\\square_circle_uniform - 80% elements\n",
      "val data is loaded from C:\\Users\\thoma\\data\\Other\\square_circle_uniform - 10% elements\n",
      "test data is loaded from C:\\Users\\thoma\\data\\Other\\square_circle_uniform - 10% elements\n",
      "###################\n",
      "train has 160 images.\n",
      "val has 20 images.\n",
      "test has 20 images.\n",
      "###################\n"
     ]
    }
   ],
   "source": [
    "loader_generator = DataLoaderGenerator(params, DummyVAEDataSet, DefaultDataManager)\n",
    "train_dl, val_dl, test_dl = loader_generator.generate_data_loader()"
   ]
  },
  {
   "cell_type": "code",
   "execution_count": 4,
   "metadata": {},
   "outputs": [
    {
     "name": "stdout",
     "output_type": "stream",
     "text": [
      "Number of parameters in encoder: 4170844\n",
      "Number of parameters in decoder: 2498820\n",
      "Current commit hash: 71c7abb786f18a1e1a25ffc70c3793c067183938\n"
     ]
    },
    {
     "name": "stderr",
     "output_type": "stream",
     "text": [
      "Failed to detect the name of this notebook, you can set it manually with the WANDB_NOTEBOOK_NAME environment variable to enable code saving.\n",
      "\u001b[34m\u001b[1mwandb\u001b[0m: Currently logged in as: \u001b[33mthomas-bonte\u001b[0m (\u001b[33mcbio-bis\u001b[0m). Use \u001b[1m`wandb login --relogin`\u001b[0m to force relogin\n"
     ]
    },
    {
     "data": {
      "application/vnd.jupyter.widget-view+json": {
       "model_id": "304ef534c97f46cf8589d7eb5aca4d88",
       "version_major": 2,
       "version_minor": 0
      },
      "text/plain": [
       "VBox(children=(Label(value='Waiting for wandb.init()...\\r'), FloatProgress(value=0.016666666666666666, max=1.0…"
      ]
     },
     "metadata": {},
     "output_type": "display_data"
    },
    {
     "data": {
      "text/html": [
       "wandb version 0.15.9 is available!  To upgrade, please run:\n",
       " $ pip install wandb --upgrade"
      ],
      "text/plain": [
       "<IPython.core.display.HTML object>"
      ]
     },
     "metadata": {},
     "output_type": "display_data"
    },
    {
     "data": {
      "text/html": [
       "Tracking run with wandb version 0.15.5"
      ],
      "text/plain": [
       "<IPython.core.display.HTML object>"
      ]
     },
     "metadata": {},
     "output_type": "display_data"
    },
    {
     "data": {
      "text/html": [
       "Run data is saved locally in <code>c:\\Users\\thoma\\cnn_framework\\tutorials\\wandb\\run-20230831_144550-a65fom84</code>"
      ],
      "text/plain": [
       "<IPython.core.display.HTML object>"
      ]
     },
     "metadata": {},
     "output_type": "display_data"
    },
    {
     "data": {
      "text/html": [
       "Syncing run <strong><a href='https://wandb.ai/cbio-bis/vae-dummy/runs/a65fom84' target=\"_blank\">20230831-144540-local</a></strong> to <a href='https://wandb.ai/cbio-bis/vae-dummy' target=\"_blank\">Weights & Biases</a> (<a href='https://wandb.me/run' target=\"_blank\">docs</a>)<br/>"
      ],
      "text/plain": [
       "<IPython.core.display.HTML object>"
      ]
     },
     "metadata": {},
     "output_type": "display_data"
    },
    {
     "data": {
      "text/html": [
       " View project at <a href='https://wandb.ai/cbio-bis/vae-dummy' target=\"_blank\">https://wandb.ai/cbio-bis/vae-dummy</a>"
      ],
      "text/plain": [
       "<IPython.core.display.HTML object>"
      ]
     },
     "metadata": {},
     "output_type": "display_data"
    },
    {
     "data": {
      "text/html": [
       " View run at <a href='https://wandb.ai/cbio-bis/vae-dummy/runs/a65fom84' target=\"_blank\">https://wandb.ai/cbio-bis/vae-dummy/runs/a65fom84</a>"
      ],
      "text/plain": [
       "<IPython.core.display.HTML object>"
      ]
     },
     "metadata": {},
     "output_type": "display_data"
    }
   ],
   "source": [
    "# Create folder to save model\n",
    "os.makedirs(params.models_folder, exist_ok=True)\n",
    "\n",
    "my_training_config = BaseTrainerConfig(\n",
    "    output_dir=params.models_folder,\n",
    "    num_epochs=params.num_epochs,\n",
    "    learning_rate=params.learning_rate,\n",
    "    per_device_train_batch_size=params.batch_size,\n",
    "    per_device_eval_batch_size=params.batch_size,\n",
    "    train_dataloader_num_workers=params.num_workers,\n",
    "    eval_dataloader_num_workers=params.num_workers,\n",
    "    steps_saving=None,\n",
    "    optimizer_cls=\"AdamW\",\n",
    "    optimizer_params={\n",
    "        \"weight_decay\": params.weight_decay,\n",
    "        \"betas\": (params.beta1, params.beta2),\n",
    "    },\n",
    "    scheduler_cls=\"ReduceLROnPlateau\",\n",
    "    scheduler_params={\"patience\": 5, \"factor\": 0.5},\n",
    ")\n",
    "\n",
    "# Set up the model configuration\n",
    "my_vae_config = FucciVAEConfig(\n",
    "    gamma=params.gamma,\n",
    "    delta=params.delta,\n",
    "    nb_classes=params.nb_classes,\n",
    "    reconstruction_loss=params.reconstruction_loss,\n",
    "    kld_loss=params.kld_loss,\n",
    "    input_dim=(\n",
    "        params.nb_modalities * params.nb_stacks_per_modality,\n",
    "        params.input_dimensions.height,\n",
    "        params.input_dimensions.width,\n",
    "    ),\n",
    "    latent_dim=params.latent_dim,\n",
    "    beta=params.beta,\n",
    "    uses_default_decoder=False,\n",
    "    uses_default_encoder=False,\n",
    ")\n",
    "\n",
    "# Build the model\n",
    "if params.model_pretrained_path:\n",
    "    vae_model = AutoModel.load_from_folder(params.model_pretrained_path)\n",
    "    # Update modifiable parameters\n",
    "    vae_model.model_config = my_vae_config\n",
    "    vae_model.beta = my_vae_config.beta\n",
    "    vae_model.gamma = my_vae_config.gamma\n",
    "    vae_model.delta = my_vae_config.delta\n",
    "else:\n",
    "    encoder = CustomEncoder(params, my_vae_config)\n",
    "    print(f\"Number of parameters in encoder: {sum(p.numel() for p in encoder.parameters())}\")\n",
    "    decoder = CustomDecoder(params, my_vae_config)\n",
    "    print(f\"Number of parameters in decoder: {sum(p.numel() for p in decoder.parameters())}\")\n",
    "    vae_model = FucciVAE(encoder=encoder, decoder=decoder, model_config=my_vae_config)\n",
    "\n",
    "# Build the Pipeline\n",
    "pipeline = TrainingPipeline(training_config=my_training_config, model=vae_model)\n",
    "\n",
    "# Compute mean_std for future normalization\n",
    "model_manager = ModelManager(vae_model, params, None)\n",
    "model_manager.compute_and_save_mean_std(train_dl, val_dl)\n",
    "\n",
    "train_dl.dataset.initialize_transforms()\n",
    "val_dl.dataset.initialize_transforms()\n",
    "\n",
    "# Create you callback\n",
    "callbacks = []  # the TrainingPipeline expects a list of callbacks\n",
    "wandb_cb = WandbCallback()  # Build the callback\n",
    "# SetUp the callback\n",
    "wandb_cb.setup(\n",
    "    training_config=my_training_config,  # training config\n",
    "    model_config=my_vae_config,  # model config\n",
    "    project_name=params.wandb_project,  # specify your wandb project\n",
    "    entity_name=params.wandb_entity,  # specify your wandb entity\n",
    "    run_name=params.format_now,  # name of the run\n",
    ")\n",
    "callbacks.append(wandb_cb)  # Add it to the callbacks list"
   ]
  },
  {
   "cell_type": "code",
   "execution_count": 5,
   "metadata": {},
   "outputs": [
    {
     "name": "stderr",
     "output_type": "stream",
     "text": [
      "Checking train dataset...\n",
      "Checking eval dataset...\n",
      "Using Base Trainer\n",
      "\n",
      "Model passed sanity check !\n",
      "Ready for training.\n",
      "\n",
      "Created C:\\Users\\thoma\\models\\local/dummy_vae/20230831-144540-local\\BetaVAE_training_2023-08-31_14-46-10. \n",
      "Training config, checkpoints and final model will be saved here.\n",
      "\n",
      "Training params:\n",
      " - max_epochs: 10\n",
      " - per_device_train_batch_size: 2\n",
      " - per_device_eval_batch_size: 2\n",
      " - checkpoint saving every: None\n",
      "Optimizer: AdamW (\n",
      "Parameter Group 0\n",
      "    amsgrad: False\n",
      "    betas: (0.91, 0.995)\n",
      "    capturable: False\n",
      "    eps: 1e-08\n",
      "    foreach: None\n",
      "    lr: 0.0001\n",
      "    maximize: False\n",
      "    weight_decay: 0.05\n",
      ")\n",
      "Scheduler: <torch.optim.lr_scheduler.ReduceLROnPlateau object at 0x00000145DC976E80>\n",
      "\n",
      "Successfully launched training !\n",
      "\n"
     ]
    },
    {
     "data": {
      "application/json": {
       "ascii": false,
       "bar_format": null,
       "colour": null,
       "elapsed": 0.005002498626708984,
       "initial": 0,
       "n": 0,
       "ncols": null,
       "nrows": null,
       "postfix": null,
       "prefix": "Training of epoch 1/10",
       "rate": null,
       "total": 80,
       "unit": "batch",
       "unit_divisor": 1000,
       "unit_scale": false
      },
      "application/vnd.jupyter.widget-view+json": {
       "model_id": "bf5f60021088475dbf039cb823b8bc67",
       "version_major": 2,
       "version_minor": 0
      },
      "text/plain": [
       "Training of epoch 1/10:   0%|          | 0/80 [00:00<?, ?batch/s]"
      ]
     },
     "metadata": {},
     "output_type": "display_data"
    },
    {
     "data": {
      "application/json": {
       "ascii": false,
       "bar_format": null,
       "colour": null,
       "elapsed": 0.004999876022338867,
       "initial": 0,
       "n": 0,
       "ncols": null,
       "nrows": null,
       "postfix": null,
       "prefix": "Eval of epoch 1/10",
       "rate": null,
       "total": 10,
       "unit": "batch",
       "unit_divisor": 1000,
       "unit_scale": false
      },
      "application/vnd.jupyter.widget-view+json": {
       "model_id": "cfa9137a608440158775a91d9ebbb328",
       "version_major": 2,
       "version_minor": 0
      },
      "text/plain": [
       "Eval of epoch 1/10:   0%|          | 0/10 [00:00<?, ?batch/s]"
      ]
     },
     "metadata": {},
     "output_type": "display_data"
    },
    {
     "name": "stderr",
     "output_type": "stream",
     "text": [
      "--------------------------------------------------------------------------\n",
      "Train loss: 40725.7324\n",
      "Eval loss: 36735.8643\n",
      "--------------------------------------------------------------------------\n"
     ]
    },
    {
     "data": {
      "application/json": {
       "ascii": false,
       "bar_format": null,
       "colour": null,
       "elapsed": 0.003998756408691406,
       "initial": 0,
       "n": 0,
       "ncols": null,
       "nrows": null,
       "postfix": null,
       "prefix": "Training of epoch 2/10",
       "rate": null,
       "total": 80,
       "unit": "batch",
       "unit_divisor": 1000,
       "unit_scale": false
      },
      "application/vnd.jupyter.widget-view+json": {
       "model_id": "0a77e05295b4477391bae82a307e543a",
       "version_major": 2,
       "version_minor": 0
      },
      "text/plain": [
       "Training of epoch 2/10:   0%|          | 0/80 [00:00<?, ?batch/s]"
      ]
     },
     "metadata": {},
     "output_type": "display_data"
    },
    {
     "data": {
      "application/json": {
       "ascii": false,
       "bar_format": null,
       "colour": null,
       "elapsed": 0.004000425338745117,
       "initial": 0,
       "n": 0,
       "ncols": null,
       "nrows": null,
       "postfix": null,
       "prefix": "Eval of epoch 2/10",
       "rate": null,
       "total": 10,
       "unit": "batch",
       "unit_divisor": 1000,
       "unit_scale": false
      },
      "application/vnd.jupyter.widget-view+json": {
       "model_id": "e7a4f938b8fb477a92908a115e367894",
       "version_major": 2,
       "version_minor": 0
      },
      "text/plain": [
       "Eval of epoch 2/10:   0%|          | 0/10 [00:00<?, ?batch/s]"
      ]
     },
     "metadata": {},
     "output_type": "display_data"
    },
    {
     "name": "stderr",
     "output_type": "stream",
     "text": [
      "--------------------------------------------------------------------------\n",
      "Train loss: 25984.229\n",
      "Eval loss: 22742.8672\n",
      "--------------------------------------------------------------------------\n"
     ]
    },
    {
     "data": {
      "application/json": {
       "ascii": false,
       "bar_format": null,
       "colour": null,
       "elapsed": 0.00400090217590332,
       "initial": 0,
       "n": 0,
       "ncols": null,
       "nrows": null,
       "postfix": null,
       "prefix": "Training of epoch 3/10",
       "rate": null,
       "total": 80,
       "unit": "batch",
       "unit_divisor": 1000,
       "unit_scale": false
      },
      "application/vnd.jupyter.widget-view+json": {
       "model_id": "744e22e925bb45e1a240b52d5b5b49d8",
       "version_major": 2,
       "version_minor": 0
      },
      "text/plain": [
       "Training of epoch 3/10:   0%|          | 0/80 [00:00<?, ?batch/s]"
      ]
     },
     "metadata": {},
     "output_type": "display_data"
    },
    {
     "data": {
      "application/json": {
       "ascii": false,
       "bar_format": null,
       "colour": null,
       "elapsed": 0.005002498626708984,
       "initial": 0,
       "n": 0,
       "ncols": null,
       "nrows": null,
       "postfix": null,
       "prefix": "Eval of epoch 3/10",
       "rate": null,
       "total": 10,
       "unit": "batch",
       "unit_divisor": 1000,
       "unit_scale": false
      },
      "application/vnd.jupyter.widget-view+json": {
       "model_id": "6e969852880345c9b4b723e61085f16c",
       "version_major": 2,
       "version_minor": 0
      },
      "text/plain": [
       "Eval of epoch 3/10:   0%|          | 0/10 [00:00<?, ?batch/s]"
      ]
     },
     "metadata": {},
     "output_type": "display_data"
    },
    {
     "name": "stderr",
     "output_type": "stream",
     "text": [
      "--------------------------------------------------------------------------\n",
      "Train loss: 22059.1811\n",
      "Eval loss: 17725.0453\n",
      "--------------------------------------------------------------------------\n"
     ]
    },
    {
     "data": {
      "application/json": {
       "ascii": false,
       "bar_format": null,
       "colour": null,
       "elapsed": 0.004004240036010742,
       "initial": 0,
       "n": 0,
       "ncols": null,
       "nrows": null,
       "postfix": null,
       "prefix": "Training of epoch 4/10",
       "rate": null,
       "total": 80,
       "unit": "batch",
       "unit_divisor": 1000,
       "unit_scale": false
      },
      "application/vnd.jupyter.widget-view+json": {
       "model_id": "da46da0479244a33bd983296855f2ba5",
       "version_major": 2,
       "version_minor": 0
      },
      "text/plain": [
       "Training of epoch 4/10:   0%|          | 0/80 [00:00<?, ?batch/s]"
      ]
     },
     "metadata": {},
     "output_type": "display_data"
    },
    {
     "data": {
      "application/json": {
       "ascii": false,
       "bar_format": null,
       "colour": null,
       "elapsed": 0.004004478454589844,
       "initial": 0,
       "n": 0,
       "ncols": null,
       "nrows": null,
       "postfix": null,
       "prefix": "Eval of epoch 4/10",
       "rate": null,
       "total": 10,
       "unit": "batch",
       "unit_divisor": 1000,
       "unit_scale": false
      },
      "application/vnd.jupyter.widget-view+json": {
       "model_id": "f6f4cc05d64149049e667edfa6ef6a95",
       "version_major": 2,
       "version_minor": 0
      },
      "text/plain": [
       "Eval of epoch 4/10:   0%|          | 0/10 [00:00<?, ?batch/s]"
      ]
     },
     "metadata": {},
     "output_type": "display_data"
    },
    {
     "name": "stderr",
     "output_type": "stream",
     "text": [
      "--------------------------------------------------------------------------\n",
      "Train loss: 18069.1747\n",
      "Eval loss: 13969.8454\n",
      "--------------------------------------------------------------------------\n"
     ]
    },
    {
     "data": {
      "application/json": {
       "ascii": false,
       "bar_format": null,
       "colour": null,
       "elapsed": 0.004006147384643555,
       "initial": 0,
       "n": 0,
       "ncols": null,
       "nrows": null,
       "postfix": null,
       "prefix": "Training of epoch 5/10",
       "rate": null,
       "total": 80,
       "unit": "batch",
       "unit_divisor": 1000,
       "unit_scale": false
      },
      "application/vnd.jupyter.widget-view+json": {
       "model_id": "5e9fd73ecbed41dcb31df6d16e261356",
       "version_major": 2,
       "version_minor": 0
      },
      "text/plain": [
       "Training of epoch 5/10:   0%|          | 0/80 [00:00<?, ?batch/s]"
      ]
     },
     "metadata": {},
     "output_type": "display_data"
    },
    {
     "data": {
      "application/json": {
       "ascii": false,
       "bar_format": null,
       "colour": null,
       "elapsed": 0.0050051212310791016,
       "initial": 0,
       "n": 0,
       "ncols": null,
       "nrows": null,
       "postfix": null,
       "prefix": "Eval of epoch 5/10",
       "rate": null,
       "total": 10,
       "unit": "batch",
       "unit_divisor": 1000,
       "unit_scale": false
      },
      "application/vnd.jupyter.widget-view+json": {
       "model_id": "41ef6cef6157430991648b349724e011",
       "version_major": 2,
       "version_minor": 0
      },
      "text/plain": [
       "Eval of epoch 5/10:   0%|          | 0/10 [00:00<?, ?batch/s]"
      ]
     },
     "metadata": {},
     "output_type": "display_data"
    },
    {
     "name": "stderr",
     "output_type": "stream",
     "text": [
      "--------------------------------------------------------------------------\n",
      "Train loss: 14718.9447\n",
      "Eval loss: 13421.4166\n",
      "--------------------------------------------------------------------------\n"
     ]
    },
    {
     "data": {
      "application/json": {
       "ascii": false,
       "bar_format": null,
       "colour": null,
       "elapsed": 0.00500035285949707,
       "initial": 0,
       "n": 0,
       "ncols": null,
       "nrows": null,
       "postfix": null,
       "prefix": "Training of epoch 6/10",
       "rate": null,
       "total": 80,
       "unit": "batch",
       "unit_divisor": 1000,
       "unit_scale": false
      },
      "application/vnd.jupyter.widget-view+json": {
       "model_id": "46cfff9370554314a6aa56848c463e9e",
       "version_major": 2,
       "version_minor": 0
      },
      "text/plain": [
       "Training of epoch 6/10:   0%|          | 0/80 [00:00<?, ?batch/s]"
      ]
     },
     "metadata": {},
     "output_type": "display_data"
    },
    {
     "data": {
      "application/json": {
       "ascii": false,
       "bar_format": null,
       "colour": null,
       "elapsed": 0.004999637603759766,
       "initial": 0,
       "n": 0,
       "ncols": null,
       "nrows": null,
       "postfix": null,
       "prefix": "Eval of epoch 6/10",
       "rate": null,
       "total": 10,
       "unit": "batch",
       "unit_divisor": 1000,
       "unit_scale": false
      },
      "application/vnd.jupyter.widget-view+json": {
       "model_id": "cf5be89099de46cb9fb46304a0d17ca8",
       "version_major": 2,
       "version_minor": 0
      },
      "text/plain": [
       "Eval of epoch 6/10:   0%|          | 0/10 [00:00<?, ?batch/s]"
      ]
     },
     "metadata": {},
     "output_type": "display_data"
    },
    {
     "name": "stderr",
     "output_type": "stream",
     "text": [
      "--------------------------------------------------------------------------\n",
      "Train loss: 16025.3548\n",
      "Eval loss: 19317.6974\n",
      "--------------------------------------------------------------------------\n"
     ]
    },
    {
     "data": {
      "application/json": {
       "ascii": false,
       "bar_format": null,
       "colour": null,
       "elapsed": 0.005003690719604492,
       "initial": 0,
       "n": 0,
       "ncols": null,
       "nrows": null,
       "postfix": null,
       "prefix": "Training of epoch 7/10",
       "rate": null,
       "total": 80,
       "unit": "batch",
       "unit_divisor": 1000,
       "unit_scale": false
      },
      "application/vnd.jupyter.widget-view+json": {
       "model_id": "1b29ced5a6fd437ea64981e5f8de3fdc",
       "version_major": 2,
       "version_minor": 0
      },
      "text/plain": [
       "Training of epoch 7/10:   0%|          | 0/80 [00:00<?, ?batch/s]"
      ]
     },
     "metadata": {},
     "output_type": "display_data"
    },
    {
     "data": {
      "application/json": {
       "ascii": false,
       "bar_format": null,
       "colour": null,
       "elapsed": 0.00400233268737793,
       "initial": 0,
       "n": 0,
       "ncols": null,
       "nrows": null,
       "postfix": null,
       "prefix": "Eval of epoch 7/10",
       "rate": null,
       "total": 10,
       "unit": "batch",
       "unit_divisor": 1000,
       "unit_scale": false
      },
      "application/vnd.jupyter.widget-view+json": {
       "model_id": "fda793fa24b64b75ac0b6092886ab591",
       "version_major": 2,
       "version_minor": 0
      },
      "text/plain": [
       "Eval of epoch 7/10:   0%|          | 0/10 [00:00<?, ?batch/s]"
      ]
     },
     "metadata": {},
     "output_type": "display_data"
    },
    {
     "name": "stderr",
     "output_type": "stream",
     "text": [
      "--------------------------------------------------------------------------\n",
      "Train loss: 13014.6617\n",
      "Eval loss: 13865.5071\n",
      "--------------------------------------------------------------------------\n"
     ]
    },
    {
     "data": {
      "application/json": {
       "ascii": false,
       "bar_format": null,
       "colour": null,
       "elapsed": 0.0040013790130615234,
       "initial": 0,
       "n": 0,
       "ncols": null,
       "nrows": null,
       "postfix": null,
       "prefix": "Training of epoch 8/10",
       "rate": null,
       "total": 80,
       "unit": "batch",
       "unit_divisor": 1000,
       "unit_scale": false
      },
      "application/vnd.jupyter.widget-view+json": {
       "model_id": "34c29ec658fb4dccbae8dda250951706",
       "version_major": 2,
       "version_minor": 0
      },
      "text/plain": [
       "Training of epoch 8/10:   0%|          | 0/80 [00:00<?, ?batch/s]"
      ]
     },
     "metadata": {},
     "output_type": "display_data"
    },
    {
     "data": {
      "application/json": {
       "ascii": false,
       "bar_format": null,
       "colour": null,
       "elapsed": 0.0040013790130615234,
       "initial": 0,
       "n": 0,
       "ncols": null,
       "nrows": null,
       "postfix": null,
       "prefix": "Eval of epoch 8/10",
       "rate": null,
       "total": 10,
       "unit": "batch",
       "unit_divisor": 1000,
       "unit_scale": false
      },
      "application/vnd.jupyter.widget-view+json": {
       "model_id": "eb10fd07911242bb9499fef67ce9827a",
       "version_major": 2,
       "version_minor": 0
      },
      "text/plain": [
       "Eval of epoch 8/10:   0%|          | 0/10 [00:00<?, ?batch/s]"
      ]
     },
     "metadata": {},
     "output_type": "display_data"
    },
    {
     "name": "stderr",
     "output_type": "stream",
     "text": [
      "--------------------------------------------------------------------------\n",
      "Train loss: 12165.6797\n",
      "Eval loss: 11504.3388\n",
      "--------------------------------------------------------------------------\n"
     ]
    },
    {
     "data": {
      "application/json": {
       "ascii": false,
       "bar_format": null,
       "colour": null,
       "elapsed": 0.005004167556762695,
       "initial": 0,
       "n": 0,
       "ncols": null,
       "nrows": null,
       "postfix": null,
       "prefix": "Training of epoch 9/10",
       "rate": null,
       "total": 80,
       "unit": "batch",
       "unit_divisor": 1000,
       "unit_scale": false
      },
      "application/vnd.jupyter.widget-view+json": {
       "model_id": "779ffedbe985415ea4d68ebbf847fade",
       "version_major": 2,
       "version_minor": 0
      },
      "text/plain": [
       "Training of epoch 9/10:   0%|          | 0/80 [00:00<?, ?batch/s]"
      ]
     },
     "metadata": {},
     "output_type": "display_data"
    },
    {
     "data": {
      "application/json": {
       "ascii": false,
       "bar_format": null,
       "colour": null,
       "elapsed": 0.0049533843994140625,
       "initial": 0,
       "n": 0,
       "ncols": null,
       "nrows": null,
       "postfix": null,
       "prefix": "Eval of epoch 9/10",
       "rate": null,
       "total": 10,
       "unit": "batch",
       "unit_divisor": 1000,
       "unit_scale": false
      },
      "application/vnd.jupyter.widget-view+json": {
       "model_id": "4bccc3a87c594abab72eaccdaf8f5ec0",
       "version_major": 2,
       "version_minor": 0
      },
      "text/plain": [
       "Eval of epoch 9/10:   0%|          | 0/10 [00:00<?, ?batch/s]"
      ]
     },
     "metadata": {},
     "output_type": "display_data"
    },
    {
     "name": "stderr",
     "output_type": "stream",
     "text": [
      "--------------------------------------------------------------------------\n",
      "Train loss: 12154.3133\n",
      "Eval loss: 8646.9895\n",
      "--------------------------------------------------------------------------\n"
     ]
    },
    {
     "data": {
      "application/json": {
       "ascii": false,
       "bar_format": null,
       "colour": null,
       "elapsed": 0.0050029754638671875,
       "initial": 0,
       "n": 0,
       "ncols": null,
       "nrows": null,
       "postfix": null,
       "prefix": "Training of epoch 10/10",
       "rate": null,
       "total": 80,
       "unit": "batch",
       "unit_divisor": 1000,
       "unit_scale": false
      },
      "application/vnd.jupyter.widget-view+json": {
       "model_id": "1ae34004cc5743a7bd9f3a5c844596a9",
       "version_major": 2,
       "version_minor": 0
      },
      "text/plain": [
       "Training of epoch 10/10:   0%|          | 0/80 [00:00<?, ?batch/s]"
      ]
     },
     "metadata": {},
     "output_type": "display_data"
    },
    {
     "data": {
      "application/json": {
       "ascii": false,
       "bar_format": null,
       "colour": null,
       "elapsed": 0.003991842269897461,
       "initial": 0,
       "n": 0,
       "ncols": null,
       "nrows": null,
       "postfix": null,
       "prefix": "Eval of epoch 10/10",
       "rate": null,
       "total": 10,
       "unit": "batch",
       "unit_divisor": 1000,
       "unit_scale": false
      },
      "application/vnd.jupyter.widget-view+json": {
       "model_id": "cd0aed3e54ba414794350d8631bfa6dd",
       "version_major": 2,
       "version_minor": 0
      },
      "text/plain": [
       "Eval of epoch 10/10:   0%|          | 0/10 [00:00<?, ?batch/s]"
      ]
     },
     "metadata": {},
     "output_type": "display_data"
    },
    {
     "name": "stderr",
     "output_type": "stream",
     "text": [
      "--------------------------------------------------------------------------\n",
      "Train loss: 10594.5803\n",
      "Eval loss: 10748.5995\n",
      "--------------------------------------------------------------------------\n",
      "Training ended!\n",
      "Saved final model in C:\\Users\\thoma\\models\\local/dummy_vae/20230831-144540-local\\BetaVAE_training_2023-08-31_14-46-10\\final_model\n"
     ]
    },
    {
     "data": {
      "text/html": [
       "Waiting for W&B process to finish... <strong style=\"color:green\">(success).</strong>"
      ],
      "text/plain": [
       "<IPython.core.display.HTML object>"
      ]
     },
     "metadata": {},
     "output_type": "display_data"
    },
    {
     "data": {
      "application/vnd.jupyter.widget-view+json": {
       "model_id": "2c0265261860466c85ef0f2ee12b79fb",
       "version_major": 2,
       "version_minor": 0
      },
      "text/plain": [
       "VBox(children=(Label(value='0.001 MB of 0.001 MB uploaded (0.000 MB deduped)\\r'), FloatProgress(value=1.0, max…"
      ]
     },
     "metadata": {},
     "output_type": "display_data"
    },
    {
     "data": {
      "text/html": [
       "<style>\n",
       "    table.wandb td:nth-child(1) { padding: 0 10px; text-align: left ; width: auto;} td:nth-child(2) {text-align: left ; width: 100%}\n",
       "    .wandb-row { display: flex; flex-direction: row; flex-wrap: wrap; justify-content: flex-start; width: 100% }\n",
       "    .wandb-col { display: flex; flex-direction: column; flex-basis: 100%; flex: 1; padding: 10px; }\n",
       "    </style>\n",
       "<div class=\"wandb-row\"><div class=\"wandb-col\"><h3>Run history:</h3><br/><table class=\"wandb\"><tr><td>eval/epoch_loss</td><td>█▅▃▂▂▄▂▂▁▂</td></tr><tr><td>train/epoch_loss</td><td>█▅▄▃▂▂▂▁▁▁</td></tr><tr><td>train/global_step</td><td>▁▂▃▃▄▅▆▆▇█</td></tr></table><br/></div><div class=\"wandb-col\"><h3>Run summary:</h3><br/><table class=\"wandb\"><tr><td>eval/epoch_loss</td><td>10748.59946</td></tr><tr><td>train/epoch_loss</td><td>10594.58035</td></tr><tr><td>train/global_step</td><td>10</td></tr></table><br/></div></div>"
      ],
      "text/plain": [
       "<IPython.core.display.HTML object>"
      ]
     },
     "metadata": {},
     "output_type": "display_data"
    },
    {
     "data": {
      "text/html": [
       " View run <strong style=\"color:#cdcd00\">20230831-144540-local</strong> at: <a href='https://wandb.ai/cbio-bis/vae-dummy/runs/a65fom84' target=\"_blank\">https://wandb.ai/cbio-bis/vae-dummy/runs/a65fom84</a><br/>Synced 6 W&B file(s), 0 media file(s), 0 artifact file(s) and 0 other file(s)"
      ],
      "text/plain": [
       "<IPython.core.display.HTML object>"
      ]
     },
     "metadata": {},
     "output_type": "display_data"
    },
    {
     "data": {
      "text/html": [
       "Find logs at: <code>.\\wandb\\run-20230831_144550-a65fom84\\logs</code>"
      ],
      "text/plain": [
       "<IPython.core.display.HTML object>"
      ]
     },
     "metadata": {},
     "output_type": "display_data"
    }
   ],
   "source": [
    "# Launch the Pipeline\n",
    "pipeline(\n",
    "    train_data=train_dl.dataset,  # must be torch.Tensor, np.array or torch datasets\n",
    "    eval_data=val_dl.dataset,  # must be torch.Tensor, np.array or torch datasets\n",
    "    callbacks=callbacks,\n",
    ")"
   ]
  },
  {
   "cell_type": "code",
   "execution_count": 6,
   "metadata": {},
   "outputs": [
    {
     "name": "stdout",
     "output_type": "stream",
     "text": [
      "Current commit hash: 71c7abb786f18a1e1a25ffc70c3793c067183938\n",
      "Model evaluation in progress: 100.0% | Batch #9\n",
      "Average MeanSquaredError: -0.23\n"
     ]
    }
   ],
   "source": [
    "# Test and save images\n",
    "manager = VAEModelManager(vae_model, params, MeanSquaredErrorMetric)\n",
    "manager.predict(test_dl)"
   ]
  }
 ],
 "metadata": {
  "kernelspec": {
   "display_name": "pytorch-env2",
   "language": "python",
   "name": "python3"
  },
  "language_info": {
   "codemirror_mode": {
    "name": "ipython",
    "version": 3
   },
   "file_extension": ".py",
   "mimetype": "text/x-python",
   "name": "python",
   "nbconvert_exporter": "python",
   "pygments_lexer": "ipython3",
   "version": "3.9.13"
  },
  "orig_nbformat": 4
 },
 "nbformat": 4,
 "nbformat_minor": 2
}
