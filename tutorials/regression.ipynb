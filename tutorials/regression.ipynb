{
 "cells": [
  {
   "cell_type": "code",
   "execution_count": 1,
   "metadata": {},
   "outputs": [],
   "source": [
    "import os\n",
    "import torch\n",
    "import torch.nn as nn\n",
    "from torch import optim\n",
    "\n",
    "from cnn_framework.dummy_regression_cnn.data_set import DummyRegressionCnnDataSet\n",
    "from cnn_framework.dummy_regression_cnn.model_params import DummyModelParams\n",
    "from cnn_framework.dummy_regression_cnn.model import DummyCnn\n",
    "\n",
    "from cnn_framework.utils.data_loader_generators.DataLoaderGenerator import DataLoaderGenerator\n",
    "from cnn_framework.utils.model_managers.RegressionModelManager import RegressionModelManager\n",
    "from cnn_framework.utils.DataManagers import DefaultDataManager\n",
    "from cnn_framework.utils.metrics import MeanSquaredErrorMetric\n",
    "from cnn_framework.utils.create_dummy_data_set import generate_data_set"
   ]
  },
  {
   "cell_type": "code",
   "execution_count": 2,
   "metadata": {},
   "outputs": [
    {
     "name": "stdout",
     "output_type": "stream",
     "text": [
      "Model time id: 20230901-115658-local\n",
      "epochs 10 | batch 2 | lr 0.01 | weight decay 0.0 | dropout 0.0\n"
     ]
    }
   ],
   "source": [
    "params = DummyModelParams()\n",
    "params.update()\n",
    "\n",
    "# Create data set if needed\n",
    "if not os.path.exists(params.data_dir):\n",
    "    generate_data_set(params.data_dir)\n",
    "    print(f\"\\nData set created in {params.data_dir}\")\n",
    "\n",
    "print(f\"Model will be saved in {params.models_folder}\")\n",
    "print(f\"Predictions will be saved in {params.output_dir}\")\n",
    "print(f\"Tensorboard logs will be saved in {params.tensorboard_folder_path}\")"
   ]
  },
  {
   "cell_type": "code",
   "execution_count": 3,
   "metadata": {},
   "outputs": [
    {
     "name": "stdout",
     "output_type": "stream",
     "text": [
      "### Data source ###\n",
      "train data is loaded from C:\\Users\\thoma\\data\\Other\\square_circle_uniform - 80% elements\n",
      "val data is loaded from C:\\Users\\thoma\\data\\Other\\square_circle_uniform - 10% elements\n",
      "test data is loaded from C:\\Users\\thoma\\data\\Other\\square_circle_uniform - 10% elements\n",
      "###################\n",
      "train has 160 images.\n",
      "val has 20 images.\n",
      "test has 20 images.\n",
      "###################\n"
     ]
    }
   ],
   "source": [
    "loader_generator = DataLoaderGenerator(params, DummyRegressionCnnDataSet, DefaultDataManager)\n",
    "train_dl, val_dl, test_dl = loader_generator.generate_data_loader()"
   ]
  },
  {
   "cell_type": "code",
   "execution_count": 4,
   "metadata": {},
   "outputs": [
    {
     "name": "stdout",
     "output_type": "stream",
     "text": [
      "Current commit hash: 0bd76adb62d6ab724499f3f60873108d76b52a28\n"
     ]
    }
   ],
   "source": [
    "model = DummyCnn(\n",
    "    nb_classes=params.nb_classes,\n",
    "    nb_input_channels=params.nb_modalities * params.nb_stacks_per_modality,\n",
    ")\n",
    "\n",
    "manager = RegressionModelManager(model, params, MeanSquaredErrorMetric)\n",
    "\n",
    "optimizer = optim.Adam(\n",
    "    model.parameters(), lr=float(params.learning_rate), betas=(params.beta1, params.beta2),\n",
    ")  # define the optimization\n",
    "\n",
    "loss_function = nn.L1Loss()  # define the loss function"
   ]
  },
  {
   "cell_type": "code",
   "execution_count": 5,
   "metadata": {},
   "outputs": [
    {
     "name": "stdout",
     "output_type": "stream",
     "text": [
      "Training in progress: 100.0% | Local step 79 | Epoch 9\n",
      "Best model saved at epoch 8.\n",
      "\n",
      "Training successfully finished in 0:00:29.137767.\n"
     ]
    }
   ],
   "source": [
    "manager.fit(train_dl, val_dl, optimizer, loss_function)"
   ]
  },
  {
   "cell_type": "code",
   "execution_count": 6,
   "metadata": {},
   "outputs": [
    {
     "name": "stdout",
     "output_type": "stream",
     "text": [
      "\n",
      "Predicting with early stopping model.\n",
      "Model evaluation in progress: 100.0% | Batch #9\n",
      "Average MeanSquaredError: -799.68\n",
      "\n",
      "Predicting with final model.\n",
      "Model evaluation in progress: 100.0% | Batch #9\n",
      "Average MeanSquaredError: -1886.49\n"
     ]
    }
   ],
   "source": [
    "for model_path, name in zip(\n",
    "    [manager.model_save_path_early_stopping, manager.model_save_path],\n",
    "    [\"early stopping\", \"final\"],\n",
    "):\n",
    "    print(f\"\\nPredicting with {name} model.\")\n",
    "    # Update model with saved one\n",
    "    manager.model.load_state_dict(torch.load(model_path))\n",
    "    manager.predict(test_dl)"
   ]
  }
 ],
 "metadata": {
  "kernelspec": {
   "display_name": "pytorch-env2",
   "language": "python",
   "name": "python3"
  },
  "language_info": {
   "codemirror_mode": {
    "name": "ipython",
    "version": 3
   },
   "file_extension": ".py",
   "mimetype": "text/x-python",
   "name": "python",
   "nbconvert_exporter": "python",
   "pygments_lexer": "ipython3",
   "version": "3.9.13"
  },
  "orig_nbformat": 4
 },
 "nbformat": 4,
 "nbformat_minor": 2
}
