{
 "cells": [
  {
   "cell_type": "markdown",
   "metadata": {},
   "source": [
    "# Classification"
   ]
  },
  {
   "cell_type": "markdown",
   "metadata": {},
   "source": [
    "This notebook performs classification of images (square or circle)."
   ]
  },
  {
   "cell_type": "code",
   "execution_count": 1,
   "metadata": {},
   "outputs": [],
   "source": [
    "import os\n",
    "import torch\n",
    "import torch.nn as nn\n",
    "from torch import optim\n",
    "\n",
    "from cnn_framework.dummy_cnn.data_set import DummyCnnDataSet\n",
    "from cnn_framework.dummy_cnn.model_params import DummyModelParams\n",
    "from cnn_framework.dummy_cnn.model import DummyCnn\n",
    "from cnn_framework.utils.data_loader_generators.classifier_data_loader_generator import (\n",
    "    ClassifierDataLoaderGenerator,\n",
    ")\n",
    "from cnn_framework.utils.model_managers.CnnModelManager import CnnModelManager\n",
    "from cnn_framework.utils.DataManagers import DefaultDataManager\n",
    "from cnn_framework.utils.metrics import ClassificationAccuracy\n",
    "from cnn_framework.utils.create_dummy_data_set import generate_data_set"
   ]
  },
  {
   "cell_type": "code",
   "execution_count": 2,
   "metadata": {},
   "outputs": [
    {
     "name": "stdout",
     "output_type": "stream",
     "text": [
      "Model time id: 20230905-100058-local\n",
      "epochs 10 | batch 2 | lr 0.0001 | weight decay 0.0 | dropout 0.0\n",
      "\n",
      "Model will be saved in C:\\Users\\thoma\\models/local/dummy_cnn/20230905-100058-local\n",
      "Predictions will be saved in C:\\Users\\thoma\\predictions/local/dummy_cnn/20230905-100058-local\n",
      "Tensorboard logs will be saved in C:\\Users\\thoma\\tensorboard/local/20230905-100058-local_dummy_cnn\n"
     ]
    }
   ],
   "source": [
    "params = DummyModelParams()\n",
    "params.update()\n",
    "\n",
    "# Create data set if needed\n",
    "if not os.path.exists(params.data_dir):\n",
    "    generate_data_set(params.data_dir)\n",
    "    print(f\"\\nData set created in {params.data_dir}\")\n",
    "\n",
    "print(f\"\\nModel will be saved in {params.models_folder}\")\n",
    "print(f\"Predictions will be saved in {params.output_dir}\")\n",
    "print(f\"Tensorboard logs will be saved in {params.tensorboard_folder_path}\")"
   ]
  },
  {
   "cell_type": "code",
   "execution_count": 4,
   "metadata": {},
   "outputs": [
    {
     "name": "stdout",
     "output_type": "stream",
     "text": [
      "### Data source ###\n",
      "train data is loaded from C:\\Users\\thoma\\data\\dummy - 80% elements\n",
      "val data is loaded from C:\\Users\\thoma\\data\\dummy - 20% elements\n",
      "test data is loaded from C:\\Users\\thoma\\data\\dummy - 20% elements\n",
      "###################\n"
     ]
    },
    {
     "ename": "ValueError",
     "evalue": "Not enough files for train...",
     "output_type": "error",
     "traceback": [
      "\u001b[1;31m---------------------------------------------------------------------------\u001b[0m",
      "\u001b[1;31mValueError\u001b[0m                                Traceback (most recent call last)",
      "\u001b[1;32mc:\\Users\\thoma\\cnn_framework\\tutorials\\classification.ipynb Cell 5\u001b[0m in \u001b[0;36m<cell line: 2>\u001b[1;34m()\u001b[0m\n\u001b[0;32m      <a href='vscode-notebook-cell:/c%3A/Users/thoma/cnn_framework/tutorials/classification.ipynb#W4sZmlsZQ%3D%3D?line=0'>1</a>\u001b[0m loader_generator \u001b[39m=\u001b[39m ClassifierDataLoaderGenerator(params, DummyCnnDataSet, DefaultDataManager)\n\u001b[1;32m----> <a href='vscode-notebook-cell:/c%3A/Users/thoma/cnn_framework/tutorials/classification.ipynb#W4sZmlsZQ%3D%3D?line=1'>2</a>\u001b[0m train_dl, val_dl, test_dl \u001b[39m=\u001b[39m loader_generator\u001b[39m.\u001b[39;49mgenerate_data_loader()\n",
      "File \u001b[1;32m~\\cnn_framework\\src\\cnn_framework\\utils\\data_loader_generators\\DataLoaderGenerator.py:105\u001b[0m, in \u001b[0;36mDataLoaderGenerator.generate_data_loader\u001b[1;34m(self, single_image_test_batch, shuffle_train)\u001b[0m\n\u001b[0;32m    102\u001b[0m files\u001b[39m.\u001b[39msort()\n\u001b[0;32m    104\u001b[0m data_split \u001b[39m=\u001b[39m DataSplit(\u001b[39mself\u001b[39m\u001b[39m.\u001b[39mparams, files)\n\u001b[1;32m--> 105\u001b[0m names_train, names_val, names_test \u001b[39m=\u001b[39m data_split\u001b[39m.\u001b[39;49mgenerate_train_val_test_list(\n\u001b[0;32m    106\u001b[0m     files, \u001b[39mself\u001b[39;49m\u001b[39m.\u001b[39;49mparams\u001b[39m.\u001b[39;49mdata_dir\n\u001b[0;32m    107\u001b[0m )\n\u001b[0;32m    109\u001b[0m \u001b[39mself\u001b[39m\u001b[39m.\u001b[39mparams\u001b[39m.\u001b[39mnames_train \u001b[39m=\u001b[39m names_train\n\u001b[0;32m    110\u001b[0m \u001b[39mself\u001b[39m\u001b[39m.\u001b[39mparams\u001b[39m.\u001b[39mnames_val \u001b[39m=\u001b[39m names_val\n",
      "File \u001b[1;32m~\\cnn_framework\\src\\cnn_framework\\utils\\ModelParams.py:104\u001b[0m, in \u001b[0;36mDataSplit.generate_train_val_test_list\u001b[1;34m(self, files, dir_src)\u001b[0m\n\u001b[0;32m    102\u001b[0m \u001b[39m# Raise error if too many elements are required\u001b[39;00m\n\u001b[0;32m    103\u001b[0m \u001b[39mif\u001b[39;00m data_set[\u001b[39m\"\u001b[39m\u001b[39mnumber\u001b[39m\u001b[39m\"\u001b[39m] \u001b[39m>\u001b[39m \u001b[39mlen\u001b[39m(data_set[\u001b[39m\"\u001b[39m\u001b[39mpossible_files\u001b[39m\u001b[39m\"\u001b[39m]):\n\u001b[1;32m--> 104\u001b[0m     \u001b[39mraise\u001b[39;00m \u001b[39mValueError\u001b[39;00m(\u001b[39mf\u001b[39m\u001b[39m\"\u001b[39m\u001b[39mNot enough files for \u001b[39m\u001b[39m{\u001b[39;00mname\u001b[39m}\u001b[39;00m\u001b[39m...\u001b[39m\u001b[39m\"\u001b[39m)\n\u001b[0;32m    105\u001b[0m \u001b[39m# Randomly sample indices\u001b[39;00m\n\u001b[0;32m    106\u001b[0m \u001b[39m# Keep same val and test images at each run\u001b[39;00m\n\u001b[0;32m    107\u001b[0m rd_generator \u001b[39m=\u001b[39m random\u001b[39m.\u001b[39mRandom(\u001b[39mNone\u001b[39;00m \u001b[39mif\u001b[39;00m name \u001b[39m==\u001b[39m \u001b[39m\"\u001b[39m\u001b[39mtrain\u001b[39m\u001b[39m\"\u001b[39m \u001b[39melse\u001b[39;00m \u001b[39m10\u001b[39m)\n",
      "\u001b[1;31mValueError\u001b[0m: Not enough files for train..."
     ]
    }
   ],
   "source": [
    "loader_generator = ClassifierDataLoaderGenerator(params, DummyCnnDataSet, DefaultDataManager)\n",
    "train_dl, val_dl, test_dl = loader_generator.generate_data_loader()"
   ]
  },
  {
   "cell_type": "code",
   "execution_count": null,
   "metadata": {},
   "outputs": [
    {
     "name": "stdout",
     "output_type": "stream",
     "text": [
      "Current commit hash: e5c70f18844d69b575588ec6b3940e9b471f98ce\n"
     ]
    }
   ],
   "source": [
    "model = DummyCnn(\n",
    "    nb_classes=params.nb_classes,\n",
    "    nb_input_channels=params.nb_modalities * params.nb_stacks_per_modality,\n",
    ")\n",
    "\n",
    "manager = CnnModelManager(model, params, ClassificationAccuracy)\n",
    "\n",
    "optimizer = optim.Adam(\n",
    "    model.parameters(), lr=float(params.learning_rate), betas=(params.beta1, params.beta2),\n",
    ")  # define the optimization\n",
    "\n",
    "loss_function = nn.CrossEntropyLoss()  # define the loss function"
   ]
  },
  {
   "cell_type": "code",
   "execution_count": null,
   "metadata": {},
   "outputs": [
    {
     "name": "stdout",
     "output_type": "stream",
     "text": [
      "Training in progress: 100.0% | Local step 79 | Epoch 9\n",
      "Best model saved at epoch 9.\n",
      "\n",
      "Training successfully finished in 0:00:28.921568.\n"
     ]
    }
   ],
   "source": [
    "manager.fit(train_dl, val_dl, optimizer, loss_function)"
   ]
  },
  {
   "cell_type": "code",
   "execution_count": null,
   "metadata": {},
   "outputs": [
    {
     "name": "stdout",
     "output_type": "stream",
     "text": [
      "\n",
      "Predicting with early stopping model.\n",
      "Model evaluation in progress: 100.0% | Batch #9\n",
      "Average ClassificationAccuracy: 1.0\n",
      "\n",
      "Predicting with final model.\n",
      "Model evaluation in progress: 100.0% | Batch #9\n",
      "Average ClassificationAccuracy: 1.0\n"
     ]
    },
    {
     "data": {
      "image/png": "[encoded data removed]",
      "text/plain": [
       "<Figure size 500x500 with 1 Axes>"
      ]
     },
     "metadata": {},
     "output_type": "display_data"
    },
    {
     "data": {
      "image/png": "[encoded data removed]",
      "text/plain": [
       "<Figure size 500x500 with 1 Axes>"
      ]
     },
     "metadata": {},
     "output_type": "display_data"
    }
   ],
   "source": [
    "for model_path, name in zip(\n",
    "    [manager.model_save_path_early_stopping, manager.model_save_path],\n",
    "    [\"early stopping\", \"final\"],\n",
    "):\n",
    "    print(f\"\\nPredicting with {name} model.\")\n",
    "    # Update model with saved one\n",
    "    manager.model.load_state_dict(torch.load(model_path))\n",
    "    manager.predict(test_dl)"
   ]
  }
 ],
 "metadata": {
  "kernelspec": {
   "display_name": "pytorch-env2",
   "language": "python",
   "name": "python3"
  },
  "language_info": {
   "codemirror_mode": {
    "name": "ipython",
    "version": 3
   },
   "file_extension": ".py",
   "mimetype": "text/x-python",
   "name": "python",
   "nbconvert_exporter": "python",
   "pygments_lexer": "ipython3",
   "version": "3.9.13"
  },
  "orig_nbformat": 4
 },
 "nbformat": 4,
 "nbformat_minor": 2
}
