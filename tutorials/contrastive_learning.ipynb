{
 "cells": [
  {
   "cell_type": "markdown",
   "metadata": {},
   "source": [
    "# Contrastive learning"
   ]
  },
  {
   "cell_type": "markdown",
   "metadata": {},
   "source": [
    "This notebook runs Sim-CLR on our images (square or circle)."
   ]
  },
  {
   "cell_type": "code",
   "execution_count": 1,
   "metadata": {},
   "outputs": [],
   "source": [
    "import os\n",
    "\n",
    "from cnn_framework.utils.data_loader_generators.data_loader_generator import DataLoaderGenerator\n",
    "from cnn_framework.utils.data_managers.default_data_manager import DefaultDataManager\n",
    "from cnn_framework.utils.lr_schedulers.linear_warmup_cosine_annealing_lr import (\n",
    "    LinearWarmupCosineAnnealingLR,\n",
    ")\n",
    "from cnn_framework.utils.metrics.positive_pair_matching_metric import PositivePairMatchingMetric\n",
    "from cnn_framework.utils.optimizers.lars import create_optimizer_lars\n",
    "from cnn_framework.utils.model_managers.contrastive_model_manager import ContrastiveModelManager\n",
    "from cnn_framework.utils.losses.info_nce_loss import InfoNceLoss\n",
    "from cnn_framework.utils.create_dummy_data_set import generate_data_set\n",
    "\n",
    "from cnn_framework.dummy_sim_clr.data_set import SimCLRDataSet\n",
    "from cnn_framework.dummy_sim_clr.model import ResNetSimCLR\n",
    "from cnn_framework.dummy_sim_clr.model_params import SimCLRModelParams\n"
   ]
  },
  {
   "cell_type": "code",
   "execution_count": 2,
   "metadata": {},
   "outputs": [
    {
     "name": "stdout",
     "output_type": "stream",
     "text": [
      "Model time id: 20230928-144116-local\n",
      "epochs 50 | batch 32 | lr 0.0375 | weight decay 1e-06 | dropout 0.0\n",
      "\n",
      "Model will be saved in C:\\Users\\thoma\\models/local/sim_clr/20230928-144116-local\n",
      "Predictions will be saved in C:\\Users\\thoma\\predictions/local/sim_clr/20230928-144116-local\n",
      "Tensorboard logs will be saved in C:\\Users\\thoma\\tensorboard/local/20230928-144116-local_sim_clr\n"
     ]
    }
   ],
   "source": [
    "params = SimCLRModelParams()\n",
    "params.update()\n",
    "\n",
    "# Create data set if needed\n",
    "if not os.path.exists(params.data_dir):\n",
    "    generate_data_set(params.data_dir)\n",
    "    print(f\"\\nData set created in {params.data_dir}\")\n",
    "\n",
    "print(f\"\\nModel will be saved in {params.models_folder}\")\n",
    "print(f\"Predictions will be saved in {params.output_dir}\")\n",
    "print(f\"Tensorboard logs will be saved in {params.tensorboard_folder_path}\")"
   ]
  },
  {
   "cell_type": "code",
   "execution_count": 3,
   "metadata": {},
   "outputs": [
    {
     "name": "stdout",
     "output_type": "stream",
     "text": [
      "### Data source ###\n",
      "train data is loaded from C:\\Users\\thoma\\data\\dummy - 80% elements\n",
      "val data is loaded from C:\\Users\\thoma\\data\\dummy - 10% elements\n",
      "test data is loaded from C:\\Users\\thoma\\data\\dummy - 10% elements\n",
      "###################\n",
      "train has 160 images.\n",
      "val has 20 images.\n",
      "test has 20 images.\n",
      "###################\n"
     ]
    }
   ],
   "source": [
    "loader_generator = DataLoaderGenerator(params, SimCLRDataSet, DefaultDataManager)\n",
    "train_dl, val_dl, test_dl = loader_generator.generate_data_loader()"
   ]
  },
  {
   "cell_type": "code",
   "execution_count": 4,
   "metadata": {},
   "outputs": [
    {
     "name": "stdout",
     "output_type": "stream",
     "text": [
      "Current commit hash: 3531c7365ab2d6c158b506b2444c84fade7107e6\n"
     ]
    }
   ],
   "source": [
    "model = ResNetSimCLR(\n",
    "        nb_input_channels=len(params.c_indexes) * len(params.z_indexes),\n",
    "    )\n",
    "manager = ContrastiveModelManager(model, params, PositivePairMatchingMetric)\n",
    "\n",
    "optimizer = create_optimizer_lars(\n",
    "    model,\n",
    "    lr=params.learning_rate,\n",
    "    momentum=0.9,\n",
    "    weight_decay=params.weight_decay,\n",
    "    bn_bias_separately=True,\n",
    "    epsilon=1e-5,\n",
    ")\n",
    "loss_function = InfoNceLoss(manager.device, params.temperature)  # define the loss function\n",
    "lr_scheduler = LinearWarmupCosineAnnealingLR(\n",
    "    optimizer, warmup_epochs=params.nb_warmup_epochs, max_epochs=params.num_epochs\n",
    ")"
   ]
  },
  {
   "cell_type": "code",
   "execution_count": 5,
   "metadata": {},
   "outputs": [
    {
     "name": "stdout",
     "output_type": "stream",
     "text": [
      "Training in progress: 100.0% | Local step 5 | Epoch 50\n",
      "Best model saved at epoch 45.\n",
      "\n",
      "Training successfully finished in 0:01:26.267799.\n"
     ]
    }
   ],
   "source": [
    "manager.fit(train_dl, val_dl, optimizer, loss_function, lr_scheduler=lr_scheduler)"
   ]
  },
  {
   "cell_type": "code",
   "execution_count": 6,
   "metadata": {},
   "outputs": [
    {
     "name": "stdout",
     "output_type": "stream",
     "text": [
      "Model evaluation in progress: 100.0% | Batch #0\n",
      "Average PositivePairMatchingMetric: 1.0\n"
     ]
    }
   ],
   "source": [
    "manager.predict(test_dl)"
   ]
  }
 ],
 "metadata": {
  "kernelspec": {
   "display_name": "pytorch-env2",
   "language": "python",
   "name": "python3"
  },
  "language_info": {
   "codemirror_mode": {
    "name": "ipython",
    "version": 3
   },
   "file_extension": ".py",
   "mimetype": "text/x-python",
   "name": "python",
   "nbconvert_exporter": "python",
   "pygments_lexer": "ipython3",
   "version": "3.9.13"
  },
  "orig_nbformat": 4
 },
 "nbformat": 4,
 "nbformat_minor": 2
}
